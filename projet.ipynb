{
  "nbformat": 4,
  "nbformat_minor": 0,
  "metadata": {
    "colab": {
      "name": "Untitled0.ipynb",
      "provenance": [],
      "collapsed_sections": []
    },
    "kernelspec": {
      "display_name": "Python 3",
      "name": "python3"
    },
    "language_info": {
      "name": "python"
    }
  },
  "cells": [
    {
      "cell_type": "code",
      "metadata": {
        "colab": {
          "base_uri": "https://localhost:8080/"
        },
        "id": "zfrluZHFeoJi",
        "outputId": "eac532cd-79c6-4f2d-b8f6-22e496ef481c"
      },
      "source": [
        "from google.colab import drive\n",
        "drive.mount('/content/drive')"
      ],
      "execution_count": 24,
      "outputs": [
        {
          "output_type": "stream",
          "name": "stdout",
          "text": [
            "Drive already mounted at /content/drive; to attempt to forcibly remount, call drive.mount(\"/content/drive\", force_remount=True).\n"
          ]
        }
      ]
    },
    {
      "cell_type": "code",
      "metadata": {
        "colab": {
          "base_uri": "https://localhost:8080/"
        },
        "id": "TbeBnPjMj8Wt",
        "outputId": "c7839e77-468f-4ff5-ea76-343568a7c1f9"
      },
      "source": [
        "import pandas as pd\n",
        "df_one_line = pd.read_json('/content/drive/My Drive/datasets/nirra-log-bot/2021-03-17.json')\n",
        "df_one_line.info()\n"
      ],
      "execution_count": 26,
      "outputs": [
        {
          "output_type": "stream",
          "name": "stdout",
          "text": [
            "<class 'pandas.core.frame.DataFrame'>\n",
            "RangeIndex: 13 entries, 0 to 12\n",
            "Data columns (total 7 columns):\n",
            " #   Column    Non-Null Count  Dtype  \n",
            "---  ------    --------------  -----  \n",
            " 0   type      13 non-null     object \n",
            " 1   subtype   13 non-null     object \n",
            " 2   ts        13 non-null     float64\n",
            " 3   user      4 non-null      object \n",
            " 4   text      13 non-null     object \n",
            " 5   bot_id    10 non-null     object \n",
            " 6   bot_link  1 non-null      object \n",
            "dtypes: float64(1), object(6)\n",
            "memory usage: 856.0+ bytes\n"
          ]
        }
      ]
    },
    {
      "cell_type": "code",
      "metadata": {
        "id": "HDZLS2SVpWRA"
      },
      "source": [
        "import os\n",
        "import glob"
      ],
      "execution_count": 27,
      "outputs": []
    },
    {
      "cell_type": "code",
      "metadata": {
        "id": "G9kYyZKupaKF"
      },
      "source": [
        "import os,json\n",
        "import pandas as pd\n",
        "\n",
        "# read json file\n",
        "path_to_json = '/content/drive/My Drive/datasets/nirra-log-bot/'\n",
        "\n",
        "# read all json files\n",
        "for file_name in [file for file in os.listdir(path_to_json) if file.endswith('.json')]:\n",
        "  with open(path_to_json + file_name) as json_file:\n",
        "    data = json.load(json_file)\n",
        "    df_raw = pd.DataFrame.from_records(data)\n",
        "\n",
        "# convert file to csv\n",
        "df_raw.to_csv('/content/drive/My Drive/datasets/nirra-log-bot/csv/file_name.csv', sep=';')"
      ],
      "execution_count": 28,
      "outputs": []
    },
    {
      "cell_type": "code",
      "metadata": {
        "colab": {
          "base_uri": "https://localhost:8080/",
          "height": 203
        },
        "id": "F4q9nXruZEeS",
        "outputId": "8927a170-46eb-4eaf-8a93-75bf2151128b"
      },
      "source": [
        "df_raw.head()"
      ],
      "execution_count": 5,
      "outputs": [
        {
          "output_type": "execute_result",
          "data": {
            "text/html": [
              "<div>\n",
              "<style scoped>\n",
              "    .dataframe tbody tr th:only-of-type {\n",
              "        vertical-align: middle;\n",
              "    }\n",
              "\n",
              "    .dataframe tbody tr th {\n",
              "        vertical-align: top;\n",
              "    }\n",
              "\n",
              "    .dataframe thead th {\n",
              "        text-align: right;\n",
              "    }\n",
              "</style>\n",
              "<table border=\"1\" class=\"dataframe\">\n",
              "  <thead>\n",
              "    <tr style=\"text-align: right;\">\n",
              "      <th></th>\n",
              "      <th>type</th>\n",
              "      <th>subtype</th>\n",
              "      <th>text</th>\n",
              "      <th>ts</th>\n",
              "      <th>bot_id</th>\n",
              "    </tr>\n",
              "  </thead>\n",
              "  <tbody>\n",
              "    <tr>\n",
              "      <th>0</th>\n",
              "      <td>message</td>\n",
              "      <td>bot_message</td>\n",
              "      <td>[info] - [\"[API REQUEST]: 07083075646, /client...</td>\n",
              "      <td>1630825434.000100</td>\n",
              "      <td>B01RC3AKYG6</td>\n",
              "    </tr>\n",
              "    <tr>\n",
              "      <th>1</th>\n",
              "      <td>message</td>\n",
              "      <td>bot_message</td>\n",
              "      <td>[info] - [\"[API REQUEST]: 07083075646, /client...</td>\n",
              "      <td>1630825435.000200</td>\n",
              "      <td>B01RC3AKYG6</td>\n",
              "    </tr>\n",
              "    <tr>\n",
              "      <th>2</th>\n",
              "      <td>message</td>\n",
              "      <td>bot_message</td>\n",
              "      <td>[info] - [\"[API REQUEST]: 07083075646, /client...</td>\n",
              "      <td>1630825435.000300</td>\n",
              "      <td>B01RC3AKYG6</td>\n",
              "    </tr>\n",
              "    <tr>\n",
              "      <th>3</th>\n",
              "      <td>message</td>\n",
              "      <td>bot_message</td>\n",
              "      <td>[info] - [\"[API REQUEST]: 07083075646, /client...</td>\n",
              "      <td>1630825435.000400</td>\n",
              "      <td>B01RC3AKYG6</td>\n",
              "    </tr>\n",
              "    <tr>\n",
              "      <th>4</th>\n",
              "      <td>message</td>\n",
              "      <td>bot_message</td>\n",
              "      <td>[info] - [\"[API REQUEST]: 07083075646, /client...</td>\n",
              "      <td>1630825438.000500</td>\n",
              "      <td>B01RC3AKYG6</td>\n",
              "    </tr>\n",
              "  </tbody>\n",
              "</table>\n",
              "</div>"
            ],
            "text/plain": [
              "      type      subtype  ...                 ts       bot_id\n",
              "0  message  bot_message  ...  1630825434.000100  B01RC3AKYG6\n",
              "1  message  bot_message  ...  1630825435.000200  B01RC3AKYG6\n",
              "2  message  bot_message  ...  1630825435.000300  B01RC3AKYG6\n",
              "3  message  bot_message  ...  1630825435.000400  B01RC3AKYG6\n",
              "4  message  bot_message  ...  1630825438.000500  B01RC3AKYG6\n",
              "\n",
              "[5 rows x 5 columns]"
            ]
          },
          "metadata": {},
          "execution_count": 5
        }
      ]
    },
    {
      "cell_type": "code",
      "metadata": {
        "colab": {
          "base_uri": "https://localhost:8080/"
        },
        "id": "l1tAb3ZqNXxk",
        "outputId": "659d8020-31e0-4fdd-ae09-956facfbe3a7"
      },
      "source": [
        " df_raw['text'].str.contains(\"@\").sum() # search total number of @ within text column"
      ],
      "execution_count": 6,
      "outputs": [
        {
          "output_type": "execute_result",
          "data": {
            "text/plain": [
              "41"
            ]
          },
          "metadata": {},
          "execution_count": 6
        }
      ]
    },
    {
      "cell_type": "code",
      "metadata": {
        "colab": {
          "base_uri": "https://localhost:8080/"
        },
        "id": "HeGSk83nO1U4",
        "outputId": "6b88d0e6-eb7f-456c-a78a-bc154ed7dec2"
      },
      "source": [
        "df_raw['text'].str.contains(\"@\")"
      ],
      "execution_count": 7,
      "outputs": [
        {
          "output_type": "execute_result",
          "data": {
            "text/plain": [
              "0       False\n",
              "1       False\n",
              "2       False\n",
              "3       False\n",
              "4       False\n",
              "        ...  \n",
              "5475    False\n",
              "5476    False\n",
              "5477    False\n",
              "5478    False\n",
              "5479    False\n",
              "Name: text, Length: 5480, dtype: bool"
            ]
          },
          "metadata": {},
          "execution_count": 7
        }
      ]
    },
    {
      "cell_type": "code",
      "metadata": {
        "colab": {
          "base_uri": "https://localhost:8080/",
          "height": 1000
        },
        "id": "sOYCDMimN7Os",
        "outputId": "d28324f0-aec5-4c15-91c5-90d86659c081"
      },
      "source": [
        "# slicing\n",
        "df_raw[df_raw['text'].str.contains(\"@\")] # masque à l'intérieur des crochets"
      ],
      "execution_count": 8,
      "outputs": [
        {
          "output_type": "execute_result",
          "data": {
            "text/html": [
              "<div>\n",
              "<style scoped>\n",
              "    .dataframe tbody tr th:only-of-type {\n",
              "        vertical-align: middle;\n",
              "    }\n",
              "\n",
              "    .dataframe tbody tr th {\n",
              "        vertical-align: top;\n",
              "    }\n",
              "\n",
              "    .dataframe thead th {\n",
              "        text-align: right;\n",
              "    }\n",
              "</style>\n",
              "<table border=\"1\" class=\"dataframe\">\n",
              "  <thead>\n",
              "    <tr style=\"text-align: right;\">\n",
              "      <th></th>\n",
              "      <th>type</th>\n",
              "      <th>subtype</th>\n",
              "      <th>text</th>\n",
              "      <th>ts</th>\n",
              "      <th>bot_id</th>\n",
              "    </tr>\n",
              "  </thead>\n",
              "  <tbody>\n",
              "    <tr>\n",
              "      <th>836</th>\n",
              "      <td>message</td>\n",
              "      <td>bot_message</td>\n",
              "      <td>[info] - [\"[CLIENT MOBILE LOGIN]: &lt;mailto:fehi...</td>\n",
              "      <td>1630834047.040000</td>\n",
              "      <td>B01RC3AKYG6</td>\n",
              "    </tr>\n",
              "    <tr>\n",
              "      <th>837</th>\n",
              "      <td>message</td>\n",
              "      <td>bot_message</td>\n",
              "      <td>[info] - [\"[API REQUEST]: &lt;mailto:fehintolaayo...</td>\n",
              "      <td>1630834050.040100</td>\n",
              "      <td>B01RC3AKYG6</td>\n",
              "    </tr>\n",
              "    <tr>\n",
              "      <th>838</th>\n",
              "      <td>message</td>\n",
              "      <td>bot_message</td>\n",
              "      <td>[info] - [\"[API REQUEST]: &lt;mailto:fehintolaayo...</td>\n",
              "      <td>1630834055.040200</td>\n",
              "      <td>B01RC3AKYG6</td>\n",
              "    </tr>\n",
              "    <tr>\n",
              "      <th>839</th>\n",
              "      <td>message</td>\n",
              "      <td>bot_message</td>\n",
              "      <td>[info] - [\"[API REQUEST]: &lt;mailto:fehintolaayo...</td>\n",
              "      <td>1630834055.040300</td>\n",
              "      <td>B01RC3AKYG6</td>\n",
              "    </tr>\n",
              "    <tr>\n",
              "      <th>840</th>\n",
              "      <td>message</td>\n",
              "      <td>bot_message</td>\n",
              "      <td>[info] - [\"[API REQUEST]: &lt;mailto:fehintolaayo...</td>\n",
              "      <td>1630834055.040400</td>\n",
              "      <td>B01RC3AKYG6</td>\n",
              "    </tr>\n",
              "    <tr>\n",
              "      <th>841</th>\n",
              "      <td>message</td>\n",
              "      <td>bot_message</td>\n",
              "      <td>[info] - [\"[API REQUEST]: &lt;mailto:fehintolaayo...</td>\n",
              "      <td>1630834057.040500</td>\n",
              "      <td>B01RC3AKYG6</td>\n",
              "    </tr>\n",
              "    <tr>\n",
              "      <th>848</th>\n",
              "      <td>message</td>\n",
              "      <td>bot_message</td>\n",
              "      <td>[info] - [\"[API REQUEST]: &lt;mailto:fehintolaayo...</td>\n",
              "      <td>1630834063.041200</td>\n",
              "      <td>B01RC3AKYG6</td>\n",
              "    </tr>\n",
              "    <tr>\n",
              "      <th>849</th>\n",
              "      <td>message</td>\n",
              "      <td>bot_message</td>\n",
              "      <td>[info] - [\"[API REQUEST]: &lt;mailto:fehintolaayo...</td>\n",
              "      <td>1630834064.041300</td>\n",
              "      <td>B01RC3AKYG6</td>\n",
              "    </tr>\n",
              "    <tr>\n",
              "      <th>850</th>\n",
              "      <td>message</td>\n",
              "      <td>bot_message</td>\n",
              "      <td>[info] - [\"[API REQUEST]: &lt;mailto:fehintolaayo...</td>\n",
              "      <td>1630834065.041400</td>\n",
              "      <td>B01RC3AKYG6</td>\n",
              "    </tr>\n",
              "    <tr>\n",
              "      <th>851</th>\n",
              "      <td>message</td>\n",
              "      <td>bot_message</td>\n",
              "      <td>[info] - [\"[API REQUEST]: &lt;mailto:fehintolaayo...</td>\n",
              "      <td>1630834069.041500</td>\n",
              "      <td>B01RC3AKYG6</td>\n",
              "    </tr>\n",
              "    <tr>\n",
              "      <th>854</th>\n",
              "      <td>message</td>\n",
              "      <td>bot_message</td>\n",
              "      <td>[info] - [\"[API REQUEST]: &lt;mailto:fehintolaayo...</td>\n",
              "      <td>1630834070.041800</td>\n",
              "      <td>B01RC3AKYG6</td>\n",
              "    </tr>\n",
              "    <tr>\n",
              "      <th>855</th>\n",
              "      <td>message</td>\n",
              "      <td>bot_message</td>\n",
              "      <td>[info] - [\"[API REQUEST]: &lt;mailto:fehintolaayo...</td>\n",
              "      <td>1630834074.041900</td>\n",
              "      <td>B01RC3AKYG6</td>\n",
              "    </tr>\n",
              "    <tr>\n",
              "      <th>856</th>\n",
              "      <td>message</td>\n",
              "      <td>bot_message</td>\n",
              "      <td>[info] - [\"[API REQUEST]: &lt;mailto:fehintolaayo...</td>\n",
              "      <td>1630834077.042000</td>\n",
              "      <td>B01RC3AKYG6</td>\n",
              "    </tr>\n",
              "    <tr>\n",
              "      <th>857</th>\n",
              "      <td>message</td>\n",
              "      <td>bot_message</td>\n",
              "      <td>[info] - [\"[API REQUEST]: &lt;mailto:fehintolaayo...</td>\n",
              "      <td>1630834077.042100</td>\n",
              "      <td>B01RC3AKYG6</td>\n",
              "    </tr>\n",
              "    <tr>\n",
              "      <th>858</th>\n",
              "      <td>message</td>\n",
              "      <td>bot_message</td>\n",
              "      <td>[info] - [\"[API REQUEST]: &lt;mailto:fehintolaayo...</td>\n",
              "      <td>1630834086.042200</td>\n",
              "      <td>B01RC3AKYG6</td>\n",
              "    </tr>\n",
              "    <tr>\n",
              "      <th>861</th>\n",
              "      <td>message</td>\n",
              "      <td>bot_message</td>\n",
              "      <td>[info] - [\"[API REQUEST]: &lt;mailto:fehintolaayo...</td>\n",
              "      <td>1630834089.042500</td>\n",
              "      <td>B01RC3AKYG6</td>\n",
              "    </tr>\n",
              "    <tr>\n",
              "      <th>862</th>\n",
              "      <td>message</td>\n",
              "      <td>bot_message</td>\n",
              "      <td>[info] - [\"[API REQUEST]: &lt;mailto:fehintolaayo...</td>\n",
              "      <td>1630834090.042600</td>\n",
              "      <td>B01RC3AKYG6</td>\n",
              "    </tr>\n",
              "    <tr>\n",
              "      <th>866</th>\n",
              "      <td>message</td>\n",
              "      <td>bot_message</td>\n",
              "      <td>[info] - [\"[API REQUEST]: &lt;mailto:fehintolaayo...</td>\n",
              "      <td>1630834094.043000</td>\n",
              "      <td>B01RC3AKYG6</td>\n",
              "    </tr>\n",
              "    <tr>\n",
              "      <th>867</th>\n",
              "      <td>message</td>\n",
              "      <td>bot_message</td>\n",
              "      <td>[info] - [\"[API REQUEST]: &lt;mailto:fehintolaayo...</td>\n",
              "      <td>1630834097.043100</td>\n",
              "      <td>B01RC3AKYG6</td>\n",
              "    </tr>\n",
              "    <tr>\n",
              "      <th>868</th>\n",
              "      <td>message</td>\n",
              "      <td>bot_message</td>\n",
              "      <td>[info] - [\"[API REQUEST]: &lt;mailto:fehintolaayo...</td>\n",
              "      <td>1630834097.043200</td>\n",
              "      <td>B01RC3AKYG6</td>\n",
              "    </tr>\n",
              "    <tr>\n",
              "      <th>870</th>\n",
              "      <td>message</td>\n",
              "      <td>bot_message</td>\n",
              "      <td>[info] - [\"[API REQUEST]: &lt;mailto:fehintolaayo...</td>\n",
              "      <td>1630834110.043400</td>\n",
              "      <td>B01RC3AKYG6</td>\n",
              "    </tr>\n",
              "    <tr>\n",
              "      <th>872</th>\n",
              "      <td>message</td>\n",
              "      <td>bot_message</td>\n",
              "      <td>[info] - [\"[API REQUEST]: &lt;mailto:fehintolaayo...</td>\n",
              "      <td>1630834117.043600</td>\n",
              "      <td>B01RC3AKYG6</td>\n",
              "    </tr>\n",
              "    <tr>\n",
              "      <th>874</th>\n",
              "      <td>message</td>\n",
              "      <td>bot_message</td>\n",
              "      <td>[info] - [\"[API REQUEST]: &lt;mailto:fehintolaayo...</td>\n",
              "      <td>1630834118.043800</td>\n",
              "      <td>B01RC3AKYG6</td>\n",
              "    </tr>\n",
              "    <tr>\n",
              "      <th>875</th>\n",
              "      <td>message</td>\n",
              "      <td>bot_message</td>\n",
              "      <td>[info] - [\"[API REQUEST]: &lt;mailto:fehintolaayo...</td>\n",
              "      <td>1630834120.043900</td>\n",
              "      <td>B01RC3AKYG6</td>\n",
              "    </tr>\n",
              "    <tr>\n",
              "      <th>876</th>\n",
              "      <td>message</td>\n",
              "      <td>bot_message</td>\n",
              "      <td>[info] - [\"[API REQUEST]: &lt;mailto:fehintolaayo...</td>\n",
              "      <td>1630834124.044000</td>\n",
              "      <td>B01RC3AKYG6</td>\n",
              "    </tr>\n",
              "    <tr>\n",
              "      <th>877</th>\n",
              "      <td>message</td>\n",
              "      <td>bot_message</td>\n",
              "      <td>[info] - [\"[API REQUEST]: &lt;mailto:fehintolaayo...</td>\n",
              "      <td>1630834128.044100</td>\n",
              "      <td>B01RC3AKYG6</td>\n",
              "    </tr>\n",
              "    <tr>\n",
              "      <th>878</th>\n",
              "      <td>message</td>\n",
              "      <td>bot_message</td>\n",
              "      <td>[info] - [\"[API REQUEST]: &lt;mailto:fehintolaayo...</td>\n",
              "      <td>1630834129.044200</td>\n",
              "      <td>B01RC3AKYG6</td>\n",
              "    </tr>\n",
              "    <tr>\n",
              "      <th>879</th>\n",
              "      <td>message</td>\n",
              "      <td>bot_message</td>\n",
              "      <td>[info] - [\"[API REQUEST]: &lt;mailto:fehintolaayo...</td>\n",
              "      <td>1630834129.044300</td>\n",
              "      <td>B01RC3AKYG6</td>\n",
              "    </tr>\n",
              "    <tr>\n",
              "      <th>880</th>\n",
              "      <td>message</td>\n",
              "      <td>bot_message</td>\n",
              "      <td>[info] - [\"[API REQUEST]: &lt;mailto:fehintolaayo...</td>\n",
              "      <td>1630834131.044400</td>\n",
              "      <td>B01RC3AKYG6</td>\n",
              "    </tr>\n",
              "    <tr>\n",
              "      <th>881</th>\n",
              "      <td>message</td>\n",
              "      <td>bot_message</td>\n",
              "      <td>[info] - [\"[API REQUEST]: &lt;mailto:fehintolaayo...</td>\n",
              "      <td>1630834132.044500</td>\n",
              "      <td>B01RC3AKYG6</td>\n",
              "    </tr>\n",
              "    <tr>\n",
              "      <th>882</th>\n",
              "      <td>message</td>\n",
              "      <td>bot_message</td>\n",
              "      <td>[info] - [\"[API REQUEST]: &lt;mailto:fehintolaayo...</td>\n",
              "      <td>1630834133.044600</td>\n",
              "      <td>B01RC3AKYG6</td>\n",
              "    </tr>\n",
              "    <tr>\n",
              "      <th>883</th>\n",
              "      <td>message</td>\n",
              "      <td>bot_message</td>\n",
              "      <td>[info] - [\"[API REQUEST]: &lt;mailto:fehintolaayo...</td>\n",
              "      <td>1630834138.044700</td>\n",
              "      <td>B01RC3AKYG6</td>\n",
              "    </tr>\n",
              "    <tr>\n",
              "      <th>884</th>\n",
              "      <td>message</td>\n",
              "      <td>bot_message</td>\n",
              "      <td>[info] - [\"[API REQUEST]: &lt;mailto:fehintolaayo...</td>\n",
              "      <td>1630834139.044800</td>\n",
              "      <td>B01RC3AKYG6</td>\n",
              "    </tr>\n",
              "    <tr>\n",
              "      <th>885</th>\n",
              "      <td>message</td>\n",
              "      <td>bot_message</td>\n",
              "      <td>[info] - [\"[API REQUEST]: &lt;mailto:fehintolaayo...</td>\n",
              "      <td>1630834139.044900</td>\n",
              "      <td>B01RC3AKYG6</td>\n",
              "    </tr>\n",
              "    <tr>\n",
              "      <th>886</th>\n",
              "      <td>message</td>\n",
              "      <td>bot_message</td>\n",
              "      <td>[info] - [\"[API REQUEST]: &lt;mailto:fehintolaayo...</td>\n",
              "      <td>1630834139.045000</td>\n",
              "      <td>B01RC3AKYG6</td>\n",
              "    </tr>\n",
              "    <tr>\n",
              "      <th>887</th>\n",
              "      <td>message</td>\n",
              "      <td>bot_message</td>\n",
              "      <td>[info] - [\"[API REQUEST]: &lt;mailto:fehintolaayo...</td>\n",
              "      <td>1630834139.045100</td>\n",
              "      <td>B01RC3AKYG6</td>\n",
              "    </tr>\n",
              "    <tr>\n",
              "      <th>888</th>\n",
              "      <td>message</td>\n",
              "      <td>bot_message</td>\n",
              "      <td>[info] - [\"[API REQUEST]: &lt;mailto:fehintolaayo...</td>\n",
              "      <td>1630834139.045200</td>\n",
              "      <td>B01RC3AKYG6</td>\n",
              "    </tr>\n",
              "    <tr>\n",
              "      <th>889</th>\n",
              "      <td>message</td>\n",
              "      <td>bot_message</td>\n",
              "      <td>[info] - [\"[API REQUEST]: &lt;mailto:fehintolaayo...</td>\n",
              "      <td>1630834140.045300</td>\n",
              "      <td>B01RC3AKYG6</td>\n",
              "    </tr>\n",
              "    <tr>\n",
              "      <th>890</th>\n",
              "      <td>message</td>\n",
              "      <td>bot_message</td>\n",
              "      <td>[info] - [\"[API REQUEST]: &lt;mailto:fehintolaayo...</td>\n",
              "      <td>1630834143.045400</td>\n",
              "      <td>B01RC3AKYG6</td>\n",
              "    </tr>\n",
              "    <tr>\n",
              "      <th>5419</th>\n",
              "      <td>message</td>\n",
              "      <td>bot_message</td>\n",
              "      <td>[info] - [\"[OKRA PAYLOAD]:\",\"{\\\"name\\\":\\\"Liber...</td>\n",
              "      <td>1630911146.002700</td>\n",
              "      <td>B01RC3AKYG6</td>\n",
              "    </tr>\n",
              "    <tr>\n",
              "      <th>5443</th>\n",
              "      <td>message</td>\n",
              "      <td>bot_message</td>\n",
              "      <td>[info] - [\"[OKRA PAYLOAD]:\",\"{\\\"name\\\":\\\"Liber...</td>\n",
              "      <td>1630911224.005100</td>\n",
              "      <td>B01RC3AKYG6</td>\n",
              "    </tr>\n",
              "  </tbody>\n",
              "</table>\n",
              "</div>"
            ],
            "text/plain": [
              "         type      subtype  ...                 ts       bot_id\n",
              "836   message  bot_message  ...  1630834047.040000  B01RC3AKYG6\n",
              "837   message  bot_message  ...  1630834050.040100  B01RC3AKYG6\n",
              "838   message  bot_message  ...  1630834055.040200  B01RC3AKYG6\n",
              "839   message  bot_message  ...  1630834055.040300  B01RC3AKYG6\n",
              "840   message  bot_message  ...  1630834055.040400  B01RC3AKYG6\n",
              "841   message  bot_message  ...  1630834057.040500  B01RC3AKYG6\n",
              "848   message  bot_message  ...  1630834063.041200  B01RC3AKYG6\n",
              "849   message  bot_message  ...  1630834064.041300  B01RC3AKYG6\n",
              "850   message  bot_message  ...  1630834065.041400  B01RC3AKYG6\n",
              "851   message  bot_message  ...  1630834069.041500  B01RC3AKYG6\n",
              "854   message  bot_message  ...  1630834070.041800  B01RC3AKYG6\n",
              "855   message  bot_message  ...  1630834074.041900  B01RC3AKYG6\n",
              "856   message  bot_message  ...  1630834077.042000  B01RC3AKYG6\n",
              "857   message  bot_message  ...  1630834077.042100  B01RC3AKYG6\n",
              "858   message  bot_message  ...  1630834086.042200  B01RC3AKYG6\n",
              "861   message  bot_message  ...  1630834089.042500  B01RC3AKYG6\n",
              "862   message  bot_message  ...  1630834090.042600  B01RC3AKYG6\n",
              "866   message  bot_message  ...  1630834094.043000  B01RC3AKYG6\n",
              "867   message  bot_message  ...  1630834097.043100  B01RC3AKYG6\n",
              "868   message  bot_message  ...  1630834097.043200  B01RC3AKYG6\n",
              "870   message  bot_message  ...  1630834110.043400  B01RC3AKYG6\n",
              "872   message  bot_message  ...  1630834117.043600  B01RC3AKYG6\n",
              "874   message  bot_message  ...  1630834118.043800  B01RC3AKYG6\n",
              "875   message  bot_message  ...  1630834120.043900  B01RC3AKYG6\n",
              "876   message  bot_message  ...  1630834124.044000  B01RC3AKYG6\n",
              "877   message  bot_message  ...  1630834128.044100  B01RC3AKYG6\n",
              "878   message  bot_message  ...  1630834129.044200  B01RC3AKYG6\n",
              "879   message  bot_message  ...  1630834129.044300  B01RC3AKYG6\n",
              "880   message  bot_message  ...  1630834131.044400  B01RC3AKYG6\n",
              "881   message  bot_message  ...  1630834132.044500  B01RC3AKYG6\n",
              "882   message  bot_message  ...  1630834133.044600  B01RC3AKYG6\n",
              "883   message  bot_message  ...  1630834138.044700  B01RC3AKYG6\n",
              "884   message  bot_message  ...  1630834139.044800  B01RC3AKYG6\n",
              "885   message  bot_message  ...  1630834139.044900  B01RC3AKYG6\n",
              "886   message  bot_message  ...  1630834139.045000  B01RC3AKYG6\n",
              "887   message  bot_message  ...  1630834139.045100  B01RC3AKYG6\n",
              "888   message  bot_message  ...  1630834139.045200  B01RC3AKYG6\n",
              "889   message  bot_message  ...  1630834140.045300  B01RC3AKYG6\n",
              "890   message  bot_message  ...  1630834143.045400  B01RC3AKYG6\n",
              "5419  message  bot_message  ...  1630911146.002700  B01RC3AKYG6\n",
              "5443  message  bot_message  ...  1630911224.005100  B01RC3AKYG6\n",
              "\n",
              "[41 rows x 5 columns]"
            ]
          },
          "metadata": {},
          "execution_count": 8
        }
      ]
    },
    {
      "cell_type": "code",
      "metadata": {
        "colab": {
          "base_uri": "https://localhost:8080/"
        },
        "id": "9ss1H_t9PZs9",
        "outputId": "ac613757-7edd-4ae2-946a-5012feff8223"
      },
      "source": [
        "df_raw['text'] == None\n"
      ],
      "execution_count": 10,
      "outputs": [
        {
          "output_type": "execute_result",
          "data": {
            "text/plain": [
              "0       False\n",
              "1       False\n",
              "2       False\n",
              "3       False\n",
              "4       False\n",
              "        ...  \n",
              "5475    False\n",
              "5476    False\n",
              "5477    False\n",
              "5478    False\n",
              "5479    False\n",
              "Name: text, Length: 5480, dtype: bool"
            ]
          },
          "metadata": {},
          "execution_count": 10
        }
      ]
    },
    {
      "cell_type": "code",
      "metadata": {
        "colab": {
          "base_uri": "https://localhost:8080/",
          "height": 49
        },
        "id": "7TN5BDtoPudJ",
        "outputId": "ebe5b7a8-e303-4b7c-cc4c-f4d5e6703aa0"
      },
      "source": [
        "df_raw[df_raw['text'] == None]"
      ],
      "execution_count": 11,
      "outputs": [
        {
          "output_type": "execute_result",
          "data": {
            "text/html": [
              "<div>\n",
              "<style scoped>\n",
              "    .dataframe tbody tr th:only-of-type {\n",
              "        vertical-align: middle;\n",
              "    }\n",
              "\n",
              "    .dataframe tbody tr th {\n",
              "        vertical-align: top;\n",
              "    }\n",
              "\n",
              "    .dataframe thead th {\n",
              "        text-align: right;\n",
              "    }\n",
              "</style>\n",
              "<table border=\"1\" class=\"dataframe\">\n",
              "  <thead>\n",
              "    <tr style=\"text-align: right;\">\n",
              "      <th></th>\n",
              "      <th>type</th>\n",
              "      <th>subtype</th>\n",
              "      <th>text</th>\n",
              "      <th>ts</th>\n",
              "      <th>bot_id</th>\n",
              "    </tr>\n",
              "  </thead>\n",
              "  <tbody>\n",
              "  </tbody>\n",
              "</table>\n",
              "</div>"
            ],
            "text/plain": [
              "Empty DataFrame\n",
              "Columns: [type, subtype, text, ts, bot_id]\n",
              "Index: []"
            ]
          },
          "metadata": {},
          "execution_count": 11
        }
      ]
    },
    {
      "cell_type": "code",
      "metadata": {
        "colab": {
          "base_uri": "https://localhost:8080/",
          "height": 35
        },
        "id": "xHA8KnTZRAzq",
        "outputId": "001f91af-a374-4171-e454-81979a6a54a7"
      },
      "source": [
        "df_raw['text'][1]"
      ],
      "execution_count": 13,
      "outputs": [
        {
          "output_type": "execute_result",
          "data": {
            "application/vnd.google.colaboratory.intrinsic+json": {
              "type": "string"
            },
            "text/plain": [
              "'[info] - [\"[API REQUEST]: 07083075646, /client/wallet/balance/get/4978, 2021-09-05T07:03:55.223Z\"]'"
            ]
          },
          "metadata": {},
          "execution_count": 13
        }
      ]
    },
    {
      "cell_type": "code",
      "metadata": {
        "id": "e3xuHZOlRjsg"
      },
      "source": [
        ""
      ],
      "execution_count": null,
      "outputs": []
    },
    {
      "cell_type": "code",
      "metadata": {
        "colab": {
          "base_uri": "https://localhost:8080/"
        },
        "id": "6SC0hvWQRP03",
        "outputId": "75cafcc9-b22a-4d2a-f2ac-2ff286c443d5"
      },
      "source": [
        "str = df_raw['text'][1049]\n",
        "if re.search('info', str):\n",
        "  log_level = re.search('info', str)\n",
        "  print(log_level)\n",
        "  print(log_level.group(0))\n",
        "elif re.search('error', str):\n",
        "  log_level = re.search('error', str)\n",
        "  print(log_level)\n",
        "  print(log_level.group(0))"
      ],
      "execution_count": 15,
      "outputs": [
        {
          "output_type": "stream",
          "name": "stdout",
          "text": [
            "<re.Match object; span=(1, 6), match='error'>\n",
            "error\n"
          ]
        }
      ]
    },
    {
      "cell_type": "code",
      "metadata": {
        "colab": {
          "base_uri": "https://localhost:8080/",
          "height": 35
        },
        "id": "EIxn6hOyAnf4",
        "outputId": "2ddcd892-14c1-418a-9210-05e20732963f"
      },
      "source": [
        " str = df_raw['text'][1]\n",
        "if 'mailto' in str:\n",
        "  mail = re.search('[\\w.+-]+@[\\w-]+\\.[\\w.-]+', str)\n",
        "elif 'mailto' not in str:\n",
        "  mail = re.search('[0-9]+', str)\n",
        "\n",
        "mail.group(0)"
      ],
      "execution_count": 16,
      "outputs": [
        {
          "output_type": "execute_result",
          "data": {
            "application/vnd.google.colaboratory.intrinsic+json": {
              "type": "string"
            },
            "text/plain": [
              "'07083075646'"
            ]
          },
          "metadata": {},
          "execution_count": 16
        }
      ]
    },
    {
      "cell_type": "code",
      "metadata": {
        "id": "8YfUdyJM6nBt"
      },
      "source": [
        "import re\n",
        "\n",
        "str = df_raw['text'][4835]\n",
        "\n",
        "if re.search('API REQUEST', str):\n",
        "  print(True)\n",
        "elif re.search('API REQUEST', str):\n",
        "  print(False)\n"
      ],
      "execution_count": 17,
      "outputs": []
    },
    {
      "cell_type": "code",
      "metadata": {
        "id": "Fd-prG9NMlJz"
      },
      "source": [
        "import datetime\n",
        "\n",
        "# function to convert date to Timestamp\n",
        "def convertToTimestamp(str):\n",
        "  element = datetime.datetime.strptime(str,\"%Y-%m-%dT%H:%M:%S.%fZ\")\n",
        "  return datetime.datetime.timestamp(element)"
      ],
      "execution_count": 18,
      "outputs": []
    },
    {
      "cell_type": "code",
      "metadata": {
        "colab": {
          "base_uri": "https://localhost:8080/"
        },
        "id": "l-rZUfpUM3lc",
        "outputId": "717b8347-fb70-4fcc-e94c-a102b7d05cb3"
      },
      "source": [
        "timestamp = convertToTimestamp('2021-09-05T07:03:55.223Z')\n",
        "timestamp"
      ],
      "execution_count": 19,
      "outputs": [
        {
          "output_type": "execute_result",
          "data": {
            "text/plain": [
              "1630825435.223"
            ]
          },
          "metadata": {},
          "execution_count": 19
        }
      ]
    },
    {
      "cell_type": "code",
      "metadata": {
        "id": "SiNaBl9VrGRl"
      },
      "source": [
        "import re\n",
        "\n",
        "# parse row of text column\n",
        "def parserow(str):\n",
        "    pattern = \"(\\d{4})-(\\d\\d)-(\\d\\d)T(\\d\\d):(\\d\\d):(\\d\\d).(\\d{3})*[a-zA-Z]\"\n",
        "    datepattern = re.compile(\"(?:%s)\"%(pattern))\n",
        "    log_level_col = []\n",
        "    api_request_col = []\n",
        "    type_request_col = []\n",
        "    phone_Col = []\n",
        "    date_col = []\n",
        "    endpoint_Col = []\n",
        "    email_col = []\n",
        "\n",
        "    for index, row in df_raw.iterrows():\n",
        "        #str = row['text']\n",
        "        str\n",
        "        \n",
        "        # check if the row contains an email address\n",
        "        if 'mailto' in str:     \n",
        "            phone_or_email = re.search('[\\w.+-]+@[\\w-]+\\.[\\w.-]+', str) # extract an address email\n",
        "            try:\n",
        "              email_col.append(phone_or_email.group(0))\n",
        "              phone_Col.append(None)\n",
        "            except AttributeError:\n",
        "              email_col.append(None)\n",
        "        elif 'mailto' not in str:\n",
        "            phone_or_email = re.search('[0-9]+', str)    # extract a phone number\n",
        "            email_col.append(None)\n",
        "            try:\n",
        "              phone_Col.append(phone_or_email.group(0))\n",
        "            except AttributeError:\n",
        "              phone_Col.append(None)\n",
        "\n",
        "        # check if the row contains \"info\" string\n",
        "        if re.search('info', str):\n",
        "            log_level = re.search('info', str)\n",
        "        elif re.search('error', str):\n",
        "            log_level = re.search('error', str)\n",
        "\n",
        "        if re.search('API REQUEST', str):\n",
        "            type_request = re.search('API REQUEST', str)\n",
        "        elif re.search('CLIENT MOBILE LOGIN', str):\n",
        "            type_request = re.search('CLIENT MOBILE LOGIN', str)\n",
        "        elif re.search('SMS PAYLOAD', str):\n",
        "            type_request = re.search('SMS PAYLOAD', str)\n",
        "        elif re.search('SMS SUCCESS', str):\n",
        "            type_request = re.search('SMS SUCCESS', str) \n",
        "        elif re.search('WALLET PAYLOAD', str):\n",
        "            type_request = re.search('WALLET PAYLOAD', str)\n",
        "        elif re.search('WALLET SUCCESS', str):\n",
        "            type_request = re.search('WALLET SUCCESS', str) \n",
        "        elif re.search('LOAN ERROR', str):\n",
        "            type_request = re.search('LOAN ERROR', str)  \n",
        "        elif re.search('LEADWAY PAYLOAD', str):\n",
        "            type_request = re.search('LEADWAY PAYLOAD', str)\n",
        "        elif re.search('LEADWAY SUCCESS', str):\n",
        "            type_request = re.search('LEADWAY SUCCESS', str)    \n",
        "        elif re.search('LOAN ERROR', str):\n",
        "            type_request = re.search('LOAN ERROR', str)\n",
        "        elif re.search('OKRA PAYLOAD', str):\n",
        "            type_request = re.search('OKRA PAYLOAD', str)\n",
        "            if re.search('[\\w.+-]+@[\\w-]+\\.[\\w.-]+', str):\n",
        "                address_email = re.search('[\\w.+-]+@[\\w-]+\\.[\\w.-]+', str)\n",
        "        elif re.search('OKRA SUCCESS', str):\n",
        "            type_request = re.search('OKRA SUCCESS', str)\n",
        "        elif re.search('VTPASS SUCCESS', str):\n",
        "            type_request = re.search('VTPASS SUCCESS', str)  \n",
        "\n",
        "        # extract date\n",
        "        if datepattern.search(str):\n",
        "            datematcher = datepattern.search(str)\n",
        "\n",
        "        #extract endpoint\n",
        "        if re.search('/+[/a-z/a-z/0-9]+', str):\n",
        "          endpoint = re.search('/+[/a-z/a-z/0-9]+', str)\n",
        "        elif re.search('^[a-zA-Z0-9!@#$&()\\\\-`.+,/\\\"]*$', str):\n",
        "          endpoint = re.search('^[a-zA-Z0-9!@#$&()\\\\-`.+,/\\\"]*$', str)\n",
        "\n",
        "        try:\n",
        "          log_level_col.append(log_level.group(0))\n",
        "        except AttributeError:\n",
        "          log_level_col.append(None)\n",
        "\n",
        "        try:\n",
        "          type_request_col.append(type_request.group(0))\n",
        "        except AttributeError:\n",
        "          type_request_col.append(None)\n",
        "\n",
        "        try:\n",
        "          date_col.append(convertToTimestamp(datematcher.group(0)))\n",
        "        except AttributeError:\n",
        "          date_col.append(None)\n",
        "\n",
        "        try:\n",
        "          endpoint_Col.append(endpoint.group(0))\n",
        "        except AttributeError:\n",
        "          endpoint_Col.append(None)\n",
        "      "
      ],
      "execution_count": 33,
      "outputs": []
    },
    {
      "cell_type": "code",
      "metadata": {
        "id": "byTU1brpKGxs"
      },
      "source": [
        "str = row['text']\n",
        "parserow(str)"
      ],
      "execution_count": 34,
      "outputs": []
    },
    {
      "cell_type": "code",
      "metadata": {
        "id": "Nt6vspHAKCBz"
      },
      "source": [
        "# Add new columns to the dataset\n",
        "\n",
        "df_raw['Log_Level'] = log_level_col\n",
        "df_raw['Type_Request'] = type_request_col\n",
        "df_raw['Phone_Number'] = phone_Col\n",
        "df_raw['Date'] = date_col\n",
        "df_raw['EndPoint'] = endpoint_Col\n",
        "df_raw['Email'] = email_col"
      ],
      "execution_count": 35,
      "outputs": []
    },
    {
      "cell_type": "code",
      "metadata": {
        "colab": {
          "base_uri": "https://localhost:8080/",
          "height": 525
        },
        "id": "vZfFLFyLf-PD",
        "outputId": "59a30127-90fd-46cf-e097-e3ebb3e30337"
      },
      "source": [
        "df_raw.head(10)"
      ],
      "execution_count": 32,
      "outputs": [
        {
          "output_type": "execute_result",
          "data": {
            "text/html": [
              "<div>\n",
              "<style scoped>\n",
              "    .dataframe tbody tr th:only-of-type {\n",
              "        vertical-align: middle;\n",
              "    }\n",
              "\n",
              "    .dataframe tbody tr th {\n",
              "        vertical-align: top;\n",
              "    }\n",
              "\n",
              "    .dataframe thead th {\n",
              "        text-align: right;\n",
              "    }\n",
              "</style>\n",
              "<table border=\"1\" class=\"dataframe\">\n",
              "  <thead>\n",
              "    <tr style=\"text-align: right;\">\n",
              "      <th></th>\n",
              "      <th>type</th>\n",
              "      <th>subtype</th>\n",
              "      <th>text</th>\n",
              "      <th>ts</th>\n",
              "      <th>bot_id</th>\n",
              "      <th>Log_Level</th>\n",
              "      <th>Type_Request</th>\n",
              "      <th>Phone_Number</th>\n",
              "      <th>Date</th>\n",
              "      <th>EndPoint</th>\n",
              "      <th>Email</th>\n",
              "    </tr>\n",
              "  </thead>\n",
              "  <tbody>\n",
              "    <tr>\n",
              "      <th>0</th>\n",
              "      <td>message</td>\n",
              "      <td>bot_message</td>\n",
              "      <td>[info] - [\"[API REQUEST]: 07083075646, /client...</td>\n",
              "      <td>1630825434.000100</td>\n",
              "      <td>B01RC3AKYG6</td>\n",
              "      <td>info</td>\n",
              "      <td>API REQUEST</td>\n",
              "      <td>07083075646</td>\n",
              "      <td>1.630825e+09</td>\n",
              "      <td>/client/get/4978</td>\n",
              "      <td>None</td>\n",
              "    </tr>\n",
              "    <tr>\n",
              "      <th>1</th>\n",
              "      <td>message</td>\n",
              "      <td>bot_message</td>\n",
              "      <td>[info] - [\"[API REQUEST]: 07083075646, /client...</td>\n",
              "      <td>1630825435.000200</td>\n",
              "      <td>B01RC3AKYG6</td>\n",
              "      <td>info</td>\n",
              "      <td>API REQUEST</td>\n",
              "      <td>07083075646</td>\n",
              "      <td>1.630825e+09</td>\n",
              "      <td>/client/wallet/balance/get/4978</td>\n",
              "      <td>None</td>\n",
              "    </tr>\n",
              "    <tr>\n",
              "      <th>2</th>\n",
              "      <td>message</td>\n",
              "      <td>bot_message</td>\n",
              "      <td>[info] - [\"[API REQUEST]: 07083075646, /client...</td>\n",
              "      <td>1630825435.000300</td>\n",
              "      <td>B01RC3AKYG6</td>\n",
              "      <td>info</td>\n",
              "      <td>API REQUEST</td>\n",
              "      <td>07083075646</td>\n",
              "      <td>1.630825e+09</td>\n",
              "      <td>/client/get/4978</td>\n",
              "      <td>None</td>\n",
              "    </tr>\n",
              "    <tr>\n",
              "      <th>3</th>\n",
              "      <td>message</td>\n",
              "      <td>bot_message</td>\n",
              "      <td>[info] - [\"[API REQUEST]: 07083075646, /client...</td>\n",
              "      <td>1630825435.000400</td>\n",
              "      <td>B01RC3AKYG6</td>\n",
              "      <td>info</td>\n",
              "      <td>API REQUEST</td>\n",
              "      <td>07083075646</td>\n",
              "      <td>1.630825e+09</td>\n",
              "      <td>/client/lifestyle/categories/get/4978</td>\n",
              "      <td>None</td>\n",
              "    </tr>\n",
              "    <tr>\n",
              "      <th>4</th>\n",
              "      <td>message</td>\n",
              "      <td>bot_message</td>\n",
              "      <td>[info] - [\"[API REQUEST]: 07083075646, /client...</td>\n",
              "      <td>1630825438.000500</td>\n",
              "      <td>B01RC3AKYG6</td>\n",
              "      <td>info</td>\n",
              "      <td>API REQUEST</td>\n",
              "      <td>07083075646</td>\n",
              "      <td>1.630825e+09</td>\n",
              "      <td>/client/locations/sync/4978</td>\n",
              "      <td>None</td>\n",
              "    </tr>\n",
              "    <tr>\n",
              "      <th>5</th>\n",
              "      <td>message</td>\n",
              "      <td>bot_message</td>\n",
              "      <td>[info] - [\"[API REQUEST]: 07083075646, /client...</td>\n",
              "      <td>1630825444.000600</td>\n",
              "      <td>B01RC3AKYG6</td>\n",
              "      <td>info</td>\n",
              "      <td>API REQUEST</td>\n",
              "      <td>07083075646</td>\n",
              "      <td>1.630825e+09</td>\n",
              "      <td>/client/get/4978</td>\n",
              "      <td>None</td>\n",
              "    </tr>\n",
              "    <tr>\n",
              "      <th>6</th>\n",
              "      <td>message</td>\n",
              "      <td>bot_message</td>\n",
              "      <td>[info] - [\"[API REQUEST]: 07083075646, /client...</td>\n",
              "      <td>1630825444.000700</td>\n",
              "      <td>B01RC3AKYG6</td>\n",
              "      <td>info</td>\n",
              "      <td>API REQUEST</td>\n",
              "      <td>07083075646</td>\n",
              "      <td>1.630825e+09</td>\n",
              "      <td>/client/adverts/4978</td>\n",
              "      <td>None</td>\n",
              "    </tr>\n",
              "    <tr>\n",
              "      <th>7</th>\n",
              "      <td>message</td>\n",
              "      <td>bot_message</td>\n",
              "      <td>[info] - [\"[API REQUEST]: 07083075646, /client...</td>\n",
              "      <td>1630825446.000800</td>\n",
              "      <td>B01RC3AKYG6</td>\n",
              "      <td>info</td>\n",
              "      <td>API REQUEST</td>\n",
              "      <td>07083075646</td>\n",
              "      <td>1.630825e+09</td>\n",
              "      <td>/client/products/4978</td>\n",
              "      <td>None</td>\n",
              "    </tr>\n",
              "    <tr>\n",
              "      <th>8</th>\n",
              "      <td>message</td>\n",
              "      <td>bot_message</td>\n",
              "      <td>[info] - [\"[API REQUEST]: 07083075646, /client...</td>\n",
              "      <td>1630825447.000900</td>\n",
              "      <td>B01RC3AKYG6</td>\n",
              "      <td>info</td>\n",
              "      <td>API REQUEST</td>\n",
              "      <td>07083075646</td>\n",
              "      <td>1.630825e+09</td>\n",
              "      <td>/client/get/4978</td>\n",
              "      <td>None</td>\n",
              "    </tr>\n",
              "    <tr>\n",
              "      <th>9</th>\n",
              "      <td>message</td>\n",
              "      <td>bot_message</td>\n",
              "      <td>[info] - [\"[API REQUEST]: 07065125702, /client...</td>\n",
              "      <td>1630825532.001000</td>\n",
              "      <td>B01RC3AKYG6</td>\n",
              "      <td>info</td>\n",
              "      <td>API REQUEST</td>\n",
              "      <td>07065125702</td>\n",
              "      <td>1.630826e+09</td>\n",
              "      <td>/client/get/5027</td>\n",
              "      <td>None</td>\n",
              "    </tr>\n",
              "  </tbody>\n",
              "</table>\n",
              "</div>"
            ],
            "text/plain": [
              "      type      subtype  ...                               EndPoint Email\n",
              "0  message  bot_message  ...                       /client/get/4978  None\n",
              "1  message  bot_message  ...        /client/wallet/balance/get/4978  None\n",
              "2  message  bot_message  ...                       /client/get/4978  None\n",
              "3  message  bot_message  ...  /client/lifestyle/categories/get/4978  None\n",
              "4  message  bot_message  ...            /client/locations/sync/4978  None\n",
              "5  message  bot_message  ...                       /client/get/4978  None\n",
              "6  message  bot_message  ...                   /client/adverts/4978  None\n",
              "7  message  bot_message  ...                  /client/products/4978  None\n",
              "8  message  bot_message  ...                       /client/get/4978  None\n",
              "9  message  bot_message  ...                       /client/get/5027  None\n",
              "\n",
              "[10 rows x 11 columns]"
            ]
          },
          "metadata": {},
          "execution_count": 32
        }
      ]
    },
    {
      "cell_type": "code",
      "metadata": {
        "colab": {
          "base_uri": "https://localhost:8080/",
          "height": 830
        },
        "id": "mg4GUbeT-sVr",
        "outputId": "f4b3d669-fd79-47f7-be32-82a1084db7e1"
      },
      "source": [
        "df_raw[df_raw['Log_Level']== 'error']  "
      ],
      "execution_count": 23,
      "outputs": [
        {
          "output_type": "execute_result",
          "data": {
            "text/html": [
              "<div>\n",
              "<style scoped>\n",
              "    .dataframe tbody tr th:only-of-type {\n",
              "        vertical-align: middle;\n",
              "    }\n",
              "\n",
              "    .dataframe tbody tr th {\n",
              "        vertical-align: top;\n",
              "    }\n",
              "\n",
              "    .dataframe thead th {\n",
              "        text-align: right;\n",
              "    }\n",
              "</style>\n",
              "<table border=\"1\" class=\"dataframe\">\n",
              "  <thead>\n",
              "    <tr style=\"text-align: right;\">\n",
              "      <th></th>\n",
              "      <th>type</th>\n",
              "      <th>subtype</th>\n",
              "      <th>text</th>\n",
              "      <th>ts</th>\n",
              "      <th>bot_id</th>\n",
              "      <th>Log_Level</th>\n",
              "      <th>Type_Request</th>\n",
              "      <th>Phone_Number</th>\n",
              "      <th>Date</th>\n",
              "      <th>EndPoint</th>\n",
              "      <th>Email</th>\n",
              "    </tr>\n",
              "  </thead>\n",
              "  <tbody>\n",
              "    <tr>\n",
              "      <th>1049</th>\n",
              "      <td>message</td>\n",
              "      <td>bot_message</td>\n",
              "      <td>[error] - [\"[LOAN ERROR]:\",\"{\\\"code\\\":\\\"ER_BAD...</td>\n",
              "      <td>1630835957.001000</td>\n",
              "      <td>B01RC3AKYG6</td>\n",
              "      <td>error</td>\n",
              "      <td>LOAN ERROR</td>\n",
              "      <td>1048</td>\n",
              "      <td>1.630836e+09</td>\n",
              "      <td>/png</td>\n",
              "      <td>None</td>\n",
              "    </tr>\n",
              "    <tr>\n",
              "      <th>1050</th>\n",
              "      <td>message</td>\n",
              "      <td>bot_message</td>\n",
              "      <td>Qjuri17oslGMuY/wChW8T/AOl/hlTV8epnXgtjkhmhTS7u...</td>\n",
              "      <td>1630835957.001100</td>\n",
              "      <td>B01RC3AKYG6</td>\n",
              "      <td>error</td>\n",
              "      <td>LOAN ERROR</td>\n",
              "      <td>17</td>\n",
              "      <td>1.630836e+09</td>\n",
              "      <td>/w</td>\n",
              "      <td>None</td>\n",
              "    </tr>\n",
              "    <tr>\n",
              "      <th>1051</th>\n",
              "      <td>message</td>\n",
              "      <td>bot_message</td>\n",
              "      <td>GpEt08ZsaUlGqKVpaLYwlJcFTE25oIunaotxdLOXsmasf0...</td>\n",
              "      <td>1630835957.001200</td>\n",
              "      <td>B01RC3AKYG6</td>\n",
              "      <td>error</td>\n",
              "      <td>LOAN ERROR</td>\n",
              "      <td>08</td>\n",
              "      <td>1.630836e+09</td>\n",
              "      <td>//</td>\n",
              "      <td>None</td>\n",
              "    </tr>\n",
              "    <tr>\n",
              "      <th>1052</th>\n",
              "      <td>message</td>\n",
              "      <td>bot_message</td>\n",
              "      <td>Wi54+RHB0BnzTWODnPhHCz5Xmz93FvSO71OF5MMo+pwpQc...</td>\n",
              "      <td>1630835957.001300</td>\n",
              "      <td>B01RC3AKYG6</td>\n",
              "      <td>error</td>\n",
              "      <td>LOAN ERROR</td>\n",
              "      <td>54</td>\n",
              "      <td>1.630836e+09</td>\n",
              "      <td>/q</td>\n",
              "      <td>None</td>\n",
              "    </tr>\n",
              "    <tr>\n",
              "      <th>2280</th>\n",
              "      <td>message</td>\n",
              "      <td>bot_message</td>\n",
              "      <td>[error] - [\"[LOAN ERROR]:\",\"{\\\"code\\\":\\\"ER_BAD...</td>\n",
              "      <td>1630847535.029900</td>\n",
              "      <td>B01RC3AKYG6</td>\n",
              "      <td>error</td>\n",
              "      <td>LOAN ERROR</td>\n",
              "      <td>1048</td>\n",
              "      <td>1.630848e+09</td>\n",
              "      <td>/png</td>\n",
              "      <td>None</td>\n",
              "    </tr>\n",
              "    <tr>\n",
              "      <th>2281</th>\n",
              "      <td>message</td>\n",
              "      <td>bot_message</td>\n",
              "      <td>TW6OfS1Vo47LfsaZY6Wo/nfLf6rpROhav19rtNOmmcM9Se...</td>\n",
              "      <td>1630847535.030000</td>\n",
              "      <td>B01RC3AKYG6</td>\n",
              "      <td>error</td>\n",
              "      <td>LOAN ERROR</td>\n",
              "      <td>6</td>\n",
              "      <td>1.630848e+09</td>\n",
              "      <td>/nf</td>\n",
              "      <td>None</td>\n",
              "    </tr>\n",
              "    <tr>\n",
              "      <th>2282</th>\n",
              "      <td>message</td>\n",
              "      <td>bot_message</td>\n",
              "      <td>Ll/ywMvq/ll//ACAxHdNtwbxgzw0n4yO1WSfprni7MJh92...</td>\n",
              "      <td>1630847535.030100</td>\n",
              "      <td>B01RC3AKYG6</td>\n",
              "      <td>error</td>\n",
              "      <td>LOAN ERROR</td>\n",
              "      <td>0</td>\n",
              "      <td>1.630848e+09</td>\n",
              "      <td>/yw</td>\n",
              "      <td>None</td>\n",
              "    </tr>\n",
              "    <tr>\n",
              "      <th>2283</th>\n",
              "      <td>message</td>\n",
              "      <td>bot_message</td>\n",
              "      <td>1vOiZrCYABAB1TNoF0aSRb69FnWXPMaCOk3VJECWyVf7vo...</td>\n",
              "      <td>1630847535.030200</td>\n",
              "      <td>B01RC3AKYG6</td>\n",
              "      <td>error</td>\n",
              "      <td>LOAN ERROR</td>\n",
              "      <td>1</td>\n",
              "      <td>1.630848e+09</td>\n",
              "      <td>/w</td>\n",
              "      <td>None</td>\n",
              "    </tr>\n",
              "    <tr>\n",
              "      <th>3441</th>\n",
              "      <td>message</td>\n",
              "      <td>bot_message</td>\n",
              "      <td>[error] - [\"[LOAN ERROR]:\",\"{\\\"code\\\":\\\"ER_BAD...</td>\n",
              "      <td>1630859947.076400</td>\n",
              "      <td>B01RC3AKYG6</td>\n",
              "      <td>error</td>\n",
              "      <td>LOAN ERROR</td>\n",
              "      <td>1048</td>\n",
              "      <td>1.630860e+09</td>\n",
              "      <td>/png</td>\n",
              "      <td>None</td>\n",
              "    </tr>\n",
              "    <tr>\n",
              "      <th>3442</th>\n",
              "      <td>message</td>\n",
              "      <td>bot_message</td>\n",
              "      <td>Iab2dOLI0dOXxcTwrrVJd6Ob9N40mmrl99MixOZd7+xY32...</td>\n",
              "      <td>1630859947.076500</td>\n",
              "      <td>B01RC3AKYG6</td>\n",
              "      <td>error</td>\n",
              "      <td>LOAN ERROR</td>\n",
              "      <td>2</td>\n",
              "      <td>1.630860e+09</td>\n",
              "      <td>/k</td>\n",
              "      <td>None</td>\n",
              "    </tr>\n",
              "    <tr>\n",
              "      <th>3443</th>\n",
              "      <td>message</td>\n",
              "      <td>bot_message</td>\n",
              "      <td>I+h/pj6RexOijOsMfRjcpG9UY2BhZjdGlmFsKmmZUx0zK6...</td>\n",
              "      <td>1630859947.076600</td>\n",
              "      <td>B01RC3AKYG6</td>\n",
              "      <td>error</td>\n",
              "      <td>LOAN ERROR</td>\n",
              "      <td>6</td>\n",
              "      <td>1.630860e+09</td>\n",
              "      <td>/pj6</td>\n",
              "      <td>None</td>\n",
              "    </tr>\n",
              "    <tr>\n",
              "      <th>3444</th>\n",
              "      <td>message</td>\n",
              "      <td>bot_message</td>\n",
              "      <td>XJ8CpMloXkZmyDpsTMypMhUhshcipQLscnwKo6b0ulfp3u...</td>\n",
              "      <td>1630859947.076700</td>\n",
              "      <td>B01RC3AKYG6</td>\n",
              "      <td>error</td>\n",
              "      <td>LOAN ERROR</td>\n",
              "      <td>8</td>\n",
              "      <td>1.630860e+09</td>\n",
              "      <td>/akj</td>\n",
              "      <td>None</td>\n",
              "    </tr>\n",
              "    <tr>\n",
              "      <th>4834</th>\n",
              "      <td>message</td>\n",
              "      <td>bot_message</td>\n",
              "      <td>[error] - [\"[LOAN ERROR]:\",\"{\\\"code\\\":\\\"ER_BAD...</td>\n",
              "      <td>1630890037.013800</td>\n",
              "      <td>B01RC3AKYG6</td>\n",
              "      <td>error</td>\n",
              "      <td>LOAN ERROR</td>\n",
              "      <td>1048</td>\n",
              "      <td>1.630890e+09</td>\n",
              "      <td>/png</td>\n",
              "      <td>None</td>\n",
              "    </tr>\n",
              "    <tr>\n",
              "      <th>4835</th>\n",
              "      <td>message</td>\n",
              "      <td>bot_message</td>\n",
              "      <td>RwoDTRBQC9IlLiMlXYMBFCjW5KmuCrsb61cRYshI0t4BRq...</td>\n",
              "      <td>1630890037.013900</td>\n",
              "      <td>B01RC3AKYG6</td>\n",
              "      <td>error</td>\n",
              "      <td>LOAN ERROR</td>\n",
              "      <td>9</td>\n",
              "      <td>1.630890e+09</td>\n",
              "      <td>/g</td>\n",
              "      <td>None</td>\n",
              "    </tr>\n",
              "    <tr>\n",
              "      <th>4836</th>\n",
              "      <td>message</td>\n",
              "      <td>bot_message</td>\n",
              "      <td>rXECktI71Y8I0xtyA5vlXtOkB5oFS423KivSVUG2lTtWkw...</td>\n",
              "      <td>1630890037.014000</td>\n",
              "      <td>B01RC3AKYG6</td>\n",
              "      <td>error</td>\n",
              "      <td>LOAN ERROR</td>\n",
              "      <td>71</td>\n",
              "      <td>1.630890e+09</td>\n",
              "      <td>/hd</td>\n",
              "      <td>None</td>\n",
              "    </tr>\n",
              "    <tr>\n",
              "      <th>4837</th>\n",
              "      <td>message</td>\n",
              "      <td>bot_message</td>\n",
              "      <td>+WdyPxBev0xbIwOaQ5rmgghYmu07dTp67sy0+EDpHU3aJ4...</td>\n",
              "      <td>1630890037.014100</td>\n",
              "      <td>B01RC3AKYG6</td>\n",
              "      <td>error</td>\n",
              "      <td>LOAN ERROR</td>\n",
              "      <td>0</td>\n",
              "      <td>1.630890e+09</td>\n",
              "      <td>/w</td>\n",
              "      <td>None</td>\n",
              "    </tr>\n",
              "  </tbody>\n",
              "</table>\n",
              "</div>"
            ],
            "text/plain": [
              "         type      subtype  ... EndPoint Email\n",
              "1049  message  bot_message  ...     /png  None\n",
              "1050  message  bot_message  ...       /w  None\n",
              "1051  message  bot_message  ...       //  None\n",
              "1052  message  bot_message  ...       /q  None\n",
              "2280  message  bot_message  ...     /png  None\n",
              "2281  message  bot_message  ...      /nf  None\n",
              "2282  message  bot_message  ...      /yw  None\n",
              "2283  message  bot_message  ...       /w  None\n",
              "3441  message  bot_message  ...     /png  None\n",
              "3442  message  bot_message  ...       /k  None\n",
              "3443  message  bot_message  ...     /pj6  None\n",
              "3444  message  bot_message  ...     /akj  None\n",
              "4834  message  bot_message  ...     /png  None\n",
              "4835  message  bot_message  ...       /g  None\n",
              "4836  message  bot_message  ...      /hd  None\n",
              "4837  message  bot_message  ...       /w  None\n",
              "\n",
              "[16 rows x 11 columns]"
            ]
          },
          "metadata": {},
          "execution_count": 23
        }
      ]
    },
    {
      "cell_type": "code",
      "metadata": {
        "colab": {
          "base_uri": "https://localhost:8080/"
        },
        "id": "mmrKoYJEOr2n",
        "outputId": "ddf4ee80-9c21-45fe-be82-af695c16ac76"
      },
      "source": [
        "df_raw['Log_Level'].str.contains('error').sum()"
      ],
      "execution_count": null,
      "outputs": [
        {
          "output_type": "execute_result",
          "data": {
            "text/plain": [
              "16"
            ]
          },
          "metadata": {},
          "execution_count": 157
        }
      ]
    },
    {
      "cell_type": "code",
      "metadata": {
        "colab": {
          "base_uri": "https://localhost:8080/"
        },
        "id": "7KxeNrMTTtV2",
        "outputId": "115b1e4c-0f25-47fd-a331-67213b4fa03c"
      },
      "source": [
        "df_raw['Email'].str.contains('info@libertaleasing.com').sum()"
      ],
      "execution_count": null,
      "outputs": [
        {
          "output_type": "execute_result",
          "data": {
            "text/plain": [
              "2"
            ]
          },
          "metadata": {},
          "execution_count": 178
        }
      ]
    },
    {
      "cell_type": "code",
      "metadata": {
        "colab": {
          "base_uri": "https://localhost:8080/",
          "height": 50
        },
        "id": "V85IiUhOP8a6",
        "outputId": "53cd31df-a177-4011-9542-b93087edc3c3"
      },
      "source": [
        "df_raw[df_raw['ts'] == None]"
      ],
      "execution_count": null,
      "outputs": [
        {
          "output_type": "execute_result",
          "data": {
            "text/html": [
              "<div>\n",
              "<style scoped>\n",
              "    .dataframe tbody tr th:only-of-type {\n",
              "        vertical-align: middle;\n",
              "    }\n",
              "\n",
              "    .dataframe tbody tr th {\n",
              "        vertical-align: top;\n",
              "    }\n",
              "\n",
              "    .dataframe thead th {\n",
              "        text-align: right;\n",
              "    }\n",
              "</style>\n",
              "<table border=\"1\" class=\"dataframe\">\n",
              "  <thead>\n",
              "    <tr style=\"text-align: right;\">\n",
              "      <th></th>\n",
              "      <th>type</th>\n",
              "      <th>subtype</th>\n",
              "      <th>text</th>\n",
              "      <th>ts</th>\n",
              "      <th>bot_id</th>\n",
              "      <th>Log_Level</th>\n",
              "      <th>Type_Request</th>\n",
              "      <th>Phone_Number</th>\n",
              "      <th>Date</th>\n",
              "      <th>EndPoint</th>\n",
              "      <th>Email</th>\n",
              "    </tr>\n",
              "  </thead>\n",
              "  <tbody>\n",
              "  </tbody>\n",
              "</table>\n",
              "</div>"
            ],
            "text/plain": [
              "Empty DataFrame\n",
              "Columns: [type, subtype, text, ts, bot_id, Log_Level, Type_Request, Phone_Number, Date, EndPoint, Email]\n",
              "Index: []"
            ]
          },
          "metadata": {},
          "execution_count": 34
        }
      ]
    },
    {
      "cell_type": "code",
      "metadata": {
        "colab": {
          "base_uri": "https://localhost:8080/"
        },
        "id": "S_hX4HlpR-3k",
        "outputId": "a56b36e3-fac4-457f-d66a-1e10f4ca2799"
      },
      "source": [
        "df_raw.info()"
      ],
      "execution_count": null,
      "outputs": [
        {
          "output_type": "stream",
          "name": "stdout",
          "text": [
            "<class 'pandas.core.frame.DataFrame'>\n",
            "RangeIndex: 5480 entries, 0 to 5479\n",
            "Data columns (total 11 columns):\n",
            " #   Column        Non-Null Count  Dtype \n",
            "---  ------        --------------  ----- \n",
            " 0   type          5480 non-null   object\n",
            " 1   subtype       5480 non-null   object\n",
            " 2   text          5480 non-null   object\n",
            " 3   ts            5480 non-null   object\n",
            " 4   bot_id        5480 non-null   object\n",
            " 5   Log_Level     5480 non-null   object\n",
            " 6   Type_Request  5480 non-null   object\n",
            " 7   Phone_Number  5478 non-null   object\n",
            " 8   Date          5480 non-null   object\n",
            " 9   EndPoint      5480 non-null   object\n",
            " 10  Email         5480 non-null   object\n",
            "dtypes: object(11)\n",
            "memory usage: 471.1+ KB\n"
          ]
        }
      ]
    },
    {
      "cell_type": "code",
      "metadata": {
        "colab": {
          "base_uri": "https://localhost:8080/"
        },
        "id": "PqyYxWW2SCSR",
        "outputId": "ac1515c9-8f9f-4658-f3fd-4fa66cc7affe"
      },
      "source": [
        "df_raw.info()"
      ],
      "execution_count": null,
      "outputs": [
        {
          "output_type": "stream",
          "name": "stdout",
          "text": [
            "<class 'pandas.core.frame.DataFrame'>\n",
            "RangeIndex: 5480 entries, 0 to 5479\n",
            "Data columns (total 5 columns):\n",
            " #   Column   Non-Null Count  Dtype \n",
            "---  ------   --------------  ----- \n",
            " 0   type     5480 non-null   object\n",
            " 1   subtype  5480 non-null   object\n",
            " 2   text     5480 non-null   object\n",
            " 3   ts       5480 non-null   object\n",
            " 4   bot_id   5480 non-null   object\n",
            "dtypes: object(5)\n",
            "memory usage: 214.2+ KB\n"
          ]
        }
      ]
    },
    {
      "cell_type": "code",
      "metadata": {
        "colab": {
          "base_uri": "https://localhost:8080/",
          "height": 140
        },
        "id": "3mciFpBYQaee",
        "outputId": "3e2c79b8-c982-4c26-d359-34083641e1b0"
      },
      "source": [
        "df_raw['text'][1049]"
      ],
      "execution_count": null,
      "outputs": [
        {
          "output_type": "execute_result",
          "data": {
            "application/vnd.google.colaboratory.intrinsic+json": {
              "type": "string"
            },
            "text/plain": [
              "'[error] - [\"[LOAN ERROR]:\",\"{\\\\\"code\\\\\":\\\\\"ER_BAD_NULL_ERROR\\\\\",\\\\\"errno\\\\\":1048,\\\\\"sqlMessage\\\\\":\\\\\"Column \\'name\\' cannot be null\\\\\",\\\\\"sqlState\\\\\":\\\\\"23000\\\\\",\\\\\"index\\\\\":0,\\\\\"sql\\\\\":\\\\\"INSERT INTO preapplications Set `product` = 11, `loan_amount` = 5000, `tenor` = 1, `loan_purpose` = \\'18\\', `tenor_type` = \\'monthly\\', `selfie` = \\'data:image/png;base64,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'"
            ]
          },
          "metadata": {},
          "execution_count": 85
        }
      ]
    },
    {
      "cell_type": "code",
      "metadata": {
        "id": "1EQr9wc2QhJG"
      },
      "source": [
        "df_raw['text']"
      ],
      "execution_count": null,
      "outputs": []
    },
    {
      "cell_type": "code",
      "metadata": {
        "id": "C25ulmE02BKz"
      },
      "source": [
        ""
      ],
      "execution_count": null,
      "outputs": []
    },
    {
      "cell_type": "code",
      "metadata": {
        "id": "b125ADMRu4h2"
      },
      "source": [
        "from sklearn.compose import ColumnTransformer #Apply a set of transformations sequentially to a set of columns\n",
        "from sklearn.pipeline import Pipeline #Chain different functions feeding the output of the preceeding to the following function as an input\n",
        "from sklearn.preprocessing import StandardScaler #Standardize features by removing the mean and scaling to unit variance\n",
        "from sklearn.preprocessing import OneHotEncoder #Dog = (0,1); Cat = (1,0)\n",
        "from sklearn.preprocessing import OrdinalEncoder #Substitute categorical values by numbers assigned in an ordinal fashion (i.e. Rating = \"Bad\" \"Average\" Good\" -> Rating = 0, 1, 2)\n",
        "from sklearn.impute import SimpleImputer #Flexible class for data cleaning and missing values\n",
        "from sklearn.base import BaseEstimator, TransformerMixin\n",
        "import pandas as pd\n",
        "#from utils import Therond_minmax as T, myencoding as MY"
      ],
      "execution_count": null,
      "outputs": []
    },
    {
      "cell_type": "code",
      "metadata": {
        "id": "MXyENrSEwa-Q"
      },
      "source": [
        ""
      ],
      "execution_count": null,
      "outputs": []
    }
  ]
}