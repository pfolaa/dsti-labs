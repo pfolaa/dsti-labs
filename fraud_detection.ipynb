{
  "nbformat": 4,
  "nbformat_minor": 0,
  "metadata": {
    "colab": {
      "name": "fraud_detection.ipynb",
      "provenance": [],
      "collapsed_sections": [],
      "authorship_tag": "ABX9TyNXQN8W5jbR2vQJNdTISWwB",
      "include_colab_link": true
    },
    "kernelspec": {
      "display_name": "Python 3",
      "name": "python3"
    },
    "language_info": {
      "name": "python"
    }
  },
  "cells": [
    {
      "cell_type": "markdown",
      "metadata": {
        "id": "view-in-github",
        "colab_type": "text"
      },
      "source": [
        "<a href=\"https://colab.research.google.com/github/pfolaa/dsti-labs/blob/main/fraud_detection.ipynb\" target=\"_parent\"><img src=\"https://colab.research.google.com/assets/colab-badge.svg\" alt=\"Open In Colab\"/></a>"
      ]
    },
    {
      "cell_type": "code",
      "metadata": {
        "colab": {
          "base_uri": "https://localhost:8080/"
        },
        "id": "zfrluZHFeoJi",
        "outputId": "81fce4d1-9b36-41ed-bb2a-563f038cd2c6"
      },
      "source": [
        "from google.colab import drive\n",
        "drive.mount('/content/drive')"
      ],
      "execution_count": 1,
      "outputs": [
        {
          "output_type": "stream",
          "name": "stdout",
          "text": [
            "Mounted at /content/drive\n"
          ]
        }
      ]
    },
    {
      "cell_type": "code",
      "metadata": {
        "id": "HDZLS2SVpWRA"
      },
      "source": [
        "import os\n",
        "import glob"
      ],
      "execution_count": 2,
      "outputs": []
    },
    {
      "cell_type": "code",
      "metadata": {
        "colab": {
          "base_uri": "https://localhost:8080/"
        },
        "id": "OXUmQBdjjRSz",
        "outputId": "88ff8a11-2bf7-40c6-a01f-f1caddbdb6ec"
      },
      "source": [
        "#cd /content/drive/MyDrive/datasets/"
      ],
      "execution_count": null,
      "outputs": [
        {
          "output_type": "stream",
          "name": "stdout",
          "text": [
            "/content/drive/MyDrive/datasets\n"
          ]
        }
      ]
    },
    {
      "cell_type": "markdown",
      "metadata": {
        "id": "A647jZGTIVfV"
      },
      "source": [
        "## 1- Data acquisition"
      ]
    },
    {
      "cell_type": "markdown",
      "metadata": {
        "id": "xM0BTYUsH0J7"
      },
      "source": [
        "###1.1- Get files from repository "
      ]
    },
    {
      "cell_type": "code",
      "metadata": {
        "id": "f2XWYG1djOng"
      },
      "source": [
        "#!wget https://{bucket-name}.s3.eu-west-1.amazonaws.com/{file.zip}"
      ],
      "execution_count": 131,
      "outputs": []
    },
    {
      "cell_type": "markdown",
      "metadata": {
        "id": "8ePlT65iHvE8"
      },
      "source": [
        "### 1.2 Extract zip file"
      ]
    },
    {
      "cell_type": "code",
      "metadata": {
        "id": "BY4poFTe_fiZ"
      },
      "source": [
        "from zipfile import ZipFile\n",
        "#ZipFile(\"{file.zip}\").extractall('/content/drive/My Drive/datasets/')"
      ],
      "execution_count": null,
      "outputs": []
    },
    {
      "cell_type": "code",
      "metadata": {
        "id": "flitAMKFyoqk"
      },
      "source": [
        "os."
      ],
      "execution_count": null,
      "outputs": []
    },
    {
      "cell_type": "markdown",
      "metadata": {
        "id": "O_Bife_AHmwn"
      },
      "source": [
        "### 1.3 Read all json files and insert into a csv file"
      ]
    },
    {
      "cell_type": "code",
      "metadata": {
        "id": "G9kYyZKupaKF"
      },
      "source": [
        "import os,json\n",
        "import pandas as pd\n",
        "\n",
        "# read json file\n",
        "def read_Json_And_Insert_Into_CSV(path_file_json, file_csv, root_path):\n",
        "  os.makedirs(root_path, exist_ok=True) # créer toute l'aborescence du fichier, crée le chemin\n",
        "  # read all json files\n",
        "  for file_name in [file for file in os.listdir(path_to_json) if file.endswith('.json')]:\n",
        "    with open(path_to_json + file_name) as json_file:\n",
        "      data = json.load(json_file)\n",
        "      df = pd.DataFrame.from_records(data)\n",
        "\n",
        "  # convert file to csv\n",
        "  df.to_csv(f'{root_path}/{file_csv}', sep=';')\n",
        "  return df # return du fichier csv"
      ],
      "execution_count": 96,
      "outputs": []
    },
    {
      "cell_type": "code",
      "metadata": {
        "id": "JIL79akW0R8f"
      },
      "source": [
        ""
      ],
      "execution_count": null,
      "outputs": []
    },
    {
      "cell_type": "markdown",
      "metadata": {
        "id": "_9HdEw7t0Sjx"
      },
      "source": [
        "###NB: ne pas utiliser les memes noms de variables à l'intérieur des fonctions et à l'extérieur"
      ]
    },
    {
      "cell_type": "code",
      "metadata": {
        "id": "JCh5277VyUV4"
      },
      "source": [
        "path_json = '/content/drive/My Drive/datasets/nirra-log-bot/'\n",
        "root_csv = '/content/drive/My Drive/datasets/nirra-log-bot/csv'\n",
        "file_csv = 'file_name.csv'\n",
        "\n",
        "df_raw = read_Json_And_Insert_Into_CSV(path_json, file_csv, root_csv)"
      ],
      "execution_count": 97,
      "outputs": []
    },
    {
      "cell_type": "code",
      "metadata": {
        "colab": {
          "base_uri": "https://localhost:8080/",
          "height": 203
        },
        "id": "F4q9nXruZEeS",
        "outputId": "15d90b27-1fea-40df-d3c4-fbe44a36585f"
      },
      "source": [
        "df_raw.head()"
      ],
      "execution_count": 98,
      "outputs": [
        {
          "output_type": "execute_result",
          "data": {
            "text/html": [
              "<div>\n",
              "<style scoped>\n",
              "    .dataframe tbody tr th:only-of-type {\n",
              "        vertical-align: middle;\n",
              "    }\n",
              "\n",
              "    .dataframe tbody tr th {\n",
              "        vertical-align: top;\n",
              "    }\n",
              "\n",
              "    .dataframe thead th {\n",
              "        text-align: right;\n",
              "    }\n",
              "</style>\n",
              "<table border=\"1\" class=\"dataframe\">\n",
              "  <thead>\n",
              "    <tr style=\"text-align: right;\">\n",
              "      <th></th>\n",
              "      <th>type</th>\n",
              "      <th>subtype</th>\n",
              "      <th>text</th>\n",
              "      <th>ts</th>\n",
              "      <th>bot_id</th>\n",
              "    </tr>\n",
              "  </thead>\n",
              "  <tbody>\n",
              "    <tr>\n",
              "      <th>0</th>\n",
              "      <td>message</td>\n",
              "      <td>bot_message</td>\n",
              "      <td>[info] - [\"[OKRA WEBHOOK]:\",\"{\\\"method\\\":\\\"PAY...</td>\n",
              "      <td>1630911747.008800</td>\n",
              "      <td>B01RC3AKYG6</td>\n",
              "    </tr>\n",
              "    <tr>\n",
              "      <th>1</th>\n",
              "      <td>message</td>\n",
              "      <td>bot_message</td>\n",
              "      <td>[info] - [\"[API REQUEST]: 08134676606, /client...</td>\n",
              "      <td>1630911747.008900</td>\n",
              "      <td>B01RC3AKYG6</td>\n",
              "    </tr>\n",
              "    <tr>\n",
              "      <th>2</th>\n",
              "      <td>message</td>\n",
              "      <td>bot_message</td>\n",
              "      <td>[info] - [\"[API REQUEST]: 08134676606, /client...</td>\n",
              "      <td>1630911749.009000</td>\n",
              "      <td>B01RC3AKYG6</td>\n",
              "    </tr>\n",
              "    <tr>\n",
              "      <th>3</th>\n",
              "      <td>message</td>\n",
              "      <td>bot_message</td>\n",
              "      <td>[info] - [\"[API REQUEST]: 08134676606, /client...</td>\n",
              "      <td>1630911754.009100</td>\n",
              "      <td>B01RC3AKYG6</td>\n",
              "    </tr>\n",
              "    <tr>\n",
              "      <th>4</th>\n",
              "      <td>message</td>\n",
              "      <td>bot_message</td>\n",
              "      <td>[info] - [\"[API REQUEST]: 08134676606, /client...</td>\n",
              "      <td>1630911754.009200</td>\n",
              "      <td>B01RC3AKYG6</td>\n",
              "    </tr>\n",
              "  </tbody>\n",
              "</table>\n",
              "</div>"
            ],
            "text/plain": [
              "      type      subtype  ...                 ts       bot_id\n",
              "0  message  bot_message  ...  1630911747.008800  B01RC3AKYG6\n",
              "1  message  bot_message  ...  1630911747.008900  B01RC3AKYG6\n",
              "2  message  bot_message  ...  1630911749.009000  B01RC3AKYG6\n",
              "3  message  bot_message  ...  1630911754.009100  B01RC3AKYG6\n",
              "4  message  bot_message  ...  1630911754.009200  B01RC3AKYG6\n",
              "\n",
              "[5 rows x 5 columns]"
            ]
          },
          "metadata": {},
          "execution_count": 98
        }
      ]
    },
    {
      "cell_type": "markdown",
      "metadata": {
        "id": "1L5hLbakIA9g"
      },
      "source": [
        "### OLD: Get total number of @ inside \"text\" column"
      ]
    },
    {
      "cell_type": "code",
      "metadata": {
        "colab": {
          "base_uri": "https://localhost:8080/"
        },
        "id": "l1tAb3ZqNXxk",
        "outputId": "d1de52eb-a42b-4629-e1c6-7575fb23ccc7"
      },
      "source": [
        " df_raw['text'].str.contains(\"@\").sum() # search total number of @ within text column"
      ],
      "execution_count": 99,
      "outputs": [
        {
          "output_type": "execute_result",
          "data": {
            "text/plain": [
              "37"
            ]
          },
          "metadata": {},
          "execution_count": 99
        }
      ]
    },
    {
      "cell_type": "code",
      "metadata": {
        "colab": {
          "base_uri": "https://localhost:8080/"
        },
        "id": "HeGSk83nO1U4",
        "outputId": "3d201a4e-d4dd-435c-fcfe-b85a81d75027"
      },
      "source": [
        "df_raw.info()"
      ],
      "execution_count": 100,
      "outputs": [
        {
          "output_type": "stream",
          "name": "stdout",
          "text": [
            "<class 'pandas.core.frame.DataFrame'>\n",
            "RangeIndex: 4953 entries, 0 to 4952\n",
            "Data columns (total 5 columns):\n",
            " #   Column   Non-Null Count  Dtype \n",
            "---  ------   --------------  ----- \n",
            " 0   type     4953 non-null   object\n",
            " 1   subtype  4953 non-null   object\n",
            " 2   text     4953 non-null   object\n",
            " 3   ts       4953 non-null   object\n",
            " 4   bot_id   4953 non-null   object\n",
            "dtypes: object(5)\n",
            "memory usage: 193.6+ KB\n"
          ]
        }
      ]
    },
    {
      "cell_type": "markdown",
      "metadata": {
        "id": "5h6pXkQwHaf_"
      },
      "source": [
        "### OLD: Test a slicing"
      ]
    },
    {
      "cell_type": "code",
      "metadata": {
        "id": "sOYCDMimN7Os"
      },
      "source": [
        "# slicing\n",
        "#df_raw[df_raw['text'].str.contains(\"@\")] # masque à l'intérieur des crochets"
      ],
      "execution_count": 25,
      "outputs": []
    },
    {
      "cell_type": "code",
      "metadata": {
        "colab": {
          "base_uri": "https://localhost:8080/",
          "height": 49
        },
        "id": "7TN5BDtoPudJ",
        "outputId": "0c4a896e-64e8-44d2-d15a-30e470b42507"
      },
      "source": [
        "df_raw[df_raw['text'] == None]"
      ],
      "execution_count": 7,
      "outputs": [
        {
          "output_type": "execute_result",
          "data": {
            "text/html": [
              "<div>\n",
              "<style scoped>\n",
              "    .dataframe tbody tr th:only-of-type {\n",
              "        vertical-align: middle;\n",
              "    }\n",
              "\n",
              "    .dataframe tbody tr th {\n",
              "        vertical-align: top;\n",
              "    }\n",
              "\n",
              "    .dataframe thead th {\n",
              "        text-align: right;\n",
              "    }\n",
              "</style>\n",
              "<table border=\"1\" class=\"dataframe\">\n",
              "  <thead>\n",
              "    <tr style=\"text-align: right;\">\n",
              "      <th></th>\n",
              "      <th>type</th>\n",
              "      <th>subtype</th>\n",
              "      <th>text</th>\n",
              "      <th>ts</th>\n",
              "      <th>bot_id</th>\n",
              "    </tr>\n",
              "  </thead>\n",
              "  <tbody>\n",
              "  </tbody>\n",
              "</table>\n",
              "</div>"
            ],
            "text/plain": [
              "Empty DataFrame\n",
              "Columns: [type, subtype, text, ts, bot_id]\n",
              "Index: []"
            ]
          },
          "metadata": {},
          "execution_count": 7
        }
      ]
    },
    {
      "cell_type": "code",
      "metadata": {
        "id": "e3xuHZOlRjsg"
      },
      "source": [
        ""
      ],
      "execution_count": null,
      "outputs": []
    },
    {
      "cell_type": "markdown",
      "metadata": {
        "id": "FGScI9DACyVX"
      },
      "source": [
        "### OLD: Used in case of WALLET SUCCESS, SMS SUCCESS, SMS PAYLOAD Types request"
      ]
    },
    {
      "cell_type": "code",
      "metadata": {
        "id": "CapeBj_Wqfkd"
      },
      "source": [
        "import regex\n",
        "import json\n",
        "\n",
        "#text_wallet = df_raw['text'][841]\n",
        "#sms_success = df_raw['text'][12]\n",
        "#sms_payload = df_raw['text'][11]\n",
        "def parse_wallet_success(text_type_request):\n",
        "  ''' la fonction permet de parser les types de requete \"Wallet success\", \n",
        "      \"SMS Success\" et SMS Payload en object json.\n",
        "      Elle prend en paramètre le text contenu dans le type de requete,\n",
        "      elle retourne un objet de type JSON.'''\n",
        "\n",
        "  pattern = regex.compile(r'\\{(?:[^{}]|(?R))*}')\n",
        "  resul_patt = pattern.findall(text_type_request)\n",
        "  res = resul_patt[0].replace(\"\\\\\", \" \")\n",
        "  s = json.loads(res)\n",
        "  out_dict = {} # dictionnary vide\n",
        "  for key, value in s.items():\n",
        "    out_dict[key.strip()] = value # à la clé on passe chaque valeur, strip() enlève les espaces au début et à la fin.\n",
        "\n",
        "\n",
        "  out_dump = json.dumps(out_dict) # input est un dictionnaire et ça retourne un json sous forme string\n",
        "  out_wallet_success = json.loads(out_dump) # convertir le string json en object json.\n",
        "  return out_wallet_success\n",
        "\n"
      ],
      "execution_count": 101,
      "outputs": []
    },
    {
      "cell_type": "code",
      "metadata": {
        "colab": {
          "base_uri": "https://localhost:8080/"
        },
        "id": "r42HQDd7IqD4",
        "outputId": "b0edabb4-8e5a-4b14-ec5c-0eb1029fd8e6"
      },
      "source": [
        "wallet_succ = parse_wallet_success(df_raw['text'][841])\n",
        "wallet_succ"
      ],
      "execution_count": 102,
      "outputs": [
        {
          "output_type": "execute_result",
          "data": {
            "text/plain": [
              "{'account_name': 'LIBERTA(Kayode  Ajao) ',\n",
              " 'account_number': '9980432021 ',\n",
              " 'bvn': '22213975706 ',\n",
              " 'requestSuccessful': True,\n",
              " 'responseCode': '00 ',\n",
              " 'responseMessage': 'Reserved Account Generated Successfully '}"
            ]
          },
          "metadata": {},
          "execution_count": 102
        }
      ]
    },
    {
      "cell_type": "code",
      "metadata": {
        "colab": {
          "base_uri": "https://localhost:8080/"
        },
        "id": "Vol_EjbkIdeu",
        "outputId": "5f08713d-cf97-4e97-bdcc-cb91cb3de824"
      },
      "source": [
        "sms_succ = parse_wallet_success(df_raw['text'][12])\n",
        "sms_succ.get('response')"
      ],
      "execution_count": 103,
      "outputs": [
        {
          "output_type": "execute_result",
          "data": {
            "text/plain": [
              "{'cost ': 2, 'status ': 'SUCCESS ', 'totalsent ': 1}"
            ]
          },
          "metadata": {},
          "execution_count": 103
        }
      ]
    },
    {
      "cell_type": "code",
      "metadata": {
        "colab": {
          "base_uri": "https://localhost:8080/"
        },
        "id": "JIJQYyhvJfry",
        "outputId": "52051fce-25a8-42b8-952b-bec380c24301"
      },
      "source": [
        "sms_payload = parse_wallet_success(df_raw['text'][11])\n",
        "sms_payload"
      ],
      "execution_count": 104,
      "outputs": [
        {
          "output_type": "execute_result",
          "data": {
            "text/plain": [
              "{'message': 'To continue your signup, use this OTP 169 600 ',\n",
              " 'phone': '2347035864882 '}"
            ]
          },
          "metadata": {},
          "execution_count": 104
        }
      ]
    },
    {
      "cell_type": "markdown",
      "metadata": {
        "id": "hxLQChIkYxVc"
      },
      "source": [
        "# OLD: Handle row with type request \"LEADWAY SUCCESS\" and concatenate rows\n",
        "### NB: faire un docstring (''' ''') pour chaque fonction"
      ]
    },
    {
      "cell_type": "code",
      "metadata": {
        "id": "S4c-G8ZBYp_Z"
      },
      "source": [
        "import re\n",
        "\n",
        "# la fonction doit prendre en paramètre quelque chose\n",
        "def parse_and_concatenate_Leadway_Success_Rows(df_raw):\n",
        "  '''Cette fonction permet de parser et de concatener le texte qui a LEADWAY SUCCESS\n",
        "     comme type de requete\n",
        "     elle prend comme paramètre un dataframe et retourne les valeurs suivantes:\n",
        "     - un texte concatené\n",
        "     - l'index de la 1ère ligne qu'on va utiliser ensuite pour l'effacer\n",
        "     - l'index de la dernière ligne qu'on va utiliser ensuite pour l'effacer '''\n",
        "\n",
        "  first_index = 0\n",
        "  last_index = 0\n",
        "  text_leadway_concat = ''\n",
        "  for index, row in df_raw.iterrows():  # boucler sur les colonnes de type text\n",
        "      text_row = row['text']  \n",
        "      if re.search('LEADWAY SUCCESS', text_row):\n",
        "        text_leadway_concat = text_row\n",
        "        first_index = index\n",
        "        first_index +=1\n",
        "        new_df = df_raw[first_index:]\n",
        "        for first_index, new_row in new_df.iterrows():\n",
        "          xxx = new_row['text']      \n",
        "          if not xxx.startswith('['):          \n",
        "            first_index += 1\n",
        "            text_leadway_concat = text_row + xxx       \n",
        "          elif xxx.startswith('['):\n",
        "            last_index = first_index-1\n",
        "            break\n",
        "\n",
        "\n",
        "  return text_leadway_concat, first_index, last_index\n"
      ],
      "execution_count": 105,
      "outputs": []
    },
    {
      "cell_type": "code",
      "metadata": {
        "colab": {
          "base_uri": "https://localhost:8080/"
        },
        "id": "ZFfztKeA8XgQ",
        "outputId": "97472338-79bf-4fe8-a8ae-246f06de8dac"
      },
      "source": [
        "leadway_succ, first_index_succ, last_index_succ = parse_and_concatenate_Leadway_Success_Rows(df_raw)\n",
        "leadway_succ, first_index_succ, last_index_succ"
      ],
      "execution_count": 106,
      "outputs": [
        {
          "output_type": "execute_result",
          "data": {
            "text/plain": [
              "('[info] - [\"[LEADWAY SUCCESS]:\",\"{\\\\\"errorMsg\\\\\":\\\\\"\\\\\",\\\\\"signature\\\\\":\\\\\"\\\\\",\\\\\"success\\\\\":true,\\\\\"vehicleMake\\\\\":[{\\\\\"id\\\\\":\\\\\"127\\\\\",\\\\\"makeName\\\\\":\\\\\"35CMB\\\\\"},{\\\\\"id\\\\\":\\\\\"152\\\\\",\\\\\"makeName\\\\\":\\\\\"AC ATUL\\\\\"},{\\\\\"id\\\\\":\\\\\"228\\\\\",\\\\\"makeName\\\\\":\\\\\"ACE\\\\\"},{\\\\\"id\\\\\":\\\\\"147\\\\\",\\\\\"makeName\\\\\":\\\\\"ACURA\\\\\"},{\\\\\"id\\\\\":\\\\\"8\\\\\",\\\\\"makeName\\\\\":\\\\\"ALPHA ROMEO\\\\\"},{\\\\\"id\\\\\":\\\\\"106\\\\\",\\\\\"makeName\\\\\":\\\\\"APACHE\\\\\"},{\\\\\"id\\\\\":\\\\\"210\\\\\",\\\\\"makeName\\\\\":\\\\\"ASHOK LEYLAND\\\\\"},{\\\\\"id\\\\\":\\\\\"80\\\\\",\\\\\"makeName\\\\\":\\\\\"ASTRA\\\\\"},{\\\\\"id\\\\\":\\\\\"3\\\\\",\\\\\"makeName\\\\\":\\\\\"AUDI\\\\\"},{\\\\\"id\\\\\":\\\\\"128\\\\\",\\\\\"makeName\\\\\":\\\\\"AUSTIN\\\\\"},{\\\\\"id\\\\\":\\\\\"109\\\\\",\\\\\"makeName\\\\\":\\\\\"BACK HOE\\\\\"},{\\\\\"id\\\\\":\\\\\"9\\\\\",\\\\\"makeName\\\\\":\\\\\"BADFORD\\\\\"},{\\\\\"id\\\\\":\\\\\"68\\\\\",\\\\\"makeName\\\\\":\\\\\"BAJAJ\\\\\"},{\\\\\"id\\\\\":\\\\\"218\\\\\",\\\\\"makeName\\\\\":\\\\\"BASUKI\\\\\"},{\\\\\"id\\\\\":\\\\\"248\\\\\",\\\\\"makeName\\\\\":\\\\\"BAW\\\\\"},{\\\\\"id\\\\\":\\\\\"244\\\\\",\\\\\"makeName\\\\\":\\\\\"BEDFORD\\\\\"},{\\\\\"id\\\\\":\\\\\"84\\\\\",\\\\\"makeName\\\\\":\\\\\"BEIBEN\\\\\"},{\\\\\"id\\\\\":\\\\\"195\\\\\",\\\\\"makeName\\\\\":\\\\\"BELL\\\\\"},{\\\\\"id\\\\\":\\\\\"174\\\\\",\\\\\"makeName\\\\\":\\\\\"BENTLEY\\\\\"},{\\\\\"id\\\\\":\\\\\"75\\\\\",\\\\\"makeName\\\\\":\\\\\"BHACHU\\\\\"},{\\\\\"id\\\\\":\\\\\"262\\\\\",\\\\\"makeName\\\\\":\\\\\"BIKEMASTER\\\\\"},{\\\\\"id\\\\\":\\\\\"92\\\\\",\\\\\"makeName\\\\\":\\\\\"BLUE BIRD\\\\\"},{\\\\\"id\\\\\":\\\\\"7\\\\\",\\\\\"makeName\\\\\":\\\\\"BMW\\\\\"},{\\\\\"id\\\\\":\\\\\"10\\\\\",\\\\\"makeName\\\\\":\\\\\"BOBCAT\\\\\"},{\\\\\"id\\\\\":\\\\\"290\\\\\",\\\\\"makeName\\\\\":\\\\\"BOVA\\\\\"},{\\\\\"id\\\\\":\\\\\"126\\\\\",\\\\\"makeName\\\\\":\\\\\"BPW\\\\\"},{\\\\\"id\\\\\":\\\\\"269\\\\\",\\\\\"makeName\\\\\":\\\\\"BRILLIANCE\\\\\"},{\\\\\"id\\\\\":\\\\\"182\\\\\",\\\\\"makeName\\\\\":\\\\\"BUICK\\\\\"},{\\\\\"id\\\\\":\\\\\"11\\\\\",\\\\\"makeName\\\\\":\\\\\"CADILLAC\\\\\"},{\\\\\"id\\\\\":\\\\\"12\\\\\",\\\\\"makeName\\\\\":\\\\\"CAM\\\\\"},{\\\\\"id\\\\\":\\\\\"284\\\\\",\\\\\"makeName\\\\\":\\\\\"CANTER FUSO\\\\\"},{\\\\\"id\\\\\":\\\\\"89\\\\\",\\\\\"makeName\\\\\":\\\\\"CAPTAIN\\\\\"},{\\\\\"id\\\\\":\\\\\"217\\\\\",\\\\\"makeName\\\\\":\\\\\"CARTER PEN\\\\\"},{\\\\\"id\\\\\":\\\\\"13\\\\\",\\\\\"makeName\\\\\":\\\\\"CAT\\\\\"},{\\\\\"id\\\\\":\\\\\"239\\\\\",\\\\\"makeName\\\\\":\\\\\"CATERPILLAR\\\\\"},{\\\\\"id\\\\\":\\\\\"254\\\\\",\\\\\"makeName\\\\\":\\\\\"CHANA STAR\\\\\"},{\\\\\"id\\\\\":\\\\\"142\\\\\",\\\\\"makeName\\\\\":\\\\\"CHANGAN\\\\\"},{\\\\\"id\\\\\":\\\\\"223\\\\\",\\\\\"makeName\\\\\":\\\\\"CHANGFENG\\\\\"},{\\\\\"id\\\\\":\\\\\"141\\\\\",\\\\\"makeName\\\\\":\\\\\"CHERRY\\\\\"},{\\\\\"id\\\\\":\\\\\"283\\\\\",\\\\\"makeName\\\\\":\\\\\"CHERY\\\\\"},{\\\\\"id\\\\\":\\\\\"14\\\\\",\\\\\"makeName\\\\\":\\\\\"CHEVROLET\\\\\"},{\\\\\"id\\\\\":\\\\\"15\\\\\",\\\\\"makeName\\\\\":\\\\\"CHRYSLER\\\\\"},{\\\\\"id\\\\\":\\\\\"16\\\\\",\\\\\"makeName\\\\\":\\\\\"CITROEN\\\\\"},{\\\\\"id\\\\\":\\\\\"104\\\\\",\\\\\"makeName\\\\\":\\\\\"CLAAS\\\\\"},{\\\\\"id\\\\\":\\\\\"17\\\\\",\\\\\"makeName\\\\\":\\\\\"CMC\\\\\"},{\\\\\"id\\\\\":\\\\\"181\\\\\",\\\\\"makeName\\\\\":\\\\\"COMMER\\\\\"},{\\\\\"id\\\\\":\\\\\"129\\\\\",\\\\\"makeName\\\\\":\\\\\"CPCD\\\\\"},{\\\\\"id\\\\\":\\\\\"275\\\\\",\\\\\"makeName\\\\\":\\\\\"DACIA\\\\\"},{\\\\\"id\\\\\":\\\\\"18\\\\\",\\\\\"makeName\\\\\":\\\\\"DAEWOO\\\\\"},{\\\\\"id\\\\\":\\\\\"138\\\\\",\\\\\"makeName\\\\\":\\\\\"DAF\\\\\"},{\\\\\"id\\\\\":\\\\\"19\\\\\",\\\\\"makeName\\\\\":\\\\\"DAIHATSU\\\\\"},{\\\\\"id\\\\\":\\\\\"131\\\\\",\\\\\"makeName\\\\\":\\\\\"DALIAN\\\\\"},{\\\\\"id\\\\\":\\\\\"190\\\\\",\\\\\"makeName\\\\\":\\\\\"DATSUN\\\\\"},{\\\\\"id\\\\\":\\\\\"191\\\\\",\\\\\"makeName\\\\\":\\\\\"DAVE\\\\\"},{\\\\\"id\\\\\":\\\\\"161\\\\\",\\\\\"makeName\\\\\":\\\\\"DAYLONG\\\\\"},{\\\\\"id\\\\\":\\\\\"99\\\\\",\\\\\"makeName\\\\\":\\\\\"DAYUN\\\\\"},{\\\\\"id\\\\\":\\\\\"158\\\\\",\\\\\"makeName\\\\\":\\\\\"DEGAB\\\\\"},{\\\\\"id\\\\\":\\\\\"179\\\\\",\\\\\"makeName\\\\\":\\\\\"DENNIS\\\\\"},{\\\\\"id\\\\\":\\\\\"150\\\\\",\\\\\"makeName\\\\\":\\\\\"DENSTAR\\\\\"},{\\\\\"id\\\\\":\\\\\"216\\\\\",\\\\\"makeName\\\\\":\\\\\"DFAC\\\\\"},{\\\\\"id\\\\\":\\\\\"270\\\\\",\\\\\"makeName\\\\\":\\\\\"DFM\\\\\"},{\\\\\"id\\\\\":\\\\\"243\\\\\",\\\\\"makeName\\\\\":\\\\\"DIAMOND REO\\\\\"},{\\\\\"id\\\\\":\\\\\"183\\\\\",\\\\\"makeName\\\\\":\\\\\"DODGE\\\\\"},{\\\\\"id\\\\\":\\\\\"74\\\\\",\\\\\"makeName\\\\\":\\\\\"DOLL\\\\\"},{\\\\\"id\\\\\":\\\\\"88\\\\\",\\\\\"makeName\\\\\":\\\\\"DONGFENG\\\\\"},{\\\\\"id\\\\\":\\\\\"132\\\\\",\\\\\"makeName\\\\\":\\\\\"DOOSAN\\\\\"},{\\\\\"id\\\\\":\\\\\"20\\\\\",\\\\\"makeName\\\\\":\\\\\"DUCATI\\\\\"},{\\\\\"id\\\\\":\\\\\"280\\\\\",\\\\\"makeName\\\\\":\\\\\"EAGLE\\\\\"},{\\\\\"id\\\\\":\\\\\"297\\\\\",\\\\\"makeName\\\\\":\\\\\"EFR\\\\\"},{\\\\\"id\\\\\":\\\\\"21\\\\\",\\\\\"makeName\\\\\":\\\\\"EICHER\\\\\"},{\\\\\"id\\\\\":\\\\\"110\\\\\",\\\\\"makeName\\\\\":\\\\\"ELITE\\\\\"},{\\\\\"id\\\\\":\\\\\"249\\\\\",\\\\\"makeName\\\\\":\\\\\"ENGLON\\\\\"},{\\\\\"id\\\\\":\\\\\"250\\\\\",\\\\\"makeName\\\\\":\\\\\"ENGLON \\\\\"},{\\\\\"id\\\\\":\\\\\"240\\\\\",\\\\\"makeName\\\\\":\\\\\"E-ONE\\\\\"},{\\\\\"id\\\\\":\\\\\"295\\\\\",\\\\\"makeName\\\\\":\\\\\"ETEFA\\\\\"},{\\\\\"id\\\\\":\\\\\"186\\\\\",\\\\\"makeName\\\\\":\\\\\"EVERLAST\\\\\"},{\\\\\"id\\\\\":\\\\\"176\\\\\",\\\\\"makeName\\\\\":\\\\\"FALCON\\\\\"},{\\\\\"id\\\\\":\\\\\"70\\\\\",\\\\\"makeName\\\\\":\\\\\"FAW\\\\\"},{\\\\\"id\\\\\":\\\\\"22\\\\\",\\\\\"makeName\\\\\":\\\\\"FIAT\\\\\"},{\\\\\"id\\\\\":\\\\\"256\\\\\",\\\\\"makeName\\\\\":\\\\\"FIORI\\\\\"},{\\\\\"id\\\\\":\\\\\"133\\\\\",\\\\\"makeName\\\\\":\\\\\"FLATBED\\\\\"},{\\\\\"id\\\\\":\\\\\"23\\\\\",\\\\\"makeName\\\\\":\\\\\"FORD\\\\\"},{\\\\\"id\\\\\":\\\\\"222\\\\\",\\\\\"makeName\\\\\":\\\\\"FORLAND\\\\\"},{\\\\\"id\\\\\":\\\\\"24\\\\\",\\\\\"makeName\\\\\":\\\\\"FOTON\\\\\"},{\\\\\"id\\\\\":\\\\\"148\\\\\",\\\\\"makeName\\\\\":\\\\\"FRAJEND\\\\\"},{\\\\\"id\\\\\":\\\\\"170\\\\\",\\\\\"makeName\\\\\":\\\\\"FREIGHTLINER\\\\\"},{\\\\\"id\\\\\":\\\\\"151\\\\\",\\\\\"makeName\\\\\":\\\\\"FUSO\\\\\"},{\\\\\"id\\\\\":\\\\\"164\\\\\",\\\\\"makeName\\\\\":\\\\\"GAC\\\\\"},{\\\\\"id\\\\\":\\\\\"298\\\\\",\\\\\"makeName\\\\\":\\\\\"Geely\\\\\"},{\\\\\"id\\\\\":\\\\\"226\\\\\",\\\\\"makeName\\\\\":\\\\\"GEELY\\\\\"},{\\\\\"id\\\\\":\\\\\"213\\\\\",\\\\\"makeName\\\\\":\\\\\"GENIE \\\\\"},{\\\\\"id\\\\\":\\\\\"277\\\\\",\\\\\"makeName\\\\\":\\\\\"GENLYON\\\\\"},{\\\\\"id\\\\\":\\\\\"162\\\\\",\\\\\"makeName\\\\\":\\\\\"GMC\\\\\"},{\\\\\"id\\\\\":\\\\\"268\\\\\",\\\\\"makeName\\\\\":\\\\\"GOLDEN DRAGON\\\\\"},{\\\\\"id\\\\\":\\\\\"291\\\\\",\\\\\"makeName\\\\\":\\\\\"GONOW\\\\\"},{\\\\\"id\\\\\":\\\\\"286\\\\\",\\\\\"make,\\\\\"makeName\\\\\":\\\\\"NISSAN\\\\\"},{\\\\\"id\\\\\":\\\\\"296\\\\\",\\\\\"makeName\\\\\":\\\\\"OLDSMOBILE\\\\\"},{\\\\\"id\\\\\":\\\\\"42\\\\\",\\\\\"makeName\\\\\":\\\\\"OPEL\\\\\"},{\\\\\"id\\\\\":\\\\\"289\\\\\",\\\\\"makeName\\\\\":\\\\\"PETERBILT\\\\\"},{\\\\\"id\\\\\":\\\\\"43\\\\\",\\\\\"makeName\\\\\":\\\\\"PEUGEOT\\\\\"},{\\\\\"id\\\\\":\\\\\"105\\\\\",\\\\\"makeName\\\\\":\\\\\"PIAGGIO\\\\\"},{\\\\\"id\\\\\":\\\\\"261\\\\\",\\\\\"makeName\\\\\":\\\\\"POLARSUN\\\\\"},{\\\\\"id\\\\\":\\\\\"159\\\\\",\\\\\"makeName\\\\\":\\\\\"PONTIAC\\\\\"},{\\\\\"id\\\\\":\\\\\"44\\\\\",\\\\\"makeName\\\\\":\\\\\"PORSCHE\\\\\"},{\\\\\"id\\\\\":\\\\\"266\\\\\",\\\\\"makeName\\\\\":\\\\\"PRESIDENT\\\\\"},{\\\\\"id\\\\\":\\\\\"211\\\\\",\\\\\"makeName\\\\\":\\\\\"PROTON\\\\\"},{\\\\\"id\\\\\":\\\\\"253\\\\\",\\\\\"makeName\\\\\":\\\\\"QINGQI\\\\\"},{\\\\\"id\\\\\":\\\\\"246\\\\\",\\\\\"makeName\\\\\":\\\\\"QIPAI\\\\\"},{\\\\\"id\\\\\":\\\\\"157\\\\\",\\\\\"makeName\\\\\":\\\\\"QLINK\\\\\"},{\\\\\"id\\\\\":\\\\\"118\\\\\",\\\\\"makeName\\\\\":\\\\\"QUON\\\\\"},{\\\\\"id\\\\\":\\\\\"45\\\\\",\\\\\"makeName\\\\\":\\\\\"RANDON\\\\\"},{\\\\\"id\\\\\":\\\\\"47\\\\\",\\\\\"makeName\\\\\":\\\\\"RENAULT\\\\\"},{\\\\\"id\\\\\":\\\\\"292\\\\\",\\\\\"makeName\\\\\":\\\\\"Robinson\\\\\"},{\\\\\"id\\\\\":\\\\\"197\\\\\",\\\\\"makeName\\\\\":\\\\\"ROLLS-ROYCE\\\\\"},{\\\\\"id\\\\\":\\\\\"48\\\\\",\\\\\"makeName\\\\\":\\\\\"ROVER\\\\\"},{\\\\\"id\\\\\":\\\\\"207\\\\\",\\\\\"makeName\\\\\":\\\\\"ROYAL\\\\\"},{\\\\\"id\\\\\":\\\\\"49\\\\\",\\\\\"makeName\\\\\":\\\\\"SAAB\\\\\"},{\\\\\"id\\\\\":\\\\\"130\\\\\",\\\\\"makeName\\\\\":\\\\\"SACHS\\\\\"},{\\\\\"id\\\\\":\\\\\"50\\\\\",\\\\\"makeName\\\\\":\\\\\"SAILORMEIYA\\\\\"},{\\\\\"id\\\\\":\\\\\"72\\\\\",\\\\\"makeName\\\\\":\\\\\"SAME\\\\\"},{\\\\\"id\\\\\":\\\\\"194\\\\\",\\\\\"makeName\\\\\":\\\\\"SANY\\\\\"},{\\\\\"id\\\\\":\\\\\"274\\\\\",\\\\\"makeName\\\\\":\\\\\"SATURN\\\\\"},{\\\\\"id\\\\\":\\\\\"51\\\\\",\\\\\"makeName\\\\\":\\\\\"SCANIA\\\\\"},{\\\\\"id\\\\\":\\\\\"232\\\\\",\\\\\"makeName\\\\\":\\\\\"SCHWING\\\\\"},{\\\\\"id\\\\\":\\\\\"172\\\\\",\\\\\"makeName\\\\\":\\\\\"SCION\\\\\"},{\\\\\"id\\\\\":\\\\\"221\\\\\",\\\\\"makeName\\\\\":\\\\\"SEAT\\\\\"},{\\\\\"id\\\\\":\\\\\"245\\\\\",\\\\\"makeName\\\\\":\\\\\"SENKE\\\\\"},{\\\\\"id\\\\\":\\\\\"52\\\\\",\\\\\"makeName\\\\\":\\\\\"SHACMAN\\\\\"},{\\\\\"id\\\\\":\\\\\"111\\\\\",\\\\\"makeName\\\\\":\\\\\"SHANTUI\\\\\"},{\\\\\"id\\\\\":\\\\\"119\\\\\",\\\\\"makeName\\\\\":\\\\\"SHENZEN\\\\\"},{\\\\\"id\\\\\":\\\\\"100\\\\\",\\\\\"makeName\\\\\":\\\\\"SHINERAY\\\\\"},{\\\\\"id\\\\\":\\\\\"215\\\\\",\\\\\"makeName\\\\\":\\\\\"SHIRORO\\\\\"},{\\\\\"id\\\\\":\\\\\"171\\\\\",\\\\\"makeName\\\\\":\\\\\"SINO\\\\\"},{\\\\\"id\\\\\":\\\\\"168\\\\\",\\\\\"makeName\\\\\":\\\\\"SINOKI SUPRA\\\\\"},{\\\\\"id\\\\\":\\\\\"53\\\\\",\\\\\"makeName\\\\\":\\\\\"SINOTRUCK\\\\\"},{\\\\\"id\\\\\":\\\\\"54\\\\\",\\\\\"makeName\\\\\":\\\\\"SKODA\\\\\"},{\\\\\"id\\\\\":\\\\\"108\\\\\",\\\\\"makeName\\\\\":\\\\\"SKYGO\\\\\"},{\\\\\"id\\\\\":\\\\\"55\\\\\",\\\\\"makeName\\\\\":\\\\\"SMART\\\\\"},{\\\\\"id\\\\\":\\\\\"263\\\\\",\\\\\"makeName\\\\\":\\\\\"SONLINK\\\\\"},{\\\\\"id\\\\\":\\\\\"192\\\\\",\\\\\"makeName\\\\\":\\\\\"SOYAT\\\\\"},{\\\\\"id\\\\\":\\\\\"56\\\\\",\\\\\"makeName\\\\\":\\\\\"SSANGYONG\\\\\"},{\\\\\"id\\\\\":\\\\\"145\\\\\",\\\\\"makeName\\\\\":\\\\\"STALLION\\\\\"},{\\\\\"id\\\\\":\\\\\"86\\\\\",\\\\\"makeName\\\\\":\\\\\"STAR\\\\\"},{\\\\\"id\\\\\":\\\\\"209\\\\\",\\\\\"makeName\\\\\":\\\\\"STERLING\\\\\"},{\\\\\"id\\\\\":\\\\\"281\\\\\",\\\\\"makeName\\\\\":\\\\\"STEYR\\\\\"},{\\\\\"id\\\\\":\\\\\"95\\\\\",\\\\\"makeName\\\\\":\\\\\"STO\\\\\"},{\\\\\"id\\\\\":\\\\\"57\\\\\",\\\\\"makeName\\\\\":\\\\\"SUBARU\\\\\"},{\\\\\"id\\\\\":\\\\\"272\\\\\",\\\\\"makeName\\\\\":\\\\\"SUPER GALLANT\\\\\"},{\\\\\"id\\\\\":\\\\\"251\\\\\",\\\\\"makeName\\\\\":\\\\\"SUPER POWER\\\\\"},{\\\\\"id\\\\\":\\\\\"153\\\\\",\\\\\"makeName\\\\\":\\\\\"SUPRA MARS\\\\\"},{\\\\\"id\\\\\":\\\\\"58\\\\\",\\\\\"makeName\\\\\":\\\\\"SUZUKI\\\\\"},{\\\\\"id\\\\\":\\\\\"264\\\\\",\\\\\"makeName\\\\\":\\\\\"TAFE TRACTOR \\\\\"},{\\\\\"id\\\\\":\\\\\"193\\\\\",\\\\\"makeName\\\\\":\\\\\"TANADO\\\\\"},{\\\\\"id\\\\\":\\\\\"59\\\\\",\\\\\"makeName\\\\\":\\\\\"TATA\\\\\"},{\\\\\"id\\\\\":\\\\\"198\\\\\",\\\\\"makeName\\\\\":\\\\\"TEC\\\\\"},{\\\\\"id\\\\\":\\\\\"231\\\\\",\\\\\"makeName\\\\\":\\\\\"TEREX\\\\\"},{\\\\\"id\\\\\":\\\\\"185\\\\\",\\\\\"makeName\\\\\":\\\\\"TIANMA\\\\\"},{\\\\\"id\\\\\":\\\\\"60\\\\\",\\\\\"makeName\\\\\":\\\\\"TIGO\\\\\"},{\\\\\"id\\\\\":\\\\\"81\\\\\",\\\\\"makeName\\\\\":\\\\\"TLD\\\\\"},{\\\\\"id\\\\\":\\\\\"1\\\\\",\\\\\"makeName\\\\\":\\\\\"TOYOTA\\\\\"},{\\\\\"id\\\\\":\\\\\"73\\\\\",\\\\\"makeName\\\\\":\\\\\"TRACTOR\\\\\"},{\\\\\"id\\\\\":\\\\\"87\\\\\",\\\\\"makeName\\\\\":\\\\\"TRAIL KING\\\\\"},{\\\\\"id\\\\\":\\\\\"77\\\\\",\\\\\"makeName\\\\\":\\\\\"TRANSTRAILER\\\\\"},{\\\\\"id\\\\\":\\\\\"134\\\\\",\\\\\"makeName\\\\\":\\\\\"TRIUMPH\\\\\"},{\\\\\"id\\\\\":\\\\\"149\\\\\",\\\\\"makeName\\\\\":\\\\\"TRUMPCHI GAC\\\\\"},{\\\\\"id\\\\\":\\\\\"202\\\\\",\\\\\"makeName\\\\\":\\\\\"TUG\\\\\"},{\\\\\"id\\\\\":\\\\\"78\\\\\",\\\\\"makeName\\\\\":\\\\\"TVS\\\\\"},{\\\\\"id\\\\\":\\\\\"165\\\\\",\\\\\"makeName\\\\\":\\\\\"TWINCO\\\\\"},{\\\\\"id\\\\\":\\\\\"69\\\\\",\\\\\"makeName\\\\\":\\\\\"UM\\\\\"},{\\\\\"id\\\\\":\\\\\"97\\\\\",\\\\\"makeName\\\\\":\\\\\"VALTRA\\\\\"},{\\\\\"id\\\\\":\\\\\"61\\\\\",\\\\\"makeName\\\\\":\\\\\"VAUXHALL\\\\\"},{\\\\\"id\\\\\":\\\\\"62\\\\\",\\\\\"makeName\\\\\":\\\\\"VOLKSWAGEN\\\\\"},{\\\\\"id\\\\\":\\\\\"63\\\\\",\\\\\"makeName\\\\\":\\\\\"VOLVO\\\\\"},{\\\\\"id\\\\\":\\\\\"237\\\\\",\\\\\"makeName\\\\\":\\\\\"VPG\\\\\"},{\\\\\"id\\\\\":\\\\\"278\\\\\",\\\\\"makeName\\\\\":\\\\\"Wrangler\\\\\"},{\\\\\"id\\\\\":\\\\\"64\\\\\",\\\\\"makeName\\\\\":\\\\\"WUHAN SHENJUN\\\\\"},{\\\\\"id\\\\\":\\\\\"65\\\\\",\\\\\"makeName\\\\\":\\\\\"YAMAHA\\\\\"},{\\\\\"id\\\\\":\\\\\"96\\\\\",\\\\\"makeName\\\\\":\\\\\"YATIAN\\\\\"},{\\\\\"id\\\\\":\\\\\"180\\\\\",\\\\\"makeName\\\\\":\\\\\"YORK\\\\\"},{\\\\\"id\\\\\":\\\\\"294\\\\\",\\\\\"makeName\\\\\":\\\\\"YUEJIN\\\\\"},{\\\\\"id\\\\\":\\\\\"155\\\\\",\\\\\"makeName\\\\\":\\\\\"YUTONG\\\\\"},{\\\\\"id\\\\\":\\\\\"173\\\\\",\\\\\"makeName\\\\\":\\\\\"ZAHAV\\\\\"},{\\\\\"id\\\\\":\\\\\"260\\\\\",\\\\\"makeName\\\\\":\\\\\"ZHEJIANG XINCHAI\\\\\"},{\\\\\"id\\\\\":\\\\\"175\\\\\",\\\\\"makeName\\\\\":\\\\\"ZHONGTONG\\\\\"},{\\\\\"id\\\\\":\\\\\"113\\\\\",\\\\\"makeName\\\\\":\\\\\"ZOOMLION\\\\\"},{\\\\\"id\\\\\":\\\\\"247\\\\\",\\\\\"makeName\\\\\":\\\\\"ZOTYE\\\\\"}]}\"]',\n",
              " 3061,\n",
              " 3060)"
            ]
          },
          "metadata": {},
          "execution_count": 106
        }
      ]
    },
    {
      "cell_type": "markdown",
      "metadata": {
        "id": "3mliPyobDr4k"
      },
      "source": [
        "### OLD: Parse row Leadway Success to json"
      ]
    },
    {
      "cell_type": "code",
      "metadata": {
        "id": "H2FJ1cmnDl0A"
      },
      "source": [
        "# use this function when type request is LEADWAY SUCCESS\n",
        "import regex\n",
        "import json\n",
        "\n",
        "\n",
        "def parse_Leadway_Success_Row(text_leadway):\n",
        "  ''' fonction permettant de parser le text concatené pour le type de requet LEADWAY SUCCESS\n",
        "      elle retourner un dictionnaire.'''\n",
        "  pattern = regex.compile(r'\\{(?:[^{}]|(?R))*}')\n",
        "  resul_patt = pattern.findall(text_leadway)\n",
        "  resul_patt[0] = resul_patt[0].replace(\"\\\\\", \"\")\n",
        "  x = resul_patt[0].replace(\"make,\", \"\")\n",
        "  y = x.replace('\"\"makeName\"', '\"makeName\"')\n",
        "  z = json.loads(y)\n",
        "  vehicleMake = z.get('vehicleMake')\n",
        "  leadway_dict = {}\n",
        "  for element in vehicleMake:\n",
        "    leadway_dict[element['id']] = element['makeName']\n",
        "\n",
        "  return leadway_dict\n",
        "\n"
      ],
      "execution_count": 107,
      "outputs": []
    },
    {
      "cell_type": "code",
      "metadata": {
        "colab": {
          "base_uri": "https://localhost:8080/"
        },
        "id": "p-K_HcgpL0Iv",
        "outputId": "f7b38f58-c9e0-48e4-967e-b7e7d6044193"
      },
      "source": [
        "text_concat, index_1, index_2 = parse_and_concatenate_Leadway_Success_Rows(df_raw)\n",
        "text_concat, index_1, index_2\n"
      ],
      "execution_count": 111,
      "outputs": [
        {
          "output_type": "execute_result",
          "data": {
            "text/plain": [
              "('[info] - [\"[LEADWAY SUCCESS]:\",\"{\\\\\"errorMsg\\\\\":\\\\\"\\\\\",\\\\\"signature\\\\\":\\\\\"\\\\\",\\\\\"success\\\\\":true,\\\\\"vehicleMake\\\\\":[{\\\\\"id\\\\\":\\\\\"127\\\\\",\\\\\"makeName\\\\\":\\\\\"35CMB\\\\\"},{\\\\\"id\\\\\":\\\\\"152\\\\\",\\\\\"makeName\\\\\":\\\\\"AC ATUL\\\\\"},{\\\\\"id\\\\\":\\\\\"228\\\\\",\\\\\"makeName\\\\\":\\\\\"ACE\\\\\"},{\\\\\"id\\\\\":\\\\\"147\\\\\",\\\\\"makeName\\\\\":\\\\\"ACURA\\\\\"},{\\\\\"id\\\\\":\\\\\"8\\\\\",\\\\\"makeName\\\\\":\\\\\"ALPHA ROMEO\\\\\"},{\\\\\"id\\\\\":\\\\\"106\\\\\",\\\\\"makeName\\\\\":\\\\\"APACHE\\\\\"},{\\\\\"id\\\\\":\\\\\"210\\\\\",\\\\\"makeName\\\\\":\\\\\"ASHOK LEYLAND\\\\\"},{\\\\\"id\\\\\":\\\\\"80\\\\\",\\\\\"makeName\\\\\":\\\\\"ASTRA\\\\\"},{\\\\\"id\\\\\":\\\\\"3\\\\\",\\\\\"makeName\\\\\":\\\\\"AUDI\\\\\"},{\\\\\"id\\\\\":\\\\\"128\\\\\",\\\\\"makeName\\\\\":\\\\\"AUSTIN\\\\\"},{\\\\\"id\\\\\":\\\\\"109\\\\\",\\\\\"makeName\\\\\":\\\\\"BACK HOE\\\\\"},{\\\\\"id\\\\\":\\\\\"9\\\\\",\\\\\"makeName\\\\\":\\\\\"BADFORD\\\\\"},{\\\\\"id\\\\\":\\\\\"68\\\\\",\\\\\"makeName\\\\\":\\\\\"BAJAJ\\\\\"},{\\\\\"id\\\\\":\\\\\"218\\\\\",\\\\\"makeName\\\\\":\\\\\"BASUKI\\\\\"},{\\\\\"id\\\\\":\\\\\"248\\\\\",\\\\\"makeName\\\\\":\\\\\"BAW\\\\\"},{\\\\\"id\\\\\":\\\\\"244\\\\\",\\\\\"makeName\\\\\":\\\\\"BEDFORD\\\\\"},{\\\\\"id\\\\\":\\\\\"84\\\\\",\\\\\"makeName\\\\\":\\\\\"BEIBEN\\\\\"},{\\\\\"id\\\\\":\\\\\"195\\\\\",\\\\\"makeName\\\\\":\\\\\"BELL\\\\\"},{\\\\\"id\\\\\":\\\\\"174\\\\\",\\\\\"makeName\\\\\":\\\\\"BENTLEY\\\\\"},{\\\\\"id\\\\\":\\\\\"75\\\\\",\\\\\"makeName\\\\\":\\\\\"BHACHU\\\\\"},{\\\\\"id\\\\\":\\\\\"262\\\\\",\\\\\"makeName\\\\\":\\\\\"BIKEMASTER\\\\\"},{\\\\\"id\\\\\":\\\\\"92\\\\\",\\\\\"makeName\\\\\":\\\\\"BLUE BIRD\\\\\"},{\\\\\"id\\\\\":\\\\\"7\\\\\",\\\\\"makeName\\\\\":\\\\\"BMW\\\\\"},{\\\\\"id\\\\\":\\\\\"10\\\\\",\\\\\"makeName\\\\\":\\\\\"BOBCAT\\\\\"},{\\\\\"id\\\\\":\\\\\"290\\\\\",\\\\\"makeName\\\\\":\\\\\"BOVA\\\\\"},{\\\\\"id\\\\\":\\\\\"126\\\\\",\\\\\"makeName\\\\\":\\\\\"BPW\\\\\"},{\\\\\"id\\\\\":\\\\\"269\\\\\",\\\\\"makeName\\\\\":\\\\\"BRILLIANCE\\\\\"},{\\\\\"id\\\\\":\\\\\"182\\\\\",\\\\\"makeName\\\\\":\\\\\"BUICK\\\\\"},{\\\\\"id\\\\\":\\\\\"11\\\\\",\\\\\"makeName\\\\\":\\\\\"CADILLAC\\\\\"},{\\\\\"id\\\\\":\\\\\"12\\\\\",\\\\\"makeName\\\\\":\\\\\"CAM\\\\\"},{\\\\\"id\\\\\":\\\\\"284\\\\\",\\\\\"makeName\\\\\":\\\\\"CANTER FUSO\\\\\"},{\\\\\"id\\\\\":\\\\\"89\\\\\",\\\\\"makeName\\\\\":\\\\\"CAPTAIN\\\\\"},{\\\\\"id\\\\\":\\\\\"217\\\\\",\\\\\"makeName\\\\\":\\\\\"CARTER PEN\\\\\"},{\\\\\"id\\\\\":\\\\\"13\\\\\",\\\\\"makeName\\\\\":\\\\\"CAT\\\\\"},{\\\\\"id\\\\\":\\\\\"239\\\\\",\\\\\"makeName\\\\\":\\\\\"CATERPILLAR\\\\\"},{\\\\\"id\\\\\":\\\\\"254\\\\\",\\\\\"makeName\\\\\":\\\\\"CHANA STAR\\\\\"},{\\\\\"id\\\\\":\\\\\"142\\\\\",\\\\\"makeName\\\\\":\\\\\"CHANGAN\\\\\"},{\\\\\"id\\\\\":\\\\\"223\\\\\",\\\\\"makeName\\\\\":\\\\\"CHANGFENG\\\\\"},{\\\\\"id\\\\\":\\\\\"141\\\\\",\\\\\"makeName\\\\\":\\\\\"CHERRY\\\\\"},{\\\\\"id\\\\\":\\\\\"283\\\\\",\\\\\"makeName\\\\\":\\\\\"CHERY\\\\\"},{\\\\\"id\\\\\":\\\\\"14\\\\\",\\\\\"makeName\\\\\":\\\\\"CHEVROLET\\\\\"},{\\\\\"id\\\\\":\\\\\"15\\\\\",\\\\\"makeName\\\\\":\\\\\"CHRYSLER\\\\\"},{\\\\\"id\\\\\":\\\\\"16\\\\\",\\\\\"makeName\\\\\":\\\\\"CITROEN\\\\\"},{\\\\\"id\\\\\":\\\\\"104\\\\\",\\\\\"makeName\\\\\":\\\\\"CLAAS\\\\\"},{\\\\\"id\\\\\":\\\\\"17\\\\\",\\\\\"makeName\\\\\":\\\\\"CMC\\\\\"},{\\\\\"id\\\\\":\\\\\"181\\\\\",\\\\\"makeName\\\\\":\\\\\"COMMER\\\\\"},{\\\\\"id\\\\\":\\\\\"129\\\\\",\\\\\"makeName\\\\\":\\\\\"CPCD\\\\\"},{\\\\\"id\\\\\":\\\\\"275\\\\\",\\\\\"makeName\\\\\":\\\\\"DACIA\\\\\"},{\\\\\"id\\\\\":\\\\\"18\\\\\",\\\\\"makeName\\\\\":\\\\\"DAEWOO\\\\\"},{\\\\\"id\\\\\":\\\\\"138\\\\\",\\\\\"makeName\\\\\":\\\\\"DAF\\\\\"},{\\\\\"id\\\\\":\\\\\"19\\\\\",\\\\\"makeName\\\\\":\\\\\"DAIHATSU\\\\\"},{\\\\\"id\\\\\":\\\\\"131\\\\\",\\\\\"makeName\\\\\":\\\\\"DALIAN\\\\\"},{\\\\\"id\\\\\":\\\\\"190\\\\\",\\\\\"makeName\\\\\":\\\\\"DATSUN\\\\\"},{\\\\\"id\\\\\":\\\\\"191\\\\\",\\\\\"makeName\\\\\":\\\\\"DAVE\\\\\"},{\\\\\"id\\\\\":\\\\\"161\\\\\",\\\\\"makeName\\\\\":\\\\\"DAYLONG\\\\\"},{\\\\\"id\\\\\":\\\\\"99\\\\\",\\\\\"makeName\\\\\":\\\\\"DAYUN\\\\\"},{\\\\\"id\\\\\":\\\\\"158\\\\\",\\\\\"makeName\\\\\":\\\\\"DEGAB\\\\\"},{\\\\\"id\\\\\":\\\\\"179\\\\\",\\\\\"makeName\\\\\":\\\\\"DENNIS\\\\\"},{\\\\\"id\\\\\":\\\\\"150\\\\\",\\\\\"makeName\\\\\":\\\\\"DENSTAR\\\\\"},{\\\\\"id\\\\\":\\\\\"216\\\\\",\\\\\"makeName\\\\\":\\\\\"DFAC\\\\\"},{\\\\\"id\\\\\":\\\\\"270\\\\\",\\\\\"makeName\\\\\":\\\\\"DFM\\\\\"},{\\\\\"id\\\\\":\\\\\"243\\\\\",\\\\\"makeName\\\\\":\\\\\"DIAMOND REO\\\\\"},{\\\\\"id\\\\\":\\\\\"183\\\\\",\\\\\"makeName\\\\\":\\\\\"DODGE\\\\\"},{\\\\\"id\\\\\":\\\\\"74\\\\\",\\\\\"makeName\\\\\":\\\\\"DOLL\\\\\"},{\\\\\"id\\\\\":\\\\\"88\\\\\",\\\\\"makeName\\\\\":\\\\\"DONGFENG\\\\\"},{\\\\\"id\\\\\":\\\\\"132\\\\\",\\\\\"makeName\\\\\":\\\\\"DOOSAN\\\\\"},{\\\\\"id\\\\\":\\\\\"20\\\\\",\\\\\"makeName\\\\\":\\\\\"DUCATI\\\\\"},{\\\\\"id\\\\\":\\\\\"280\\\\\",\\\\\"makeName\\\\\":\\\\\"EAGLE\\\\\"},{\\\\\"id\\\\\":\\\\\"297\\\\\",\\\\\"makeName\\\\\":\\\\\"EFR\\\\\"},{\\\\\"id\\\\\":\\\\\"21\\\\\",\\\\\"makeName\\\\\":\\\\\"EICHER\\\\\"},{\\\\\"id\\\\\":\\\\\"110\\\\\",\\\\\"makeName\\\\\":\\\\\"ELITE\\\\\"},{\\\\\"id\\\\\":\\\\\"249\\\\\",\\\\\"makeName\\\\\":\\\\\"ENGLON\\\\\"},{\\\\\"id\\\\\":\\\\\"250\\\\\",\\\\\"makeName\\\\\":\\\\\"ENGLON \\\\\"},{\\\\\"id\\\\\":\\\\\"240\\\\\",\\\\\"makeName\\\\\":\\\\\"E-ONE\\\\\"},{\\\\\"id\\\\\":\\\\\"295\\\\\",\\\\\"makeName\\\\\":\\\\\"ETEFA\\\\\"},{\\\\\"id\\\\\":\\\\\"186\\\\\",\\\\\"makeName\\\\\":\\\\\"EVERLAST\\\\\"},{\\\\\"id\\\\\":\\\\\"176\\\\\",\\\\\"makeName\\\\\":\\\\\"FALCON\\\\\"},{\\\\\"id\\\\\":\\\\\"70\\\\\",\\\\\"makeName\\\\\":\\\\\"FAW\\\\\"},{\\\\\"id\\\\\":\\\\\"22\\\\\",\\\\\"makeName\\\\\":\\\\\"FIAT\\\\\"},{\\\\\"id\\\\\":\\\\\"256\\\\\",\\\\\"makeName\\\\\":\\\\\"FIORI\\\\\"},{\\\\\"id\\\\\":\\\\\"133\\\\\",\\\\\"makeName\\\\\":\\\\\"FLATBED\\\\\"},{\\\\\"id\\\\\":\\\\\"23\\\\\",\\\\\"makeName\\\\\":\\\\\"FORD\\\\\"},{\\\\\"id\\\\\":\\\\\"222\\\\\",\\\\\"makeName\\\\\":\\\\\"FORLAND\\\\\"},{\\\\\"id\\\\\":\\\\\"24\\\\\",\\\\\"makeName\\\\\":\\\\\"FOTON\\\\\"},{\\\\\"id\\\\\":\\\\\"148\\\\\",\\\\\"makeName\\\\\":\\\\\"FRAJEND\\\\\"},{\\\\\"id\\\\\":\\\\\"170\\\\\",\\\\\"makeName\\\\\":\\\\\"FREIGHTLINER\\\\\"},{\\\\\"id\\\\\":\\\\\"151\\\\\",\\\\\"makeName\\\\\":\\\\\"FUSO\\\\\"},{\\\\\"id\\\\\":\\\\\"164\\\\\",\\\\\"makeName\\\\\":\\\\\"GAC\\\\\"},{\\\\\"id\\\\\":\\\\\"298\\\\\",\\\\\"makeName\\\\\":\\\\\"Geely\\\\\"},{\\\\\"id\\\\\":\\\\\"226\\\\\",\\\\\"makeName\\\\\":\\\\\"GEELY\\\\\"},{\\\\\"id\\\\\":\\\\\"213\\\\\",\\\\\"makeName\\\\\":\\\\\"GENIE \\\\\"},{\\\\\"id\\\\\":\\\\\"277\\\\\",\\\\\"makeName\\\\\":\\\\\"GENLYON\\\\\"},{\\\\\"id\\\\\":\\\\\"162\\\\\",\\\\\"makeName\\\\\":\\\\\"GMC\\\\\"},{\\\\\"id\\\\\":\\\\\"268\\\\\",\\\\\"makeName\\\\\":\\\\\"GOLDEN DRAGON\\\\\"},{\\\\\"id\\\\\":\\\\\"291\\\\\",\\\\\"makeName\\\\\":\\\\\"GONOW\\\\\"},{\\\\\"id\\\\\":\\\\\"286\\\\\",\\\\\"make,\\\\\"makeName\\\\\":\\\\\"NISSAN\\\\\"},{\\\\\"id\\\\\":\\\\\"296\\\\\",\\\\\"makeName\\\\\":\\\\\"OLDSMOBILE\\\\\"},{\\\\\"id\\\\\":\\\\\"42\\\\\",\\\\\"makeName\\\\\":\\\\\"OPEL\\\\\"},{\\\\\"id\\\\\":\\\\\"289\\\\\",\\\\\"makeName\\\\\":\\\\\"PETERBILT\\\\\"},{\\\\\"id\\\\\":\\\\\"43\\\\\",\\\\\"makeName\\\\\":\\\\\"PEUGEOT\\\\\"},{\\\\\"id\\\\\":\\\\\"105\\\\\",\\\\\"makeName\\\\\":\\\\\"PIAGGIO\\\\\"},{\\\\\"id\\\\\":\\\\\"261\\\\\",\\\\\"makeName\\\\\":\\\\\"POLARSUN\\\\\"},{\\\\\"id\\\\\":\\\\\"159\\\\\",\\\\\"makeName\\\\\":\\\\\"PONTIAC\\\\\"},{\\\\\"id\\\\\":\\\\\"44\\\\\",\\\\\"makeName\\\\\":\\\\\"PORSCHE\\\\\"},{\\\\\"id\\\\\":\\\\\"266\\\\\",\\\\\"makeName\\\\\":\\\\\"PRESIDENT\\\\\"},{\\\\\"id\\\\\":\\\\\"211\\\\\",\\\\\"makeName\\\\\":\\\\\"PROTON\\\\\"},{\\\\\"id\\\\\":\\\\\"253\\\\\",\\\\\"makeName\\\\\":\\\\\"QINGQI\\\\\"},{\\\\\"id\\\\\":\\\\\"246\\\\\",\\\\\"makeName\\\\\":\\\\\"QIPAI\\\\\"},{\\\\\"id\\\\\":\\\\\"157\\\\\",\\\\\"makeName\\\\\":\\\\\"QLINK\\\\\"},{\\\\\"id\\\\\":\\\\\"118\\\\\",\\\\\"makeName\\\\\":\\\\\"QUON\\\\\"},{\\\\\"id\\\\\":\\\\\"45\\\\\",\\\\\"makeName\\\\\":\\\\\"RANDON\\\\\"},{\\\\\"id\\\\\":\\\\\"47\\\\\",\\\\\"makeName\\\\\":\\\\\"RENAULT\\\\\"},{\\\\\"id\\\\\":\\\\\"292\\\\\",\\\\\"makeName\\\\\":\\\\\"Robinson\\\\\"},{\\\\\"id\\\\\":\\\\\"197\\\\\",\\\\\"makeName\\\\\":\\\\\"ROLLS-ROYCE\\\\\"},{\\\\\"id\\\\\":\\\\\"48\\\\\",\\\\\"makeName\\\\\":\\\\\"ROVER\\\\\"},{\\\\\"id\\\\\":\\\\\"207\\\\\",\\\\\"makeName\\\\\":\\\\\"ROYAL\\\\\"},{\\\\\"id\\\\\":\\\\\"49\\\\\",\\\\\"makeName\\\\\":\\\\\"SAAB\\\\\"},{\\\\\"id\\\\\":\\\\\"130\\\\\",\\\\\"makeName\\\\\":\\\\\"SACHS\\\\\"},{\\\\\"id\\\\\":\\\\\"50\\\\\",\\\\\"makeName\\\\\":\\\\\"SAILORMEIYA\\\\\"},{\\\\\"id\\\\\":\\\\\"72\\\\\",\\\\\"makeName\\\\\":\\\\\"SAME\\\\\"},{\\\\\"id\\\\\":\\\\\"194\\\\\",\\\\\"makeName\\\\\":\\\\\"SANY\\\\\"},{\\\\\"id\\\\\":\\\\\"274\\\\\",\\\\\"makeName\\\\\":\\\\\"SATURN\\\\\"},{\\\\\"id\\\\\":\\\\\"51\\\\\",\\\\\"makeName\\\\\":\\\\\"SCANIA\\\\\"},{\\\\\"id\\\\\":\\\\\"232\\\\\",\\\\\"makeName\\\\\":\\\\\"SCHWING\\\\\"},{\\\\\"id\\\\\":\\\\\"172\\\\\",\\\\\"makeName\\\\\":\\\\\"SCION\\\\\"},{\\\\\"id\\\\\":\\\\\"221\\\\\",\\\\\"makeName\\\\\":\\\\\"SEAT\\\\\"},{\\\\\"id\\\\\":\\\\\"245\\\\\",\\\\\"makeName\\\\\":\\\\\"SENKE\\\\\"},{\\\\\"id\\\\\":\\\\\"52\\\\\",\\\\\"makeName\\\\\":\\\\\"SHACMAN\\\\\"},{\\\\\"id\\\\\":\\\\\"111\\\\\",\\\\\"makeName\\\\\":\\\\\"SHANTUI\\\\\"},{\\\\\"id\\\\\":\\\\\"119\\\\\",\\\\\"makeName\\\\\":\\\\\"SHENZEN\\\\\"},{\\\\\"id\\\\\":\\\\\"100\\\\\",\\\\\"makeName\\\\\":\\\\\"SHINERAY\\\\\"},{\\\\\"id\\\\\":\\\\\"215\\\\\",\\\\\"makeName\\\\\":\\\\\"SHIRORO\\\\\"},{\\\\\"id\\\\\":\\\\\"171\\\\\",\\\\\"makeName\\\\\":\\\\\"SINO\\\\\"},{\\\\\"id\\\\\":\\\\\"168\\\\\",\\\\\"makeName\\\\\":\\\\\"SINOKI SUPRA\\\\\"},{\\\\\"id\\\\\":\\\\\"53\\\\\",\\\\\"makeName\\\\\":\\\\\"SINOTRUCK\\\\\"},{\\\\\"id\\\\\":\\\\\"54\\\\\",\\\\\"makeName\\\\\":\\\\\"SKODA\\\\\"},{\\\\\"id\\\\\":\\\\\"108\\\\\",\\\\\"makeName\\\\\":\\\\\"SKYGO\\\\\"},{\\\\\"id\\\\\":\\\\\"55\\\\\",\\\\\"makeName\\\\\":\\\\\"SMART\\\\\"},{\\\\\"id\\\\\":\\\\\"263\\\\\",\\\\\"makeName\\\\\":\\\\\"SONLINK\\\\\"},{\\\\\"id\\\\\":\\\\\"192\\\\\",\\\\\"makeName\\\\\":\\\\\"SOYAT\\\\\"},{\\\\\"id\\\\\":\\\\\"56\\\\\",\\\\\"makeName\\\\\":\\\\\"SSANGYONG\\\\\"},{\\\\\"id\\\\\":\\\\\"145\\\\\",\\\\\"makeName\\\\\":\\\\\"STALLION\\\\\"},{\\\\\"id\\\\\":\\\\\"86\\\\\",\\\\\"makeName\\\\\":\\\\\"STAR\\\\\"},{\\\\\"id\\\\\":\\\\\"209\\\\\",\\\\\"makeName\\\\\":\\\\\"STERLING\\\\\"},{\\\\\"id\\\\\":\\\\\"281\\\\\",\\\\\"makeName\\\\\":\\\\\"STEYR\\\\\"},{\\\\\"id\\\\\":\\\\\"95\\\\\",\\\\\"makeName\\\\\":\\\\\"STO\\\\\"},{\\\\\"id\\\\\":\\\\\"57\\\\\",\\\\\"makeName\\\\\":\\\\\"SUBARU\\\\\"},{\\\\\"id\\\\\":\\\\\"272\\\\\",\\\\\"makeName\\\\\":\\\\\"SUPER GALLANT\\\\\"},{\\\\\"id\\\\\":\\\\\"251\\\\\",\\\\\"makeName\\\\\":\\\\\"SUPER POWER\\\\\"},{\\\\\"id\\\\\":\\\\\"153\\\\\",\\\\\"makeName\\\\\":\\\\\"SUPRA MARS\\\\\"},{\\\\\"id\\\\\":\\\\\"58\\\\\",\\\\\"makeName\\\\\":\\\\\"SUZUKI\\\\\"},{\\\\\"id\\\\\":\\\\\"264\\\\\",\\\\\"makeName\\\\\":\\\\\"TAFE TRACTOR \\\\\"},{\\\\\"id\\\\\":\\\\\"193\\\\\",\\\\\"makeName\\\\\":\\\\\"TANADO\\\\\"},{\\\\\"id\\\\\":\\\\\"59\\\\\",\\\\\"makeName\\\\\":\\\\\"TATA\\\\\"},{\\\\\"id\\\\\":\\\\\"198\\\\\",\\\\\"makeName\\\\\":\\\\\"TEC\\\\\"},{\\\\\"id\\\\\":\\\\\"231\\\\\",\\\\\"makeName\\\\\":\\\\\"TEREX\\\\\"},{\\\\\"id\\\\\":\\\\\"185\\\\\",\\\\\"makeName\\\\\":\\\\\"TIANMA\\\\\"},{\\\\\"id\\\\\":\\\\\"60\\\\\",\\\\\"makeName\\\\\":\\\\\"TIGO\\\\\"},{\\\\\"id\\\\\":\\\\\"81\\\\\",\\\\\"makeName\\\\\":\\\\\"TLD\\\\\"},{\\\\\"id\\\\\":\\\\\"1\\\\\",\\\\\"makeName\\\\\":\\\\\"TOYOTA\\\\\"},{\\\\\"id\\\\\":\\\\\"73\\\\\",\\\\\"makeName\\\\\":\\\\\"TRACTOR\\\\\"},{\\\\\"id\\\\\":\\\\\"87\\\\\",\\\\\"makeName\\\\\":\\\\\"TRAIL KING\\\\\"},{\\\\\"id\\\\\":\\\\\"77\\\\\",\\\\\"makeName\\\\\":\\\\\"TRANSTRAILER\\\\\"},{\\\\\"id\\\\\":\\\\\"134\\\\\",\\\\\"makeName\\\\\":\\\\\"TRIUMPH\\\\\"},{\\\\\"id\\\\\":\\\\\"149\\\\\",\\\\\"makeName\\\\\":\\\\\"TRUMPCHI GAC\\\\\"},{\\\\\"id\\\\\":\\\\\"202\\\\\",\\\\\"makeName\\\\\":\\\\\"TUG\\\\\"},{\\\\\"id\\\\\":\\\\\"78\\\\\",\\\\\"makeName\\\\\":\\\\\"TVS\\\\\"},{\\\\\"id\\\\\":\\\\\"165\\\\\",\\\\\"makeName\\\\\":\\\\\"TWINCO\\\\\"},{\\\\\"id\\\\\":\\\\\"69\\\\\",\\\\\"makeName\\\\\":\\\\\"UM\\\\\"},{\\\\\"id\\\\\":\\\\\"97\\\\\",\\\\\"makeName\\\\\":\\\\\"VALTRA\\\\\"},{\\\\\"id\\\\\":\\\\\"61\\\\\",\\\\\"makeName\\\\\":\\\\\"VAUXHALL\\\\\"},{\\\\\"id\\\\\":\\\\\"62\\\\\",\\\\\"makeName\\\\\":\\\\\"VOLKSWAGEN\\\\\"},{\\\\\"id\\\\\":\\\\\"63\\\\\",\\\\\"makeName\\\\\":\\\\\"VOLVO\\\\\"},{\\\\\"id\\\\\":\\\\\"237\\\\\",\\\\\"makeName\\\\\":\\\\\"VPG\\\\\"},{\\\\\"id\\\\\":\\\\\"278\\\\\",\\\\\"makeName\\\\\":\\\\\"Wrangler\\\\\"},{\\\\\"id\\\\\":\\\\\"64\\\\\",\\\\\"makeName\\\\\":\\\\\"WUHAN SHENJUN\\\\\"},{\\\\\"id\\\\\":\\\\\"65\\\\\",\\\\\"makeName\\\\\":\\\\\"YAMAHA\\\\\"},{\\\\\"id\\\\\":\\\\\"96\\\\\",\\\\\"makeName\\\\\":\\\\\"YATIAN\\\\\"},{\\\\\"id\\\\\":\\\\\"180\\\\\",\\\\\"makeName\\\\\":\\\\\"YORK\\\\\"},{\\\\\"id\\\\\":\\\\\"294\\\\\",\\\\\"makeName\\\\\":\\\\\"YUEJIN\\\\\"},{\\\\\"id\\\\\":\\\\\"155\\\\\",\\\\\"makeName\\\\\":\\\\\"YUTONG\\\\\"},{\\\\\"id\\\\\":\\\\\"173\\\\\",\\\\\"makeName\\\\\":\\\\\"ZAHAV\\\\\"},{\\\\\"id\\\\\":\\\\\"260\\\\\",\\\\\"makeName\\\\\":\\\\\"ZHEJIANG XINCHAI\\\\\"},{\\\\\"id\\\\\":\\\\\"175\\\\\",\\\\\"makeName\\\\\":\\\\\"ZHONGTONG\\\\\"},{\\\\\"id\\\\\":\\\\\"113\\\\\",\\\\\"makeName\\\\\":\\\\\"ZOOMLION\\\\\"},{\\\\\"id\\\\\":\\\\\"247\\\\\",\\\\\"makeName\\\\\":\\\\\"ZOTYE\\\\\"}]}\"]',\n",
              " 3061,\n",
              " 3060)"
            ]
          },
          "metadata": {},
          "execution_count": 111
        }
      ]
    },
    {
      "cell_type": "code",
      "metadata": {
        "id": "HueCLuouMRh5"
      },
      "source": [
        "dict_leadway = parse_Leadway_Success_Row(text_concat)\n",
        "#dict_leadway"
      ],
      "execution_count": 110,
      "outputs": []
    },
    {
      "cell_type": "code",
      "metadata": {
        "id": "0pgax6H27CZi"
      },
      "source": [
        ""
      ],
      "execution_count": 182,
      "outputs": []
    },
    {
      "cell_type": "markdown",
      "metadata": {
        "id": "85TjC7BJDNCI"
      },
      "source": [
        "### OLD: Drop concatenated rows! (faire une méthode qui marcherait si on a plusieurs lignes à effacer)"
      ]
    },
    {
      "cell_type": "code",
      "metadata": {
        "colab": {
          "base_uri": "https://localhost:8080/"
        },
        "id": "w2RjbVPPncVS",
        "outputId": "840111d9-ae8b-4a6e-e838-aece4cc78996"
      },
      "source": [
        "df_raw = df_raw.drop(first_index_succ)\n",
        "df_raw = df_raw.drop(last_index_succ)\n",
        "df_raw.info()"
      ],
      "execution_count": 64,
      "outputs": [
        {
          "output_type": "stream",
          "name": "stdout",
          "text": [
            "<class 'pandas.core.frame.DataFrame'>\n",
            "Int64Index: 4951 entries, 0 to 4952\n",
            "Data columns (total 5 columns):\n",
            " #   Column   Non-Null Count  Dtype \n",
            "---  ------   --------------  ----- \n",
            " 0   type     4951 non-null   object\n",
            " 1   subtype  4951 non-null   object\n",
            " 2   text     4951 non-null   object\n",
            " 3   ts       4951 non-null   object\n",
            " 4   bot_id   4951 non-null   object\n",
            "dtypes: object(5)\n",
            "memory usage: 232.1+ KB\n"
          ]
        }
      ]
    },
    {
      "cell_type": "code",
      "metadata": {
        "colab": {
          "base_uri": "https://localhost:8080/"
        },
        "id": "qZfl792oBMyw",
        "outputId": "dc88c45b-57db-4da7-a1e3-a2265d225cb2"
      },
      "source": [
        "2356 in df_raw.index"
      ],
      "execution_count": 67,
      "outputs": [
        {
          "output_type": "execute_result",
          "data": {
            "text/plain": [
              "True"
            ]
          },
          "metadata": {},
          "execution_count": 67
        }
      ]
    },
    {
      "cell_type": "markdown",
      "metadata": {
        "id": "w7HojPnbUTHG"
      },
      "source": [
        "### OLD: Check rows that do not start with [ and drop them\n",
        "NB: faire un docstring (''' ''') pour chaque fonction"
      ]
    },
    {
      "cell_type": "code",
      "metadata": {
        "id": "bC5hdRkiP2ng"
      },
      "source": [
        " df_sans_crochet = []\n",
        " for index, row in df_raw.iterrows():\n",
        "    str_text_1 = row['text']\n",
        "    if not str_text_1.startswith('['):\n",
        "      df_sans_crochet.append(row)    "
      ],
      "execution_count": 70,
      "outputs": []
    },
    {
      "cell_type": "code",
      "metadata": {
        "colab": {
          "base_uri": "https://localhost:8080/",
          "height": 172
        },
        "id": "EuaXg7jNKdxZ",
        "outputId": "d7cd2ace-aff8-4430-8438-446ffe3360de"
      },
      "source": [
        "pd.DataFrame(df_sans_crochet)"
      ],
      "execution_count": 71,
      "outputs": [
        {
          "output_type": "execute_result",
          "data": {
            "text/html": [
              "<div>\n",
              "<style scoped>\n",
              "    .dataframe tbody tr th:only-of-type {\n",
              "        vertical-align: middle;\n",
              "    }\n",
              "\n",
              "    .dataframe tbody tr th {\n",
              "        vertical-align: top;\n",
              "    }\n",
              "\n",
              "    .dataframe thead th {\n",
              "        text-align: right;\n",
              "    }\n",
              "</style>\n",
              "<table border=\"1\" class=\"dataframe\">\n",
              "  <thead>\n",
              "    <tr style=\"text-align: right;\">\n",
              "      <th></th>\n",
              "      <th>type</th>\n",
              "      <th>subtype</th>\n",
              "      <th>text</th>\n",
              "      <th>ts</th>\n",
              "      <th>bot_id</th>\n",
              "    </tr>\n",
              "  </thead>\n",
              "  <tbody>\n",
              "    <tr>\n",
              "      <th>2356</th>\n",
              "      <td>message</td>\n",
              "      <td>bot_message</td>\n",
              "      <td>SZxKLKSMVt2OavYly1g5M3tjyWWwsjs9cfI7xg5LY/XJZN...</td>\n",
              "      <td>1630951981.029800</td>\n",
              "      <td>B01RC3AKYG6</td>\n",
              "    </tr>\n",
              "    <tr>\n",
              "      <th>2358</th>\n",
              "      <td>message</td>\n",
              "      <td>bot_message</td>\n",
              "      <td>cZLwYJdmiKcLEoSjK0Xxy9R0QivBncaw+DlxTKlL0ttPZc...</td>\n",
              "      <td>1630951981.030000</td>\n",
              "      <td>B01RC3AKYG6</td>\n",
              "    </tr>\n",
              "    <tr>\n",
              "      <th>2359</th>\n",
              "      <td>message</td>\n",
              "      <td>bot_message</td>\n",
              "      <td>Y9kUk0UT2OwQ0USNPBDVdbDoS98jAaxgPgQBTCw0hfkId4...</td>\n",
              "      <td>1630951981.030100</td>\n",
              "      <td>B01RC3AKYG6</td>\n",
              "    </tr>\n",
              "    <tr>\n",
              "      <th>3059</th>\n",
              "      <td>message</td>\n",
              "      <td>bot_message</td>\n",
              "      <td>Name\\\":\\\"GRAND CHEROKEE\\\"},{\\\"id\\\":\\\"115\\\",\\\"m...</td>\n",
              "      <td>1630963547.006200</td>\n",
              "      <td>B01RC3AKYG6</td>\n",
              "    </tr>\n",
              "  </tbody>\n",
              "</table>\n",
              "</div>"
            ],
            "text/plain": [
              "         type      subtype  ...                 ts       bot_id\n",
              "2356  message  bot_message  ...  1630951981.029800  B01RC3AKYG6\n",
              "2358  message  bot_message  ...  1630951981.030000  B01RC3AKYG6\n",
              "2359  message  bot_message  ...  1630951981.030100  B01RC3AKYG6\n",
              "3059  message  bot_message  ...  1630963547.006200  B01RC3AKYG6\n",
              "\n",
              "[4 rows x 5 columns]"
            ]
          },
          "metadata": {},
          "execution_count": 71
        }
      ]
    },
    {
      "cell_type": "code",
      "metadata": {
        "colab": {
          "base_uri": "https://localhost:8080/",
          "height": 137
        },
        "id": "_CX8UExpCqXP",
        "outputId": "2ae7a1d3-0837-4f71-de19-6fca5d2a6a0f"
      },
      "source": [
        "df_raw['text'][2355]"
      ],
      "execution_count": 74,
      "outputs": [
        {
          "output_type": "execute_result",
          "data": {
            "application/vnd.google.colaboratory.intrinsic+json": {
              "type": "string"
            },
            "text/plain": [
              "'[error] - [\"[LOAN ERROR]:\",\"{\\\\\"code\\\\\":\\\\\"ER_BAD_NULL_ERROR\\\\\",\\\\\"errno\\\\\":1048,\\\\\"sqlMessage\\\\\":\\\\\"Column \\'name\\' cannot be null\\\\\",\\\\\"sqlState\\\\\":\\\\\"23000\\\\\",\\\\\"index\\\\\":0,\\\\\"sql\\\\\":\\\\\"INSERT INTO preapplications Set `product` = 11, `loan_amount` = 5000, `tenor` = 1, `loan_purpose` = \\'18\\', `tenor_type` = \\'monthly\\', `selfie` = \\'data:image/png;base64,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'"
            ]
          },
          "metadata": {},
          "execution_count": 74
        }
      ]
    },
    {
      "cell_type": "markdown",
      "metadata": {
        "id": "ho5dPdBwml27"
      },
      "source": [
        "### OLD: Handle log level \"Error\"\n",
        "NB: faire un docstring (''' ''') pour chaque fonction"
      ]
    },
    {
      "cell_type": "code",
      "metadata": {
        "colab": {
          "base_uri": "https://localhost:8080/"
        },
        "id": "GVdLxBzV4IwL",
        "outputId": "1f61e71a-56dc-4e96-ae42-29fd017176be"
      },
      "source": [
        "import regex\n",
        "import json\n",
        "import re\n",
        "\n",
        "json_text = df_raw['text'][2355].replace('\"', \"'\") # interdit de le faire\n",
        "pattern = regex.compile(r\"{?[a-z :A-Z 0-9\\\\,=_`']+selfie\")\n",
        "resul_patt = pattern.findall(json_text)\n",
        "res = resul_patt[0].replace(\"\\\\\", \" \")\n",
        "res = res.replace(\"'name'\", \"name\").replace(\"`\", \"\").replace(\"'18'\", \"18\").replace(\"'monthly'\", \"monthly\") # utiliser peut-etre le regex re.sub pour gérer '18'\n",
        "res = res+'\"}'\n",
        "res = res.replace(\"\\'\", '\"')\n",
        "res\n",
        "s = json.loads(res)\n",
        "print(s.get('sql '))\n",
        "print(s.get('code '))\n",
        "print(s.get('errno '))\n",
        "print(s.get('index '))\n",
        "print(s.get('sqlMessage '))\n",
        "print(s.get('sqlState '))\n"
      ],
      "execution_count": 72,
      "outputs": [
        {
          "output_type": "stream",
          "name": "stdout",
          "text": [
            "INSERT INTO preapplications Set product = 11, loan_amount = 5000, tenor = 1, loan_purpose = 18, tenor_type = monthly, selfie\n",
            "ER_BAD_NULL_ERROR \n",
            "1048\n",
            "0\n",
            "Column name cannot be null \n",
            "23000 \n"
          ]
        }
      ]
    },
    {
      "cell_type": "code",
      "metadata": {
        "id": "oLMS5PrDoPIV"
      },
      "source": [
        "import regex\n",
        "import json\n",
        "\n",
        "def parseErrorRow(error_row):\n",
        "  error_row.replace('\"', \"'\")\n",
        "  pattern = regex.compile(r\"{?[a-z :A-Z 0-9\\\\,=_`']+selfie\")\n",
        "  resul_patt = pattern.findall(error_row)\n",
        "  res = resul_patt[0].replace(\"\\\\\", \" \")\n",
        "  res = res.replace(\"'name'\", \"name\").replace(\"`\", \"\").replace(\"'18'\", \"18\").replace(\"'monthly'\", \"monthly\")\n",
        "  res = res+'\"}'\n",
        "  res = res.replace(\"'\", '\"')\n",
        "  s = json.loads(res)\n",
        "  return s"
      ],
      "execution_count": 73,
      "outputs": []
    },
    {
      "cell_type": "markdown",
      "metadata": {
        "id": "OY9EAlNYIv5x"
      },
      "source": [
        "### OLD: Function to convert data to timestamp"
      ]
    },
    {
      "cell_type": "code",
      "metadata": {
        "id": "Fd-prG9NMlJz"
      },
      "source": [
        "import datetime\n",
        "\n",
        "# function to convert date to Timestamp\n",
        "def convertToTimestamp(str):\n",
        "  element = datetime.datetime.strptime(str,\"%Y-%m-%dT%H:%M:%S.%fZ\")\n",
        "  return datetime.datetime.timestamp(element)"
      ],
      "execution_count": 8,
      "outputs": []
    },
    {
      "cell_type": "code",
      "metadata": {
        "id": "l-rZUfpUM3lc",
        "colab": {
          "base_uri": "https://localhost:8080/"
        },
        "outputId": "c7effcdb-f060-4400-eda1-51b9fa15a83c"
      },
      "source": [
        "timestamp = convertToTimestamp('2021-09-05T07:03:55.223Z')\n",
        "timestamp"
      ],
      "execution_count": 9,
      "outputs": [
        {
          "output_type": "execute_result",
          "data": {
            "text/plain": [
              "1630825435.223"
            ]
          },
          "metadata": {},
          "execution_count": 9
        }
      ]
    },
    {
      "cell_type": "markdown",
      "metadata": {
        "id": "D8TrJS3NHJ6x"
      },
      "source": [
        "## 2 Data model\n",
        "### 2.1 Parse rows of dataset"
      ]
    },
    {
      "cell_type": "markdown",
      "metadata": {
        "id": "585dRkFQPUbB"
      },
      "source": [
        "### créer un dictionnary pour "
      ]
    },
    {
      "cell_type": "code",
      "metadata": {
        "colab": {
          "base_uri": "https://localhost:8080/"
        },
        "id": "88lZf2qqvQag",
        "outputId": "023bb0c3-8f50-46df-cad5-62f870404da1"
      },
      "source": [
        "type_request_dictionnary = {}\n",
        "regex_list_api_request = []\n",
        "regex_list_api_request.append('[\\w.+-]+@[\\w-]+\\.[\\w.-]+')\n",
        "regex_list_api_request.append('/[/a-z 0-9?=&;/_A-Z+]+')\n",
        "regex_list_api_request.append('(\\d{4})-(\\d\\d)-(\\d\\d)T(\\d\\d):(\\d\\d):(\\d\\d).(\\d{3})*[a-zA-Z]')\n",
        "\n",
        "type_request_dictionnary['API REQUEST'] = regex_list_api_request\n",
        "\n",
        "regex_list_client_mobile = []\n",
        "regex_list_client_mobile.append('[\\w.+-]+@[\\w-]+\\.[\\w.-]+')\n",
        "regex_list_client_mobile.append('(\\d{4})-(\\d\\d)-(\\d\\d)T(\\d\\d):(\\d\\d):(\\d\\d).(\\d{3})*[a-zA-Z]')\n",
        "\n",
        "type_request_dictionnary['CLIENT MOBILE LOGIN'] = regex_list_client_mobile\n",
        "\n",
        "\n",
        "type_request_dictionnary['SMS PAYLOAD'] = '\\{(?:[^{}]|(?R))*}'\n",
        "type_request_dictionnary['SMS SUCCESS'] = '\\{(?:[^{}]|(?R))*}'\n",
        "type_request_dictionnary['WALLET SUCCESS'] = '\\{(?:[^{}]|(?R))*}'\n",
        "type_request_dictionnary['LEADWAY SUCCESS'] = '\\{(?:[^{}]|(?R))*}'\n",
        "\n",
        "\n",
        "type_request_dictionnary\n"
      ],
      "execution_count": 120,
      "outputs": [
        {
          "output_type": "execute_result",
          "data": {
            "text/plain": [
              "{'API REQUEST': ['[\\\\w.+-]+@[\\\\w-]+\\\\.[\\\\w.-]+',\n",
              "  '/[/a-z 0-9?=&;/_A-Z+]+',\n",
              "  '(\\\\d{4})-(\\\\d\\\\d)-(\\\\d\\\\d)T(\\\\d\\\\d):(\\\\d\\\\d):(\\\\d\\\\d).(\\\\d{3})*[a-zA-Z]'],\n",
              " 'CLIENT MOBILE LOGIN': ['[\\\\w.+-]+@[\\\\w-]+\\\\.[\\\\w.-]+',\n",
              "  '(\\\\d{4})-(\\\\d\\\\d)-(\\\\d\\\\d)T(\\\\d\\\\d):(\\\\d\\\\d):(\\\\d\\\\d).(\\\\d{3})*[a-zA-Z]'],\n",
              " 'LEADWAY SUCCESS': '\\\\{(?:[^{}]|(?R))*}',\n",
              " 'SMS PAYLOAD': '\\\\{(?:[^{}]|(?R))*}',\n",
              " 'SMS SUCCESS': '\\\\{(?:[^{}]|(?R))*}',\n",
              " 'WALLET SUCCESS': '\\\\{(?:[^{}]|(?R))*}'}"
            ]
          },
          "metadata": {},
          "execution_count": 120
        }
      ]
    },
    {
      "cell_type": "markdown",
      "metadata": {
        "id": "ceqzAG_lPsE7"
      },
      "source": [
        "### création des listes pour des None dans la fonction "
      ]
    },
    {
      "cell_type": "code",
      "metadata": {
        "id": "jOgUgLTFpx36"
      },
      "source": [
        "import re\n",
        "import regex\n",
        "import json\n",
        "\n",
        "# parse row of text column\n",
        "\n",
        "def parserow(df_):\n",
        "  log_level_col = []\n",
        "  api_request_col = []\n",
        "  type_request_col = []\n",
        "  phone_Col = []\n",
        "  date_col = []\n",
        "  endpoint_Col = []\n",
        "  email_col = []\n",
        "  message_sms_payload_col = []\n",
        "  totalsent_col = []\n",
        "  cost_col = []\n",
        "  status_col = []\n",
        "  account_number_col = []\n",
        "  account_name_col = []\n",
        "  bvn_col = []\n",
        "  requestSuccessful_col = []\n",
        "  responseMessage_col = []\n",
        "  responseCode_col = []\n",
        "\n",
        "\n",
        "  list_column_api_request = []\n",
        "  list_column_api_request.append(message_sms_payload_col)\n",
        "  list_column_api_request.append(totalsent_col)\n",
        "  list_column_api_request.append(cost_col)\n",
        "  list_column_api_request.append(status_col)\n",
        "  list_column_api_request.append(account_number_col)\n",
        "  list_column_api_request.append(bvn_col)\n",
        "  list_column_api_request.append(requestSuccessful_col)\n",
        "  list_column_api_request.append(responseMessage_col)\n",
        "  list_column_api_request.append(responseCode_col)\n",
        "  list_column_api_request.append(account_name_col)\n",
        "\n",
        "\n",
        "  for index, row in df_.iterrows():\n",
        "    str_text = row['text']\n",
        "        \n",
        "    # check if the row contains \"info\" string\n",
        "    if re.search('info', str_text):\n",
        "        log_level = re.search('info', str_text)\n",
        "        try:\n",
        "          log_level_col.append(log_level.group(0))\n",
        "        except AttributeError:\n",
        "          log_level_col.append(None)        \n",
        "        # check if the row contains an email address \n",
        "        # pour tous les types request créer un dictionnaire dans lequel mapper\n",
        "        # key = type de request et value = les regex définis\n",
        "        # pour chaque condition IF créer une liste de colonnes auxquelles affecter None\n",
        "        if 'mailto' in str_text:\n",
        "            if re.search('API REQUEST', str_text):\n",
        "                type_of_request = re.search('API REQUEST', str_text)\n",
        "                phone_or_email = re.search('[\\w.+-]+@[\\w-]+\\.[\\w.-]+', str_text)    # extract address email for API REQUEST               \n",
        "                endpoint = re.search('/[/a-z 0-9?=&;/_A-Z+]+', str_text) # extract endpoint\n",
        "                pattern = \"(\\d{4})-(\\d\\d)-(\\d\\d)T(\\d\\d):(\\d\\d):(\\d\\d).(\\d{3})*[a-zA-Z]\"\n",
        "                datepattern = re.compile(\"(?:%s)\"%(pattern))\n",
        "                datematcher = datepattern.search(str_text)  # extract date\n",
        "\n",
        "                for x in list_column_api_request:\n",
        "                  list_column_api_request.append(None)\n",
        "                \n",
        "                #message_sms_payload_col.append(None) \n",
        "                #totalsent_col.append(None)\n",
        "                #cost_col.append(None)\n",
        "                #status_col.append(None)\n",
        "                #account_number_col.append(None)\n",
        "                #bvn_col.append(None)\n",
        "                #requestSuccessful_col.append(None)\n",
        "                #responseMessage_col.append(None)\n",
        "                #responseCode_col.append(None)\n",
        "                #account_name_col.append(None)\n",
        "                try:\n",
        "                  type_request_col.append(type_of_request.group(0)) # add type request inside type request column\n",
        "                except AttributeError:\n",
        "                  type_request_col.append(None)               \n",
        "                try:\n",
        "                  email_col.append(phone_or_email.group(0)) # add email inside email column\n",
        "                  phone_Col.append(None)  # in this case there is no phone number\n",
        "                except AttributeError:\n",
        "                  email_col.append(None)\n",
        "                try:\n",
        "                  endpoint_Col.append(endpoint.group(0)) # add endpoint inside endpoint column\n",
        "                except AttributeError:\n",
        "                  endpoint_Col.append(None)\n",
        "                try:\n",
        "                  date_col.append(convertToTimestamp(datematcher.group(0))) # convert date to timestamp and add it inside date column\n",
        "                except AttributeError:\n",
        "                  date_col.append(None)\n",
        "              \n",
        "            elif re.search('CLIENT MOBILE LOGIN', str_text):   # CLIENT MOBILE LOGIN with email address\n",
        "                  type_of_request = re.search('CLIENT MOBILE LOGIN', str_text)\n",
        "                  phone_or_email = re.search('[\\w.+-]+@[\\w-]+\\.[\\w.-]+', str_text)    # extract address email for CLIENT MOBILE LOGIN\n",
        "                  pattern = \"(\\d{4})-(\\d\\d)-(\\d\\d)T(\\d\\d):(\\d\\d):(\\d\\d).(\\d{3})*[a-zA-Z]\"\n",
        "                  datepattern = re.compile(\"(?:%s)\"%(pattern))\n",
        "                  datematcher = datepattern.search(str_text)  # extract date for CLIENT MOBILE LOGIN type request\n",
        "                  message_sms_payload_col.append(None) # in this case there is no message sms payload \n",
        "                  totalsent_col.append(None)\n",
        "                  cost_col.append(None)\n",
        "                  status_col.append(None)\n",
        "                  account_number_col.append(None)\n",
        "                  bvn_col.append(None)\n",
        "                  requestSuccessful_col.append(None)\n",
        "                  responseMessage_col.append(None)\n",
        "                  responseCode_col.append(None)\n",
        "                  account_name_col.append(None)\n",
        "                  endpoint_Col.append(None)\n",
        "                  try:\n",
        "                    type_request_col.append(type_of_request.group(0)) # add type request inside type request column\n",
        "                  except AttributeError:\n",
        "                    type_request_col.append(None) \n",
        "                  try:\n",
        "                    email_col.append(phone_or_email.group(0)) # add email inside email column\n",
        "                    phone_Col.append(None)  # in this case there is no phone number\n",
        "                  except AttributeError:\n",
        "                    email_col.append(None)\n",
        "                  try:\n",
        "                    date_col.append(convertToTimestamp(datematcher.group(0))) # convert date to timestamp and add it inside date column\n",
        "                  except AttributeError:\n",
        "                    date_col.append(None)\n",
        "\n",
        "        elif 'mailto' not in str_text:\n",
        "            if re.search('API REQUEST', str_text):\n",
        "                type_of_request = re.search('API REQUEST', str_text)\n",
        "                phone_or_email = re.search('[0-9]+', str_text)    # extract a phone number for API REQUEST\n",
        "                endpoint = re.search('/[/a-z 0-9?=&;/_A-Z+]+', str_text) # extract endpoint\n",
        "                pattern = \"(\\d{4})-(\\d\\d)-(\\d\\d)T(\\d\\d):(\\d\\d):(\\d\\d).(\\d{3})*[a-zA-Z]\"\n",
        "                datepattern = re.compile(\"(?:%s)\"%(pattern))\n",
        "                datematcher = datepattern.search(str_text)  # extract date\n",
        "                message_sms_payload_col.append(None) # in this case there is no message sms payload\n",
        "                totalsent_col.append(None)\n",
        "                cost_col.append(None)\n",
        "                status_col.append(None)\n",
        "                account_number_col.append(None)\n",
        "                bvn_col.append(None)\n",
        "                requestSuccessful_col.append(None)\n",
        "                responseMessage_col.append(None)\n",
        "                responseCode_col.append(None)\n",
        "                account_name_col.append(None)\n",
        "                try:\n",
        "                  phone_Col.append(phone_or_email.group(0)) # add phone number inside phone number column\n",
        "                  email_col.append(None) # in this case there is no email address\n",
        "                except AttributeError:\n",
        "                  phone_Col.append(None)\n",
        "                try:\n",
        "                  type_request_col.append(type_of_request.group(0))\n",
        "                except AttributeError:\n",
        "                  type_request_col.append(None)\n",
        "                try:\n",
        "                  endpoint_Col.append(endpoint.group(0)) # add endpoint inside endpoint column\n",
        "                except AttributeError:\n",
        "                  endpoint_Col.append(None)\n",
        "                try:\n",
        "                  date_col.append(convertToTimestamp(datematcher.group(0))) # convert date to timestamp and add it inside date column\n",
        "                except AttributeError:\n",
        "                  date_col.append(None)\n",
        "            elif re.search('CLIENT MOBILE LOGIN', str_text): # when type request is CLIENT MOBILE LOGIN, there is no EndPoint\n",
        "                type_of_request = re.search('CLIENT MOBILE LOGIN', str_text)\n",
        "                phone_or_email = re.search('[0-9]+', str_text)    # extract a phone number for CLIENT MOBILE LOGIN\n",
        "                pattern = \"(\\d{4})-(\\d\\d)-(\\d\\d)T(\\d\\d):(\\d\\d):(\\d\\d).(\\d{3})*[a-zA-Z]\"\n",
        "                datepattern = re.compile(\"(?:%s)\"%(pattern))\n",
        "                datematcher = datepattern.search(str_text)  # extract date\n",
        "                endpoint_Col.append(None) # in this case there is no endpoint\n",
        "                message_sms_payload_col.append(None) # in this case there is no message sms payload\n",
        "                email_col.append(None)\n",
        "                totalsent_col.append(None)\n",
        "                cost_col.append(None)\n",
        "                status_col.append(None)\n",
        "                account_number_col.append(None)\n",
        "                bvn_col.append(None)\n",
        "                requestSuccessful_col.append(None)\n",
        "                responseMessage_col.append(None)\n",
        "                responseCode_col.append(None)\n",
        "                account_name_col.append(None)\n",
        "                try:\n",
        "                  phone_Col.append(phone_or_email.group(0))\n",
        "                except AttributeError:\n",
        "                  phone_Col.append(None)\n",
        "                try:\n",
        "                  type_request_col.append(type_of_request.group(0))\n",
        "                except AttributeError:\n",
        "                  type_request_col.append(None)\n",
        "                try:\n",
        "                  date_col.append(convertToTimestamp(datematcher.group(0))) # convert date to timestamp and add it inside date column\n",
        "                except AttributeError:\n",
        "                  date_col.append(None)\n",
        "\n",
        "            elif re.search('SMS PAYLOAD', str_text):\n",
        "                type_of_request = re.search('SMS PAYLOAD', str_text)            \n",
        "                pattern = regex.compile(r'\\{(?:[^{}]|(?R))*}')\n",
        "                resul_patt_sms_payload = pattern.findall(str_text)\n",
        "                res_sms_payload = resul_patt_sms_payload[0].replace(\"\\\\\", \" \")\n",
        "                sms_payload = json.loads(res_sms_payload)\n",
        "                phone_number = sms_payload.get('phone ').replace(\" \", \"\")\n",
        "                message = sms_payload.get('message ')\n",
        "                totalsent_col.append(None)\n",
        "                cost_col.append(None)\n",
        "                status_col.append(None)\n",
        "                account_number_col.append(None)\n",
        "                bvn_col.append(None)\n",
        "                requestSuccessful_col.append(None)\n",
        "                responseMessage_col.append(None)\n",
        "                responseCode_col.append(None)\n",
        "                account_name_col.append(None)\n",
        "                email_col.append(None)\n",
        "                endpoint_Col.append(None)\n",
        "                date_col.append(None)\n",
        "                try:\n",
        "                  type_request_col.append(type_of_request.group(0))\n",
        "                except AttributeError:\n",
        "                  type_request_col.append(None)\n",
        "                try:\n",
        "                  phone_Col.append(phone_number)\n",
        "                except AttributeError:\n",
        "                  phone_Col.append(None)\n",
        "                try:\n",
        "                  message_sms_payload_col.append(message)\n",
        "                except AttributeError:\n",
        "                  message_sms_payload_col.append(None)\n",
        "                \n",
        "            elif re.search('SMS SUCCESS', str_text): \n",
        "                type_of_request = re.search('SMS SUCCESS', str_text)\n",
        "                pattern = regex.compile(r'\\{(?:[^{}]|(?R))*}')\n",
        "                resul_patt_sms_success = pattern.findall(str_text)\n",
        "                res_sms_success = resul_patt_sms_success[0].replace(\"\\\\\", \" \")\n",
        "                sms_success = json.loads(res_sms_success)\n",
        "                cost = sms_success.get('response ').get('cost ')\n",
        "                status = sms_success.get('response ').get('status ')\n",
        "                totalsent = sms_success.get('response ').get('totalsent ')\n",
        "                message_sms_payload_col.append(None) # in this case there is no message sms payload              \n",
        "                account_number_col.append(None)\n",
        "                bvn_col.append(None)\n",
        "                requestSuccessful_col.append(None)\n",
        "                responseMessage_col.append(None)\n",
        "                responseCode_col.append(None)\n",
        "                account_name_col.append(None)\n",
        "                email_col.append(None)\n",
        "                phone_Col.append(None)\n",
        "                endpoint_Col.append(None)\n",
        "                date_col.append(None)\n",
        "                try:\n",
        "                  type_request_col.append(type_of_request.group(0))\n",
        "                except AttributeError:\n",
        "                  type_request_col.append(None)\n",
        "                try:                 \n",
        "                  totalsent_col.append(totalsent)\n",
        "                except AttributeError:\n",
        "                  totalsent_col.append(None)\n",
        "                try:                 \n",
        "                  cost_col.append(cost)\n",
        "                except AttributeError:\n",
        "                  cost_col.append(None)\n",
        "                try:                 \n",
        "                  status_col.append(status)\n",
        "                except AttributeError:\n",
        "                  status_col.append(None)\n",
        "            elif re.search('WALLET PAYLOAD', str_text):\n",
        "                  type_of_request = re.search('WALLET PAYLOAD', str_text)\n",
        "                  message_sms_payload_col.append(None) # in this case there is no message sms payload\n",
        "                  totalsent_col.append(None)\n",
        "                  cost_col.append(None)\n",
        "                  status_col.append(None)\n",
        "                  account_number_col.append(None)\n",
        "                  bvn_col.append(None)\n",
        "                  requestSuccessful_col.append(None)\n",
        "                  responseMessage_col.append(None)\n",
        "                  responseCode_col.append(None)\n",
        "                  account_name_col.append(None)\n",
        "                  email_col.append(None)\n",
        "                  phone_Col.append(None)\n",
        "                  endpoint_Col.append(None)\n",
        "                  date_col.append(None)\n",
        "                  try:\n",
        "                    type_request_col.append(type_of_request.group(0))\n",
        "                  except AttributeError:\n",
        "                    type_request_col.append(None)\n",
        "            elif re.search('WALLET SUCCESS', str_text):\n",
        "                  type_of_request = re.search('WALLET SUCCESS', str_text)\n",
        "                  pattern = regex.compile(r'\\{(?:[^{}]|(?R))*}')\n",
        "                  resul_patt_wallet_success = pattern.findall(str_text)\n",
        "                  res_wallet_success = resul_patt_wallet_success[0].replace(\"\\\\\", \" \")\n",
        "                  wallet_success = json.loads(res_wallet_success)\n",
        "                  account_number_col.append(wallet_success.get('account_number '))\n",
        "                  account_name_col.append(wallet_success.get('account_name '))\n",
        "                  bvn_col.append(wallet_success.get('bvn '))\n",
        "                  requestSuccessful_col.append(wallet_success.get('requestSuccessful '))\n",
        "                  responseMessage_col.append((wallet_success.get('responseMessage ')))\n",
        "                  responseCode_col.append((wallet_success.get('responseCode ')))\n",
        "                  message_sms_payload_col.append(None) # in this case there is no message sms payload\n",
        "                  totalsent_col.append(None)\n",
        "                  cost_col.append(None)\n",
        "                  status_col.append(None)\n",
        "                  email_col.append(None)\n",
        "                  phone_Col.append(None)\n",
        "                  endpoint_Col.append(None)\n",
        "                  date_col.append(None)\n",
        "                  try:\n",
        "                    type_request_col.append(type_of_request.group(0))\n",
        "                  except AttributeError:\n",
        "                    type_request_col.append(None)\n",
        "            elif re.search('LEADWAY SUCCESS', str_text):\n",
        "                  text_leadway = parseLeadwaySuccessRow()\n",
        "                  print(text_leadway)\n",
        "                  pattern = regex.compile(r'\\{(?:[^{}]|(?R))*}')\n",
        "                  resul_patt_leadway_success = pattern.findall(text_leadway)\n",
        "                  resul_patt_leadway_success[0] = resul_patt_leadway_success[0].replace(\"\\\\\", \"\")\n",
        "                  print(resul_patt_leadway_success[0])\n",
        "                  replace_make = resul_patt_leadway_success[0].replace(\"make,\", \"\")\n",
        "                  replace_makeName = replace_make.replace('\"\"makeName\"', '\"makeName\"')\n",
        "                  leadway_json = json.loads(replace_makeName)\n",
        "                  vehicleMake = leadway_json.get('vehicleMake')\n",
        "                  print(vehicleMake)\n",
        "                  try:\n",
        "                    type_request_col.append(type_of_request.group(0))\n",
        "                  except AttributeError:\n",
        "                    type_request_col.append(None)\n",
        "                  for index in range(len(vehicleMake)):\n",
        "                      vehicle_make_id_col.append(vehicleMake[index].get('id'))\n",
        "                      vehicle_make_name_col.append(vehicleMake[index].get('makeName'))\n",
        "\n",
        "                  type_of_request = re.search('LEADWAY SUCCESS', str_text)\n",
        "                  message_sms_payload_col.append(None) # in this case there is no message sms payload\n",
        "                  totalsent_col.append(None)\n",
        "                  cost_col.append(None)\n",
        "                  status_col.append(None)\n",
        "                  account_number_col.append(None)\n",
        "                  bvn_col.append(None)\n",
        "                  requestSuccessful_col.append(None)\n",
        "                  responseMessage_col.append(None)\n",
        "                  responseCode_col.append(None)\n",
        "                  account_name_col.append(None)\n",
        "                  email_col.append(None)\n",
        "                  phone_Col.append(None)\n",
        "                  endpoint_Col.append(None)\n",
        "                  date_col.append(None)                    \n",
        "    elif re.search('error', str_text):\n",
        "        log_level = re.search('error', str_text)\n",
        "\n",
        "        message_sms_payload_col.append(None) # in this case there is no message sms payload\n",
        "        totalsent_col.append(None)\n",
        "        cost_col.append(None)\n",
        "        status_col.append(None)\n",
        "        email_col.append(None)\n",
        "        phone_Col.append(None)\n",
        "        endpoint_Col.append(None)\n",
        "        date_col.append(None)\n",
        "        bvn_col.append(None)\n",
        "        requestSuccessful_col.append(None)\n",
        "        responseMessage_col.append(None)\n",
        "        responseCode_col.append(None)\n",
        "        account_name_col.append(None)\n",
        "        account_number_col.append(None)\n",
        "        try:\n",
        "          log_level_col.append(log_level.group(0))\n",
        "        except AttributeError:\n",
        "          log_level_col.append(None)\n",
        "\n",
        "        if re.search('LOAN ERROR', str_text):\n",
        "            type_of_request = re.search('LOAN ERROR', str_text)\n",
        "            pattern = regex.compile(r\"{?[a-z :A-Z 0-9\\\\,=_`']+selfie\")\n",
        "            resul_patt_loan_error = pattern.findall(str_text)\n",
        "            loan_error = resul_patt_loan_error[0].replace(\"\\\\\", \" \")\n",
        "            loan_error = loan_error.replace(\"'name'\", \"name\").replace(\"`\", \"\").replace(\"'18'\", \"18\").replace(\"'monthly'\", \"monthly\")\n",
        "            loan_error = loan_error+'\"}'\n",
        "            loan_error = loan_error.replace(\"\\'\", '\"')\n",
        "            #s_loan_error = json.loads(loan_error)\n",
        "            #s_loan_error.get('sql ')\n",
        "            #s_loan_error.get('code ')\n",
        "            #s_loan_error.get('errno ')\n",
        "            #s_loan_error.get('index ')\n",
        "            #s_loan_error.get('sql ')\n",
        "            #s_loan_error.get('sqlMessage ')\n",
        "            #s_loan_error.get('sqlState ')\n",
        "\n",
        "            try:\n",
        "                type_request_col.append(type_of_request.group(0))\n",
        "            except AttributeError:\n",
        "                type_request_col.append(None)\n",
        "\n",
        "    \n",
        "        elif re.search('OKRA PAYLOAD', str_text): # Nothing\n",
        "          type_of_request = re.search('OKRA PAYLOAD', str_text)\n",
        "        elif re.search('OKRA WEBHOOK', str_text):\n",
        "          type_of_request = re.search('OKRA WEBHOOK', str_text)\n",
        "        elif re.search('OKRA SUCCESS', str_text):   # Nothing\n",
        "          type_of_request = re.search('OKRA SUCCESS', str_text)\n",
        "        elif re.search('VTPASS SUCCESS', str_text):   # Nothing\n",
        "          type_of_request = re.search('VTPASS SUCCESS', str_text)  \n",
        "\n",
        "\n",
        "  type_request_col.append(None)\n",
        "  type_request_col.append(None)\n",
        "\n",
        "  phone_Col.append(None)\n",
        "  phone_Col.append(None)\n",
        "\n",
        "  date_col.append(None)\n",
        "  date_col.append(None)\n",
        "\n",
        "  endpoint_Col.append(None)\n",
        "  endpoint_Col.append(None)\n",
        "\n",
        "\n",
        "\n",
        "\n",
        "  email_col.append(None)\n",
        "  email_col.append(None)\n",
        "\n",
        "  message_sms_payload_col.append(None)\n",
        "  message_sms_payload_col.append(None)\n",
        "\n",
        "  totalsent_col.append(None)\n",
        "  totalsent_col.append(None)\n",
        "\n",
        "  cost_col.append(None)\n",
        "  cost_col.append(None)\n",
        "\n",
        "  status_col.append(None)\n",
        "  status_col.append(None)\n",
        "\n",
        "  account_number_col.append(None)\n",
        "  account_number_col.append(None)\n",
        "\n",
        "  account_name_col.append(None)\n",
        "  account_name_col.append(None)\n",
        "\n",
        "  bvn_col.append(None)\n",
        "  bvn_col.append(None)\n",
        "\n",
        "  requestSuccessful_col.append(None)\n",
        "  requestSuccessful_col.append(None)\n",
        "\n",
        "  responseMessage_col.append(None)\n",
        "  responseMessage_col.append(None)\n",
        "\n",
        "  responseCode_col.append(None)\n",
        "  responseCode_col.append(None)\n",
        "\n",
        "  \n",
        "\n",
        "\n",
        "  df_['Type_Request'] = type_request_col\n",
        "  df_['Phone_Number'] = phone_Col\n",
        "  df_['Date'] = date_col\n",
        "  df_['EndPoint'] = endpoint_Col\n",
        "  df_['Log_Level'] = log_level_col\n",
        "  df_['Email'] = email_col\n",
        "  df_['Message SMS Payload'] = message_sms_payload_col\n",
        "  df_['Total Sent'] = totalsent_col\n",
        "  df_['Cost'] = cost_col\n",
        "  df_['Status'] = status_col\n",
        "  df_['Account Number'] = account_number_col\n",
        "  df_['Account Name'] = account_name_col\n",
        "  df_['BVN'] = bvn_col\n",
        "  df_['Request Successful'] = requestSuccessful_col\n",
        "  df_['Response Message'] = responseMessage_col\n",
        "  df_['Response Code'] = responseCode_col\n",
        "\n",
        "  return df_\n",
        "\n",
        "\n"
      ],
      "execution_count": 121,
      "outputs": []
    },
    {
      "cell_type": "code",
      "metadata": {
        "colab": {
          "base_uri": "https://localhost:8080/",
          "height": 296
        },
        "id": "VviSMB-g3PsG",
        "outputId": "7af93015-5f66-41a9-d3fd-8e9704c7c7ad"
      },
      "source": [
        "df_parserow = parserow(df_raw)\n",
        "df_parserow.head()"
      ],
      "execution_count": 76,
      "outputs": [
        {
          "output_type": "error",
          "ename": "NameError",
          "evalue": "ignored",
          "traceback": [
            "\u001b[0;31m---------------------------------------------------------------------------\u001b[0m",
            "\u001b[0;31mNameError\u001b[0m                                 Traceback (most recent call last)",
            "\u001b[0;32m<ipython-input-76-9214ba941668>\u001b[0m in \u001b[0;36m<module>\u001b[0;34m()\u001b[0m\n\u001b[0;32m----> 1\u001b[0;31m \u001b[0mdf_parserow\u001b[0m \u001b[0;34m=\u001b[0m \u001b[0mparserow\u001b[0m\u001b[0;34m(\u001b[0m\u001b[0mdf_raw\u001b[0m\u001b[0;34m)\u001b[0m\u001b[0;34m\u001b[0m\u001b[0;34m\u001b[0m\u001b[0m\n\u001b[0m\u001b[1;32m      2\u001b[0m \u001b[0mdf_parserow\u001b[0m\u001b[0;34m.\u001b[0m\u001b[0mhead\u001b[0m\u001b[0;34m(\u001b[0m\u001b[0;34m)\u001b[0m\u001b[0;34m\u001b[0m\u001b[0;34m\u001b[0m\u001b[0m\n",
            "\u001b[0;32m<ipython-input-75-a44b52681b98>\u001b[0m in \u001b[0;36mparserow\u001b[0;34m(df_)\u001b[0m\n\u001b[1;32m    300\u001b[0m                     \u001b[0mtype_request_col\u001b[0m\u001b[0;34m.\u001b[0m\u001b[0mappend\u001b[0m\u001b[0;34m(\u001b[0m\u001b[0;32mNone\u001b[0m\u001b[0;34m)\u001b[0m\u001b[0;34m\u001b[0m\u001b[0;34m\u001b[0m\u001b[0m\n\u001b[1;32m    301\u001b[0m             \u001b[0;32melif\u001b[0m \u001b[0mre\u001b[0m\u001b[0;34m.\u001b[0m\u001b[0msearch\u001b[0m\u001b[0;34m(\u001b[0m\u001b[0;34m'LEADWAY SUCCESS'\u001b[0m\u001b[0;34m,\u001b[0m \u001b[0mstr_text\u001b[0m\u001b[0;34m)\u001b[0m\u001b[0;34m:\u001b[0m\u001b[0;34m\u001b[0m\u001b[0;34m\u001b[0m\u001b[0m\n\u001b[0;32m--> 302\u001b[0;31m                   \u001b[0mtext_leadway\u001b[0m \u001b[0;34m=\u001b[0m \u001b[0mparseLeadwaySuccessRow\u001b[0m\u001b[0;34m(\u001b[0m\u001b[0;34m)\u001b[0m\u001b[0;34m\u001b[0m\u001b[0;34m\u001b[0m\u001b[0m\n\u001b[0m\u001b[1;32m    303\u001b[0m                   \u001b[0mprint\u001b[0m\u001b[0;34m(\u001b[0m\u001b[0mtext_leadway\u001b[0m\u001b[0;34m)\u001b[0m\u001b[0;34m\u001b[0m\u001b[0;34m\u001b[0m\u001b[0m\n\u001b[1;32m    304\u001b[0m                   \u001b[0mpattern\u001b[0m \u001b[0;34m=\u001b[0m \u001b[0mregex\u001b[0m\u001b[0;34m.\u001b[0m\u001b[0mcompile\u001b[0m\u001b[0;34m(\u001b[0m\u001b[0;34mr'\\{(?:[^{}]|(?R))*}'\u001b[0m\u001b[0;34m)\u001b[0m\u001b[0;34m\u001b[0m\u001b[0;34m\u001b[0m\u001b[0m\n",
            "\u001b[0;31mNameError\u001b[0m: name 'parseLeadwaySuccessRow' is not defined"
          ]
        }
      ]
    }
  ]
}