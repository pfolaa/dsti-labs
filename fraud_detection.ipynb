{
  "nbformat": 4,
  "nbformat_minor": 0,
  "metadata": {
    "colab": {
      "name": "fraud_detection.ipynb",
      "provenance": [],
      "collapsed_sections": [],
      "authorship_tag": "ABX9TyOiZ++APEmXXtplyVLFnMZN",
      "include_colab_link": true
    },
    "kernelspec": {
      "display_name": "Python 3",
      "name": "python3"
    },
    "language_info": {
      "name": "python"
    }
  },
  "cells": [
    {
      "cell_type": "markdown",
      "metadata": {
        "id": "view-in-github",
        "colab_type": "text"
      },
      "source": [
        "<a href=\"https://colab.research.google.com/github/pfolaa/dsti-labs/blob/main/fraud_detection.ipynb\" target=\"_parent\"><img src=\"https://colab.research.google.com/assets/colab-badge.svg\" alt=\"Open In Colab\"/></a>"
      ]
    },
    {
      "cell_type": "code",
      "metadata": {
        "colab": {
          "base_uri": "https://localhost:8080/"
        },
        "id": "zfrluZHFeoJi",
        "outputId": "4f84ae3d-6db5-4dfd-80b2-4a35224703b7"
      },
      "source": [
        "from google.colab import drive\n",
        "drive.mount('/content/drive')"
      ],
      "execution_count": 1,
      "outputs": [
        {
          "output_type": "stream",
          "name": "stdout",
          "text": [
            "Mounted at /content/drive\n"
          ]
        }
      ]
    },
    {
      "cell_type": "code",
      "metadata": {
        "id": "HDZLS2SVpWRA"
      },
      "source": [
        "import os\n",
        "import glob"
      ],
      "execution_count": 2,
      "outputs": []
    },
    {
      "cell_type": "code",
      "metadata": {
        "colab": {
          "base_uri": "https://localhost:8080/"
        },
        "id": "OXUmQBdjjRSz",
        "outputId": "88ff8a11-2bf7-40c6-a01f-f1caddbdb6ec"
      },
      "source": [
        "#cd /content/drive/MyDrive/datasets/"
      ],
      "execution_count": null,
      "outputs": [
        {
          "output_type": "stream",
          "name": "stdout",
          "text": [
            "/content/drive/MyDrive/datasets\n"
          ]
        }
      ]
    },
    {
      "cell_type": "markdown",
      "metadata": {
        "id": "A647jZGTIVfV"
      },
      "source": [
        "## 1- Data acquisition"
      ]
    },
    {
      "cell_type": "markdown",
      "metadata": {
        "id": "xM0BTYUsH0J7"
      },
      "source": [
        "###1.1- Get files from repository "
      ]
    },
    {
      "cell_type": "code",
      "metadata": {
        "id": "f2XWYG1djOng"
      },
      "source": [
        "#!wget https://liberta-leasing-fraud.s3.eu-west-1.amazonaws.com/nirra-log-bot.zip"
      ],
      "execution_count": 131,
      "outputs": []
    },
    {
      "cell_type": "markdown",
      "metadata": {
        "id": "8ePlT65iHvE8"
      },
      "source": [
        "### 1.2 Extract zip file"
      ]
    },
    {
      "cell_type": "code",
      "metadata": {
        "id": "BY4poFTe_fiZ"
      },
      "source": [
        "from zipfile import ZipFile\n",
        "#ZipFile(\"nirra-log-bot.zip\").extractall('/content/drive/My Drive/datasets/')"
      ],
      "execution_count": null,
      "outputs": []
    },
    {
      "cell_type": "markdown",
      "metadata": {
        "id": "O_Bife_AHmwn"
      },
      "source": [
        "### 1.3 Read all files and insert into a csv file"
      ]
    },
    {
      "cell_type": "code",
      "metadata": {
        "id": "G9kYyZKupaKF"
      },
      "source": [
        "import os,json\n",
        "import pandas as pd\n",
        "\n",
        "# read json file\n",
        "path_to_json = '/content/drive/My Drive/datasets/nirra-log-bot/'\n",
        "\n",
        "# read all json files\n",
        "for file_name in [file for file in os.listdir(path_to_json) if file.endswith('.json')]:\n",
        "  with open(path_to_json + file_name) as json_file:\n",
        "    data = json.load(json_file)\n",
        "    df_raw = pd.DataFrame.from_records(data)\n",
        "\n",
        "# convert file to csv\n",
        "df_raw.to_csv('/content/drive/My Drive/datasets/nirra-log-bot/csv/file_name.csv', sep=';')"
      ],
      "execution_count": 159,
      "outputs": []
    },
    {
      "cell_type": "code",
      "metadata": {
        "colab": {
          "base_uri": "https://localhost:8080/",
          "height": 203
        },
        "id": "F4q9nXruZEeS",
        "outputId": "6c07d83c-4977-425b-dd4c-68c541b2657c"
      },
      "source": [
        "df_raw.head()"
      ],
      "execution_count": 160,
      "outputs": [
        {
          "output_type": "execute_result",
          "data": {
            "text/html": [
              "<div>\n",
              "<style scoped>\n",
              "    .dataframe tbody tr th:only-of-type {\n",
              "        vertical-align: middle;\n",
              "    }\n",
              "\n",
              "    .dataframe tbody tr th {\n",
              "        vertical-align: top;\n",
              "    }\n",
              "\n",
              "    .dataframe thead th {\n",
              "        text-align: right;\n",
              "    }\n",
              "</style>\n",
              "<table border=\"1\" class=\"dataframe\">\n",
              "  <thead>\n",
              "    <tr style=\"text-align: right;\">\n",
              "      <th></th>\n",
              "      <th>type</th>\n",
              "      <th>subtype</th>\n",
              "      <th>text</th>\n",
              "      <th>ts</th>\n",
              "      <th>bot_id</th>\n",
              "    </tr>\n",
              "  </thead>\n",
              "  <tbody>\n",
              "    <tr>\n",
              "      <th>0</th>\n",
              "      <td>message</td>\n",
              "      <td>bot_message</td>\n",
              "      <td>[info] - [\"[OKRA WEBHOOK]:\",\"{\\\"method\\\":\\\"PAY...</td>\n",
              "      <td>1630911747.008800</td>\n",
              "      <td>B01RC3AKYG6</td>\n",
              "    </tr>\n",
              "    <tr>\n",
              "      <th>1</th>\n",
              "      <td>message</td>\n",
              "      <td>bot_message</td>\n",
              "      <td>[info] - [\"[API REQUEST]: 08134676606, /client...</td>\n",
              "      <td>1630911747.008900</td>\n",
              "      <td>B01RC3AKYG6</td>\n",
              "    </tr>\n",
              "    <tr>\n",
              "      <th>2</th>\n",
              "      <td>message</td>\n",
              "      <td>bot_message</td>\n",
              "      <td>[info] - [\"[API REQUEST]: 08134676606, /client...</td>\n",
              "      <td>1630911749.009000</td>\n",
              "      <td>B01RC3AKYG6</td>\n",
              "    </tr>\n",
              "    <tr>\n",
              "      <th>3</th>\n",
              "      <td>message</td>\n",
              "      <td>bot_message</td>\n",
              "      <td>[info] - [\"[API REQUEST]: 08134676606, /client...</td>\n",
              "      <td>1630911754.009100</td>\n",
              "      <td>B01RC3AKYG6</td>\n",
              "    </tr>\n",
              "    <tr>\n",
              "      <th>4</th>\n",
              "      <td>message</td>\n",
              "      <td>bot_message</td>\n",
              "      <td>[info] - [\"[API REQUEST]: 08134676606, /client...</td>\n",
              "      <td>1630911754.009200</td>\n",
              "      <td>B01RC3AKYG6</td>\n",
              "    </tr>\n",
              "  </tbody>\n",
              "</table>\n",
              "</div>"
            ],
            "text/plain": [
              "      type      subtype  ...                 ts       bot_id\n",
              "0  message  bot_message  ...  1630911747.008800  B01RC3AKYG6\n",
              "1  message  bot_message  ...  1630911747.008900  B01RC3AKYG6\n",
              "2  message  bot_message  ...  1630911749.009000  B01RC3AKYG6\n",
              "3  message  bot_message  ...  1630911754.009100  B01RC3AKYG6\n",
              "4  message  bot_message  ...  1630911754.009200  B01RC3AKYG6\n",
              "\n",
              "[5 rows x 5 columns]"
            ]
          },
          "metadata": {},
          "execution_count": 160
        }
      ]
    },
    {
      "cell_type": "markdown",
      "metadata": {
        "id": "1L5hLbakIA9g"
      },
      "source": [
        "### Get total number of @ inside a text column"
      ]
    },
    {
      "cell_type": "code",
      "metadata": {
        "colab": {
          "base_uri": "https://localhost:8080/"
        },
        "id": "l1tAb3ZqNXxk",
        "outputId": "79aab7ef-b4aa-46a3-ceef-21ca93b3b86e"
      },
      "source": [
        " df_raw['text'].str.contains(\"@\").sum() # search total number of @ within text column"
      ],
      "execution_count": 145,
      "outputs": [
        {
          "output_type": "execute_result",
          "data": {
            "text/plain": [
              "37"
            ]
          },
          "metadata": {},
          "execution_count": 145
        }
      ]
    },
    {
      "cell_type": "code",
      "metadata": {
        "colab": {
          "base_uri": "https://localhost:8080/"
        },
        "id": "HeGSk83nO1U4",
        "outputId": "e8ea6b35-ee1a-41ef-b3dc-b222ffe585df"
      },
      "source": [
        "df_raw.info()"
      ],
      "execution_count": 161,
      "outputs": [
        {
          "output_type": "stream",
          "name": "stdout",
          "text": [
            "<class 'pandas.core.frame.DataFrame'>\n",
            "RangeIndex: 4953 entries, 0 to 4952\n",
            "Data columns (total 5 columns):\n",
            " #   Column   Non-Null Count  Dtype \n",
            "---  ------   --------------  ----- \n",
            " 0   type     4953 non-null   object\n",
            " 1   subtype  4953 non-null   object\n",
            " 2   text     4953 non-null   object\n",
            " 3   ts       4953 non-null   object\n",
            " 4   bot_id   4953 non-null   object\n",
            "dtypes: object(5)\n",
            "memory usage: 193.6+ KB\n"
          ]
        }
      ]
    },
    {
      "cell_type": "markdown",
      "metadata": {
        "id": "5h6pXkQwHaf_"
      },
      "source": [
        "### Test a slicing"
      ]
    },
    {
      "cell_type": "code",
      "metadata": {
        "id": "sOYCDMimN7Os"
      },
      "source": [
        "# slicing\n",
        "#df_raw[df_raw['text'].str.contains(\"@\")] # masque à l'intérieur des crochets"
      ],
      "execution_count": 25,
      "outputs": []
    },
    {
      "cell_type": "code",
      "metadata": {
        "colab": {
          "base_uri": "https://localhost:8080/",
          "height": 49
        },
        "id": "7TN5BDtoPudJ",
        "outputId": "50f5fe75-6b87-49a4-8d51-e98f3ea5441f"
      },
      "source": [
        "df_raw[df_raw['text'] == None]"
      ],
      "execution_count": 147,
      "outputs": [
        {
          "output_type": "execute_result",
          "data": {
            "text/html": [
              "<div>\n",
              "<style scoped>\n",
              "    .dataframe tbody tr th:only-of-type {\n",
              "        vertical-align: middle;\n",
              "    }\n",
              "\n",
              "    .dataframe tbody tr th {\n",
              "        vertical-align: top;\n",
              "    }\n",
              "\n",
              "    .dataframe thead th {\n",
              "        text-align: right;\n",
              "    }\n",
              "</style>\n",
              "<table border=\"1\" class=\"dataframe\">\n",
              "  <thead>\n",
              "    <tr style=\"text-align: right;\">\n",
              "      <th></th>\n",
              "      <th>type</th>\n",
              "      <th>subtype</th>\n",
              "      <th>text</th>\n",
              "      <th>ts</th>\n",
              "      <th>bot_id</th>\n",
              "    </tr>\n",
              "  </thead>\n",
              "  <tbody>\n",
              "  </tbody>\n",
              "</table>\n",
              "</div>"
            ],
            "text/plain": [
              "Empty DataFrame\n",
              "Columns: [type, subtype, text, ts, bot_id]\n",
              "Index: []"
            ]
          },
          "metadata": {},
          "execution_count": 147
        }
      ]
    },
    {
      "cell_type": "code",
      "metadata": {
        "id": "e3xuHZOlRjsg"
      },
      "source": [
        ""
      ],
      "execution_count": null,
      "outputs": []
    },
    {
      "cell_type": "markdown",
      "metadata": {
        "id": "FGScI9DACyVX"
      },
      "source": [
        "### Used in case of WALLET SUCCESS"
      ]
    },
    {
      "cell_type": "code",
      "metadata": {
        "colab": {
          "base_uri": "https://localhost:8080/"
        },
        "id": "CapeBj_Wqfkd",
        "outputId": "ec3fe31c-6cea-4349-81ac-057d026fb6cd"
      },
      "source": [
        "# when type request is WALLET SUCCESS\n",
        "import regex\n",
        "import json\n",
        "\n",
        "json_text = df_raw['text'][841]\n",
        "pattern = regex.compile(r'\\{(?:[^{}]|(?R))*}')\n",
        "resul_patt = pattern.findall(json_text)\n",
        "res = resul_patt[0].replace(\"\\\\\", \" \")\n",
        "s = json.loads(res)\n",
        "print(s.get('account_number '))\n",
        "print(s.get('account_name '))\n",
        "print(s.get('bvn '))\n",
        "print(s.get('requestSuccessful '))\n",
        "print(s.get('responseMessage '))\n",
        "print(s.get('responseCode '))\n",
        "\n"
      ],
      "execution_count": 163,
      "outputs": [
        {
          "output_type": "stream",
          "name": "stdout",
          "text": [
            "9980432021 \n",
            "LIBERTA(Kayode  Ajao) \n",
            "22213975706 \n",
            "True\n",
            "Reserved Account Generated Successfully \n",
            "00 \n"
          ]
        }
      ]
    },
    {
      "cell_type": "markdown",
      "metadata": {
        "id": "5lrhVDnQC8Vu"
      },
      "source": [
        "### Used in case of SMS SUCCESS"
      ]
    },
    {
      "cell_type": "code",
      "metadata": {
        "colab": {
          "base_uri": "https://localhost:8080/",
          "height": 86
        },
        "id": "sEst7cNmp41I",
        "outputId": "4a5190e4-d21d-49b3-cd0d-7790242d306b"
      },
      "source": [
        "# use this function when type request is SMS SUCCESS\n",
        "\n",
        "import regex\n",
        "import json\n",
        "\n",
        "json_text = df_raw['text'][12]\n",
        "pattern = regex.compile(r'\\{(?:[^{}]|(?R))*}')\n",
        "resul_patt = pattern.findall(json_text)\n",
        "res = resul_patt[0].replace(\"\\\\\", \" \")\n",
        "\n",
        "s = json.loads(res)\n",
        "cost = s.get('response ').get('cost ')\n",
        "status = s.get('response ').get('status ')\n",
        "totalsent = s.get('response ').get('totalsent ')\n",
        "print(cost)\n",
        "print(status)\n",
        "print(totalsent)\n",
        "res"
      ],
      "execution_count": 164,
      "outputs": [
        {
          "output_type": "stream",
          "name": "stdout",
          "text": [
            "2\n",
            "SUCCESS \n",
            "1\n"
          ]
        },
        {
          "output_type": "execute_result",
          "data": {
            "application/vnd.google.colaboratory.intrinsic+json": {
              "type": "string"
            },
            "text/plain": [
              "'{ \"response \":{ \"status \": \"SUCCESS \", \"totalsent \":1, \"cost \":2}}'"
            ]
          },
          "metadata": {},
          "execution_count": 164
        }
      ]
    },
    {
      "cell_type": "markdown",
      "metadata": {
        "id": "eqOVhKGzDCVB"
      },
      "source": [
        "### Used in case of SMS PAYLOAD"
      ]
    },
    {
      "cell_type": "code",
      "metadata": {
        "colab": {
          "base_uri": "https://localhost:8080/",
          "height": 35
        },
        "id": "4qoa1OOUCDMU",
        "outputId": "766cc2f4-05db-4bab-f15d-897145768911"
      },
      "source": [
        "# use this function when type request is SMS PAYLOAD\n",
        "\n",
        "import regex\n",
        "import json\n",
        "\n",
        "json_text = df_raw['text'][11]\n",
        "pattern = regex.compile(r'\\{(?:[^{}]|(?R))*}')\n",
        "resul_patt = pattern.findall(json_text)\n",
        "res = resul_patt[0].replace(\"\\\\\", \" \")\n",
        "s = json.loads(res)\n",
        "phone_number = s.get('phone ').replace(\" \", \"\")\n",
        "message = s.get('message ')\n",
        "phone_number +' '+ message\n",
        "\n"
      ],
      "execution_count": 165,
      "outputs": [
        {
          "output_type": "execute_result",
          "data": {
            "application/vnd.google.colaboratory.intrinsic+json": {
              "type": "string"
            },
            "text/plain": [
              "'2347035864882 To continue your signup, use this OTP 169 600 '"
            ]
          },
          "metadata": {},
          "execution_count": 165
        }
      ]
    },
    {
      "cell_type": "markdown",
      "metadata": {
        "id": "hxLQChIkYxVc"
      },
      "source": [
        "### Handle row with type request \"LEADWAY SUCCESS\" and concatenate rows"
      ]
    },
    {
      "cell_type": "code",
      "metadata": {
        "id": "S4c-G8ZBYp_Z"
      },
      "source": [
        "import re\n",
        "\n",
        "\n",
        "def parseLeadwaySuccessRow():\n",
        "  first_index = 0\n",
        "  last_index = 0\n",
        "  text_leadway = ''\n",
        "  for index, row in df_raw.iterrows():\n",
        "      text_row = row['text']  \n",
        "      if re.search('LEADWAY SUCCESS', text_row):\n",
        "        text_leadway = text_row\n",
        "        first_index = index\n",
        "        first_index +=1\n",
        "        new_df = df_raw[first_index:]\n",
        "        for first_index, new_row in new_df.iterrows():\n",
        "          xxx = new_row['text']      \n",
        "          if not xxx.startswith('['):          \n",
        "            first_index += 1\n",
        "            text_leadway = text_row + xxx       \n",
        "          elif xxx.startswith('['):\n",
        "            last_index = first_index-1\n",
        "            break\n",
        "\n",
        "\n",
        "  return text_leadway\n"
      ],
      "execution_count": 166,
      "outputs": []
    },
    {
      "cell_type": "markdown",
      "metadata": {
        "id": "3mliPyobDr4k"
      },
      "source": [
        "### Parse row Leadway Success to json"
      ]
    },
    {
      "cell_type": "code",
      "metadata": {
        "id": "H2FJ1cmnDl0A"
      },
      "source": [
        "# use this function when type request is LEADWAY SUCCESS\n",
        "import regex\n",
        "import json\n",
        "\n",
        "text_leadway = parseLeadwaySuccessRow()\n",
        "pattern = regex.compile(r'\\{(?:[^{}]|(?R))*}')\n",
        "resul_patt = pattern.findall(text_leadway)\n",
        "resul_patt[0] = resul_patt[0].replace(\"\\\\\", \"\")\n",
        "x = resul_patt[0].replace(\"make,\", \"\")\n",
        "y = x.replace('\"\"makeName\"', '\"makeName\"')\n",
        "z = json.loads(y)\n",
        "vehicleMake = z.get('vehicleMake')\n",
        "for index in range(len(vehicleMake)):\n",
        "   print(vehicleMake[index].get('id'))\n",
        "   print(vehicleMake[index].get('makeName'))"
      ],
      "execution_count": null,
      "outputs": []
    },
    {
      "cell_type": "code",
      "metadata": {
        "id": "0pgax6H27CZi"
      },
      "source": [
        "res_leadway = parseLeadwaySuccessRow()\n",
        "#res_leadway"
      ],
      "execution_count": 182,
      "outputs": []
    },
    {
      "cell_type": "markdown",
      "metadata": {
        "id": "85TjC7BJDNCI"
      },
      "source": [
        "### Drop concatenated rows!"
      ]
    },
    {
      "cell_type": "code",
      "metadata": {
        "colab": {
          "base_uri": "https://localhost:8080/"
        },
        "id": "w2RjbVPPncVS",
        "outputId": "68b45255-b14e-488a-8e1e-4276d3e1c1fc"
      },
      "source": [
        "df_raw = df_raw.drop(first_index)\n",
        "df_raw = df_raw.drop(last_index)\n",
        "df_raw.info()"
      ],
      "execution_count": 168,
      "outputs": [
        {
          "output_type": "stream",
          "name": "stdout",
          "text": [
            "<class 'pandas.core.frame.DataFrame'>\n",
            "Int64Index: 4951 entries, 0 to 4952\n",
            "Data columns (total 5 columns):\n",
            " #   Column   Non-Null Count  Dtype \n",
            "---  ------   --------------  ----- \n",
            " 0   type     4951 non-null   object\n",
            " 1   subtype  4951 non-null   object\n",
            " 2   text     4951 non-null   object\n",
            " 3   ts       4951 non-null   object\n",
            " 4   bot_id   4951 non-null   object\n",
            "dtypes: object(5)\n",
            "memory usage: 232.1+ KB\n"
          ]
        }
      ]
    },
    {
      "cell_type": "markdown",
      "metadata": {
        "id": "w7HojPnbUTHG"
      },
      "source": [
        "### Check rows that do not start with [ and drop them"
      ]
    },
    {
      "cell_type": "code",
      "metadata": {
        "colab": {
          "base_uri": "https://localhost:8080/"
        },
        "id": "bC5hdRkiP2ng",
        "outputId": "f4f37c8b-024b-4fd5-fb0b-44b95c9a0fac"
      },
      "source": [
        " for index, row in df_raw.iterrows():\n",
        "    str_text_1 = row['text']\n",
        "    if not str_text_1.startswith('['):\n",
        "      df_raw = df_raw.drop(index)\n",
        "\n",
        "df_raw.info()    "
      ],
      "execution_count": 169,
      "outputs": [
        {
          "output_type": "stream",
          "name": "stdout",
          "text": [
            "<class 'pandas.core.frame.DataFrame'>\n",
            "Int64Index: 4946 entries, 0 to 4952\n",
            "Data columns (total 5 columns):\n",
            " #   Column   Non-Null Count  Dtype \n",
            "---  ------   --------------  ----- \n",
            " 0   type     4946 non-null   object\n",
            " 1   subtype  4946 non-null   object\n",
            " 2   text     4946 non-null   object\n",
            " 3   ts       4946 non-null   object\n",
            " 4   bot_id   4946 non-null   object\n",
            "dtypes: object(5)\n",
            "memory usage: 231.8+ KB\n"
          ]
        }
      ]
    },
    {
      "cell_type": "code",
      "metadata": {
        "id": "EuaXg7jNKdxZ"
      },
      "source": [
        ""
      ],
      "execution_count": 24,
      "outputs": []
    },
    {
      "cell_type": "markdown",
      "metadata": {
        "id": "ho5dPdBwml27"
      },
      "source": [
        "### Handle log level \"Error\""
      ]
    },
    {
      "cell_type": "code",
      "metadata": {
        "colab": {
          "base_uri": "https://localhost:8080/"
        },
        "id": "GVdLxBzV4IwL",
        "outputId": "b67670b9-ef1d-468a-edea-b4438292f46d"
      },
      "source": [
        "import regex\n",
        "import json\n",
        "import re\n",
        "\n",
        "json_text = df_raw['text'][2355].replace('\"', \"'\")\n",
        "pattern = regex.compile(r\"{?[a-z :A-Z 0-9\\\\,=_`']+selfie\")\n",
        "resul_patt = pattern.findall(json_text)\n",
        "res = resul_patt[0].replace(\"\\\\\", \" \")\n",
        "res = res.replace(\"'name'\", \"name\").replace(\"`\", \"\").replace(\"'18'\", \"18\").replace(\"'monthly'\", \"monthly\")\n",
        "res = res+'\"}'\n",
        "res = res.replace(\"\\'\", '\"')\n",
        "res\n",
        "s = json.loads(res)\n",
        "print(s.get('sql '))\n",
        "print(s.get('code '))\n",
        "print(s.get('errno '))\n",
        "print(s.get('index '))\n",
        "print(s.get('sqlMessage '))\n",
        "print(s.get('sqlState '))\n"
      ],
      "execution_count": 185,
      "outputs": [
        {
          "output_type": "stream",
          "name": "stdout",
          "text": [
            "INSERT INTO preapplications Set product = 11, loan_amount = 5000, tenor = 1, loan_purpose = 18, tenor_type = monthly, selfie\n",
            "ER_BAD_NULL_ERROR \n",
            "1048\n",
            "0\n",
            "Column name cannot be null \n",
            "23000 \n"
          ]
        }
      ]
    },
    {
      "cell_type": "code",
      "metadata": {
        "id": "oLMS5PrDoPIV"
      },
      "source": [
        "import regex\n",
        "import json\n",
        "\n",
        "def parseErrorRow(error_row):\n",
        "  error_row.replace('\"', \"'\")\n",
        "  pattern = regex.compile(r\"{?[a-z :A-Z 0-9\\\\,=_`']+selfie\")\n",
        "  resul_patt = pattern.findall(error_row)\n",
        "  res = resul_patt[0].replace(\"\\\\\", \" \")\n",
        "  res = res.replace(\"'name'\", \"name\").replace(\"`\", \"\").replace(\"'18'\", \"18\").replace(\"'monthly'\", \"monthly\")\n",
        "  res = res+'\"}'\n",
        "  res = res.replace(\"'\", '\"')\n",
        "  s = json.loads(res)\n",
        "  return s"
      ],
      "execution_count": 172,
      "outputs": []
    },
    {
      "cell_type": "markdown",
      "metadata": {
        "id": "OY9EAlNYIv5x"
      },
      "source": [
        "### Function to convert data to timestamp"
      ]
    },
    {
      "cell_type": "code",
      "metadata": {
        "id": "Fd-prG9NMlJz"
      },
      "source": [
        "import datetime\n",
        "\n",
        "# function to convert date to Timestamp\n",
        "def convertToTimestamp(str):\n",
        "  element = datetime.datetime.strptime(str,\"%Y-%m-%dT%H:%M:%S.%fZ\")\n",
        "  return datetime.datetime.timestamp(element)"
      ],
      "execution_count": 173,
      "outputs": []
    },
    {
      "cell_type": "code",
      "metadata": {
        "id": "l-rZUfpUM3lc",
        "colab": {
          "base_uri": "https://localhost:8080/"
        },
        "outputId": "bc147dae-fa59-4372-d4ba-694a369f6066"
      },
      "source": [
        "timestamp = convertToTimestamp('2021-09-05T07:03:55.223Z')\n",
        "timestamp"
      ],
      "execution_count": 174,
      "outputs": [
        {
          "output_type": "execute_result",
          "data": {
            "text/plain": [
              "1630825435.223"
            ]
          },
          "metadata": {},
          "execution_count": 174
        }
      ]
    },
    {
      "cell_type": "markdown",
      "metadata": {
        "id": "D8TrJS3NHJ6x"
      },
      "source": [
        "## 2 Data model\n",
        "### 2.1 Parse rows of dataset"
      ]
    },
    {
      "cell_type": "code",
      "metadata": {
        "id": "88lZf2qqvQag"
      },
      "source": [
        ""
      ],
      "execution_count": null,
      "outputs": []
    },
    {
      "cell_type": "code",
      "metadata": {
        "id": "jOgUgLTFpx36"
      },
      "source": [
        "import re\n",
        "import regex\n",
        "import json\n",
        "\n",
        "# parse row of text column\n",
        "\n",
        "def parserow(df_):\n",
        "  log_level_col = []\n",
        "  api_request_col = []\n",
        "  type_request_col = []\n",
        "  phone_Col = []\n",
        "  date_col = []\n",
        "  endpoint_Col = []\n",
        "  email_col = []\n",
        "  message_sms_payload_col = []\n",
        "  totalsent_col = []\n",
        "  cost_col = []\n",
        "  status_col = []\n",
        "  account_number_col = []\n",
        "  account_name_col = []\n",
        "  bvn_col = []\n",
        "  requestSuccessful_col = []\n",
        "  responseMessage_col = []\n",
        "  responseCode_col = []\n",
        "  vehicle_make_id_col = []\n",
        "  vehicle_make_name_col = []\n",
        "\n",
        "  for index, row in df_.iterrows():\n",
        "    str_text = row['text']\n",
        "        \n",
        "    # check if the row contains \"info\" string\n",
        "    if re.search('info', str_text):\n",
        "        log_level = re.search('info', str_text)\n",
        "        try:\n",
        "          log_level_col.append(log_level.group(0))\n",
        "        except AttributeError:\n",
        "          log_level_col.append(None)        \n",
        "        # check if the row contains an email address \n",
        "        if 'mailto' in str_text:\n",
        "            if re.search('API REQUEST', str_text):\n",
        "                type_of_request = re.search('API REQUEST', str_text)\n",
        "                phone_or_email = re.search('[\\w.+-]+@[\\w-]+\\.[\\w.-]+', str_text)    # extract address email for API REQUEST               \n",
        "                endpoint = re.search('/[/a-z 0-9?=&;/_A-Z+]+', str_text) # extract endpoint\n",
        "                pattern = \"(\\d{4})-(\\d\\d)-(\\d\\d)T(\\d\\d):(\\d\\d):(\\d\\d).(\\d{3})*[a-zA-Z]\"\n",
        "                datepattern = re.compile(\"(?:%s)\"%(pattern))\n",
        "                datematcher = datepattern.search(str_text)  # extract date\n",
        "                message_sms_payload_col.append(None) # in this case there is no message sms payload \n",
        "                totalsent_col.append(None)\n",
        "                cost_col.append(None)\n",
        "                status_col.append(None)\n",
        "                account_number_col.append(None)\n",
        "                bvn_col.append(None)\n",
        "                requestSuccessful_col.append(None)\n",
        "                responseMessage_col.append(None)\n",
        "                responseCode_col.append(None)\n",
        "                vehicle_make_id_col.append(None)\n",
        "                vehicle_make_name_col.append(None)\n",
        "                account_name_col.append(None)\n",
        "                try:\n",
        "                  type_request_col.append(type_of_request.group(0)) # add type request inside type request column\n",
        "                except AttributeError:\n",
        "                  type_request_col.append(None)               \n",
        "                try:\n",
        "                  email_col.append(phone_or_email.group(0)) # add email inside email column\n",
        "                  phone_Col.append(None)  # in this case there is no phone number\n",
        "                except AttributeError:\n",
        "                  email_col.append(None)\n",
        "                try:\n",
        "                  endpoint_Col.append(endpoint.group(0)) # add endpoint inside endpoint column\n",
        "                except AttributeError:\n",
        "                  endpoint_Col.append(None)\n",
        "                try:\n",
        "                  date_col.append(convertToTimestamp(datematcher.group(0))) # convert date to timestamp and add it inside date column\n",
        "                except AttributeError:\n",
        "                  date_col.append(None)\n",
        "              \n",
        "            elif re.search('CLIENT MOBILE LOGIN', str_text):   # CLIENT MOBILE LOGIN with email address\n",
        "                  type_of_request = re.search('CLIENT MOBILE LOGIN', str_text)\n",
        "                  phone_or_email = re.search('[\\w.+-]+@[\\w-]+\\.[\\w.-]+', str_text)    # extract address email for CLIENT MOBILE LOGIN\n",
        "                  pattern = \"(\\d{4})-(\\d\\d)-(\\d\\d)T(\\d\\d):(\\d\\d):(\\d\\d).(\\d{3})*[a-zA-Z]\"\n",
        "                  datepattern = re.compile(\"(?:%s)\"%(pattern))\n",
        "                  datematcher = datepattern.search(str_text)  # extract date for CLIENT MOBILE LOGIN type request\n",
        "                  message_sms_payload_col.append(None) # in this case there is no message sms payload \n",
        "                  totalsent_col.append(None)\n",
        "                  cost_col.append(None)\n",
        "                  status_col.append(None)\n",
        "                  account_number_col.append(None)\n",
        "                  bvn_col.append(None)\n",
        "                  requestSuccessful_col.append(None)\n",
        "                  responseMessage_col.append(None)\n",
        "                  responseCode_col.append(None)\n",
        "                  vehicle_make_id_col.append(None)\n",
        "                  vehicle_make_name_col.append(None)\n",
        "                  account_name_col.append(None)\n",
        "                  endpoint_Col.append(None)\n",
        "                  try:\n",
        "                    type_request_col.append(type_of_request.group(0)) # add type request inside type request column\n",
        "                  except AttributeError:\n",
        "                    type_request_col.append(None) \n",
        "                  try:\n",
        "                    email_col.append(phone_or_email.group(0)) # add email inside email column\n",
        "                    phone_Col.append(None)  # in this case there is no phone number\n",
        "                  except AttributeError:\n",
        "                    email_col.append(None)\n",
        "                  try:\n",
        "                    date_col.append(convertToTimestamp(datematcher.group(0))) # convert date to timestamp and add it inside date column\n",
        "                  except AttributeError:\n",
        "                    date_col.append(None)\n",
        "\n",
        "        elif 'mailto' not in str_text:\n",
        "            if re.search('API REQUEST', str_text):\n",
        "                type_of_request = re.search('API REQUEST', str_text)\n",
        "                phone_or_email = re.search('[0-9]+', str_text)    # extract a phone number for API REQUEST\n",
        "                endpoint = re.search('/[/a-z 0-9?=&;/_A-Z+]+', str_text) # extract endpoint\n",
        "                pattern = \"(\\d{4})-(\\d\\d)-(\\d\\d)T(\\d\\d):(\\d\\d):(\\d\\d).(\\d{3})*[a-zA-Z]\"\n",
        "                datepattern = re.compile(\"(?:%s)\"%(pattern))\n",
        "                datematcher = datepattern.search(str_text)  # extract date\n",
        "                message_sms_payload_col.append(None) # in this case there is no message sms payload\n",
        "                totalsent_col.append(None)\n",
        "                cost_col.append(None)\n",
        "                status_col.append(None)\n",
        "                account_number_col.append(None)\n",
        "                bvn_col.append(None)\n",
        "                requestSuccessful_col.append(None)\n",
        "                responseMessage_col.append(None)\n",
        "                responseCode_col.append(None)\n",
        "                vehicle_make_id_col.append(None)\n",
        "                vehicle_make_name_col.append(None)\n",
        "                account_name_col.append(None)\n",
        "                try:\n",
        "                  phone_Col.append(phone_or_email.group(0)) # add phone number inside phone number column\n",
        "                  email_col.append(None) # in this case there is no email address\n",
        "                except AttributeError:\n",
        "                  phone_Col.append(None)\n",
        "                try:\n",
        "                  type_request_col.append(type_of_request.group(0))\n",
        "                except AttributeError:\n",
        "                  type_request_col.append(None)\n",
        "                try:\n",
        "                  endpoint_Col.append(endpoint.group(0)) # add endpoint inside endpoint column\n",
        "                except AttributeError:\n",
        "                  endpoint_Col.append(None)\n",
        "                try:\n",
        "                  date_col.append(convertToTimestamp(datematcher.group(0))) # convert date to timestamp and add it inside date column\n",
        "                except AttributeError:\n",
        "                  date_col.append(None)\n",
        "            elif re.search('CLIENT MOBILE LOGIN', str_text): # when type request is CLIENT MOBILE LOGIN, there is no EndPoint\n",
        "                type_of_request = re.search('CLIENT MOBILE LOGIN', str_text)\n",
        "                phone_or_email = re.search('[0-9]+', str_text)    # extract a phone number for CLIENT MOBILE LOGIN\n",
        "                pattern = \"(\\d{4})-(\\d\\d)-(\\d\\d)T(\\d\\d):(\\d\\d):(\\d\\d).(\\d{3})*[a-zA-Z]\"\n",
        "                datepattern = re.compile(\"(?:%s)\"%(pattern))\n",
        "                datematcher = datepattern.search(str_text)  # extract date\n",
        "                endpoint_Col.append(None) # in this case there is no endpoint\n",
        "                message_sms_payload_col.append(None) # in this case there is no message sms payload\n",
        "                email_col.append(None)\n",
        "                totalsent_col.append(None)\n",
        "                cost_col.append(None)\n",
        "                status_col.append(None)\n",
        "                account_number_col.append(None)\n",
        "                bvn_col.append(None)\n",
        "                requestSuccessful_col.append(None)\n",
        "                responseMessage_col.append(None)\n",
        "                responseCode_col.append(None)\n",
        "                vehicle_make_id_col.append(None)\n",
        "                vehicle_make_name_col.append(None)\n",
        "                account_name_col.append(None)\n",
        "                try:\n",
        "                  phone_Col.append(phone_or_email.group(0))\n",
        "                except AttributeError:\n",
        "                  phone_Col.append(None)\n",
        "                try:\n",
        "                  type_request_col.append(type_of_request.group(0))\n",
        "                except AttributeError:\n",
        "                  type_request_col.append(None)\n",
        "                try:\n",
        "                  date_col.append(convertToTimestamp(datematcher.group(0))) # convert date to timestamp and add it inside date column\n",
        "                except AttributeError:\n",
        "                  date_col.append(None)\n",
        "\n",
        "            elif re.search('SMS PAYLOAD', str_text):\n",
        "                type_of_request = re.search('SMS PAYLOAD', str_text)            \n",
        "                pattern = regex.compile(r'\\{(?:[^{}]|(?R))*}')\n",
        "                resul_patt_sms_payload = pattern.findall(str_text)\n",
        "                res_sms_payload = resul_patt_sms_payload[0].replace(\"\\\\\", \" \")\n",
        "                sms_payload = json.loads(res_sms_payload)\n",
        "                phone_number = sms_payload.get('phone ').replace(\" \", \"\")\n",
        "                message = sms_payload.get('message ')\n",
        "                totalsent_col.append(None)\n",
        "                cost_col.append(None)\n",
        "                status_col.append(None)\n",
        "                account_number_col.append(None)\n",
        "                bvn_col.append(None)\n",
        "                requestSuccessful_col.append(None)\n",
        "                responseMessage_col.append(None)\n",
        "                responseCode_col.append(None)\n",
        "                vehicle_make_id_col.append(None)\n",
        "                vehicle_make_name_col.append(None)\n",
        "                account_name_col.append(None)\n",
        "                email_col.append(None)\n",
        "                endpoint_Col.append(None)\n",
        "                date_col.append(None)\n",
        "                try:\n",
        "                  type_request_col.append(type_of_request.group(0))\n",
        "                except AttributeError:\n",
        "                  type_request_col.append(None)\n",
        "                try:\n",
        "                  phone_Col.append(phone_number)\n",
        "                except AttributeError:\n",
        "                  phone_Col.append(None)\n",
        "                try:\n",
        "                  message_sms_payload_col.append(message)\n",
        "                except AttributeError:\n",
        "                  message_sms_payload_col.append(None)\n",
        "                \n",
        "            elif re.search('SMS SUCCESS', str_text): \n",
        "                type_of_request = re.search('SMS SUCCESS', str_text)\n",
        "                pattern = regex.compile(r'\\{(?:[^{}]|(?R))*}')\n",
        "                resul_patt_sms_success = pattern.findall(str_text)\n",
        "                res_sms_success = resul_patt_sms_success[0].replace(\"\\\\\", \" \")\n",
        "                sms_success = json.loads(res_sms_success)\n",
        "                cost = sms_success.get('response ').get('cost ')\n",
        "                status = sms_success.get('response ').get('status ')\n",
        "                totalsent = sms_success.get('response ').get('totalsent ')\n",
        "                message_sms_payload_col.append(None) # in this case there is no message sms payload              \n",
        "                account_number_col.append(None)\n",
        "                bvn_col.append(None)\n",
        "                requestSuccessful_col.append(None)\n",
        "                responseMessage_col.append(None)\n",
        "                responseCode_col.append(None)\n",
        "                vehicle_make_id_col.append(None)\n",
        "                vehicle_make_name_col.append(None)\n",
        "                account_name_col.append(None)\n",
        "                email_col.append(None)\n",
        "                phone_Col.append(None)\n",
        "                endpoint_Col.append(None)\n",
        "                date_col.append(None)\n",
        "                try:\n",
        "                  type_request_col.append(type_of_request.group(0))\n",
        "                except AttributeError:\n",
        "                  type_request_col.append(None)\n",
        "                try:                 \n",
        "                  totalsent_col.append(totalsent)\n",
        "                except AttributeError:\n",
        "                  totalsent_col.append(None)\n",
        "                try:                 \n",
        "                  cost_col.append(cost)\n",
        "                except AttributeError:\n",
        "                  cost_col.append(None)\n",
        "                try:                 \n",
        "                  status_col.append(status)\n",
        "                except AttributeError:\n",
        "                  status_col.append(None)\n",
        "            elif re.search('WALLET PAYLOAD', str_text):\n",
        "                  type_of_request = re.search('WALLET PAYLOAD', str_text)\n",
        "                  message_sms_payload_col.append(None) # in this case there is no message sms payload\n",
        "                  totalsent_col.append(None)\n",
        "                  cost_col.append(None)\n",
        "                  status_col.append(None)\n",
        "                  account_number_col.append(None)\n",
        "                  bvn_col.append(None)\n",
        "                  requestSuccessful_col.append(None)\n",
        "                  responseMessage_col.append(None)\n",
        "                  responseCode_col.append(None)\n",
        "                  vehicle_make_id_col.append(None)\n",
        "                  vehicle_make_name_col.append(None)\n",
        "                  account_name_col.append(None)\n",
        "                  email_col.append(None)\n",
        "                  phone_Col.append(None)\n",
        "                  endpoint_Col.append(None)\n",
        "                  date_col.append(None)\n",
        "                  try:\n",
        "                    type_request_col.append(type_of_request.group(0))\n",
        "                  except AttributeError:\n",
        "                    type_request_col.append(None)\n",
        "            elif re.search('WALLET SUCCESS', str_text):\n",
        "                  type_of_request = re.search('WALLET SUCCESS', str_text)\n",
        "                  pattern = regex.compile(r'\\{(?:[^{}]|(?R))*}')\n",
        "                  resul_patt_wallet_success = pattern.findall(str_text)\n",
        "                  res_wallet_success = resul_patt_wallet_success[0].replace(\"\\\\\", \" \")\n",
        "                  wallet_success = json.loads(res_wallet_success)\n",
        "                  account_number_col.append(wallet_success.get('account_number '))\n",
        "                  account_name_col.append(wallet_success.get('account_name '))\n",
        "                  bvn_col.append(wallet_success.get('bvn '))\n",
        "                  requestSuccessful_col.append(wallet_success.get('requestSuccessful '))\n",
        "                  responseMessage_col.append((wallet_success.get('responseMessage ')))\n",
        "                  responseCode_col.append((wallet_success.get('responseCode ')))\n",
        "                  message_sms_payload_col.append(None) # in this case there is no message sms payload\n",
        "                  totalsent_col.append(None)\n",
        "                  cost_col.append(None)\n",
        "                  status_col.append(None)\n",
        "                  vehicle_make_id_col.append(None)\n",
        "                  vehicle_make_name_col.append(None)\n",
        "                  email_col.append(None)\n",
        "                  phone_Col.append(None)\n",
        "                  endpoint_Col.append(None)\n",
        "                  date_col.append(None)\n",
        "                  try:\n",
        "                    type_request_col.append(type_of_request.group(0))\n",
        "                  except AttributeError:\n",
        "                    type_request_col.append(None)\n",
        "            elif re.search('LEADWAY SUCCESS', str_text):\n",
        "                  text_leadway = parseLeadwaySuccessRow()\n",
        "                  pattern = regex.compile(r'\\{(?:[^{}]|(?R))*}')\n",
        "                  resul_patt_leadway_success = pattern.findall(text_leadway)\n",
        "                  resul_patt_leadway_success[0] = resul_patt_leadway_success[0].replace(\"\\\\\", \"\")\n",
        "                  replace_make = resul_patt_leadway_success[0].replace(\"make,\", \"\")\n",
        "                  replace_makeName = replace_make.replace('\"\"makeName\"', '\"makeName\"')\n",
        "                  leadway_json = json.loads(replace_makeName)\n",
        "                  vehicleMake = leadway_json.get('vehicleMake')\n",
        "                  try:\n",
        "                    type_request_col.append(type_of_request.group(0))\n",
        "                  except AttributeError:\n",
        "                    type_request_col.append(None)\n",
        "                  for index in range(len(vehicleMake)):\n",
        "                      vehicle_make_id_col.append(vehicleMake[index].get('id'))\n",
        "                      vehicle_make_name_col.append(vehicleMake[index].get('makeName'))\n",
        "\n",
        "                  type_of_request = re.search('LEADWAY SUCCESS', str_text)\n",
        "                  message_sms_payload_col.append(None) # in this case there is no message sms payload\n",
        "                  totalsent_col.append(None)\n",
        "                  cost_col.append(None)\n",
        "                  status_col.append(None)\n",
        "                  account_number_col.append(None)\n",
        "                  bvn_col.append(None)\n",
        "                  requestSuccessful_col.append(None)\n",
        "                  responseMessage_col.append(None)\n",
        "                  responseCode_col.append(None)\n",
        "                  account_name_col.append(None)\n",
        "                  email_col.append(None)\n",
        "                  phone_Col.append(None)\n",
        "                  endpoint_Col.append(None)\n",
        "                  date_col.append(None)                    \n",
        "    elif re.search('error', str_text):\n",
        "        log_level = re.search('error', str_text)\n",
        "\n",
        "        message_sms_payload_col.append(None) # in this case there is no message sms payload\n",
        "        totalsent_col.append(None)\n",
        "        cost_col.append(None)\n",
        "        status_col.append(None)\n",
        "        vehicle_make_id_col.append(None)\n",
        "        vehicle_make_name_col.append(None)\n",
        "        email_col.append(None)\n",
        "        phone_Col.append(None)\n",
        "        endpoint_Col.append(None)\n",
        "        date_col.append(None)\n",
        "        bvn_col.append(None)\n",
        "        requestSuccessful_col.append(None)\n",
        "        responseMessage_col.append(None)\n",
        "        responseCode_col.append(None)\n",
        "        account_name_col.append(None)\n",
        "        account_number_col.append(None)\n",
        "        try:\n",
        "          log_level_col.append(log_level.group(0))\n",
        "        except AttributeError:\n",
        "          log_level_col.append(None)\n",
        "\n",
        "        if re.search('LOAN ERROR', str_text):\n",
        "            type_of_request = re.search('LOAN ERROR', str_text)\n",
        "            pattern = regex.compile(r\"{?[a-z :A-Z 0-9\\\\,=_`']+selfie\")\n",
        "            resul_patt_loan_error = pattern.findall(str_text)\n",
        "            loan_error = resul_patt_loan_error[0].replace(\"\\\\\", \" \")\n",
        "            loan_error = loan_error.replace(\"'name'\", \"name\").replace(\"`\", \"\").replace(\"'18'\", \"18\").replace(\"'monthly'\", \"monthly\")\n",
        "            loan_error = loan_error+'\"}'\n",
        "            loan_error = loan_error.replace(\"\\'\", '\"')\n",
        "            s_loan_error = json.loads(loan_error)\n",
        "            s_loan_error.get('sql ')\n",
        "            s_loan_error.get('code ')\n",
        "            s_loan_error.get('errno ')\n",
        "            s_loan_error.get('index ')\n",
        "            s_loan_error.get('sql ')\n",
        "            s_loan_error.get('sqlMessage ')\n",
        "            s_loan_error.get('sqlState ')\n",
        "\n",
        "            try:\n",
        "                type_request_col.append(type_of_request.group(0))\n",
        "            except AttributeError:\n",
        "                type_request_col.append(None)\n",
        "\n",
        "    \n",
        "        elif re.search('OKRA PAYLOAD', str_text): # Nothing\n",
        "          type_of_request = re.search('OKRA PAYLOAD', str_text)\n",
        "        elif re.search('OKRA WEBHOOK', str_text):\n",
        "          type_of_request = re.search('OKRA WEBHOOK', str_text)\n",
        "        elif re.search('OKRA SUCCESS', str_text):   # Nothing\n",
        "          type_of_request = re.search('OKRA SUCCESS', str_text)\n",
        "        elif re.search('VTPASS SUCCESS', str_text):   # Nothing\n",
        "          type_of_request = re.search('VTPASS SUCCESS', str_text)  \n",
        "\n",
        "\n",
        "  type_request_col.append(None)\n",
        "  type_request_col.append(None)\n",
        "\n",
        "  phone_Col.append(None)\n",
        "  phone_Col.append(None)\n",
        "\n",
        "  date_col.append(None)\n",
        "  date_col.append(None)\n",
        "\n",
        "  endpoint_Col.append(None)\n",
        "  endpoint_Col.append(None)\n",
        "\n",
        "\n",
        "\n",
        "\n",
        "  email_col.append(None)\n",
        "  email_col.append(None)\n",
        "\n",
        "  message_sms_payload_col.append(None)\n",
        "  message_sms_payload_col.append(None)\n",
        "\n",
        "  totalsent_col.append(None)\n",
        "  totalsent_col.append(None)\n",
        "\n",
        "  cost_col.append(None)\n",
        "  cost_col.append(None)\n",
        "\n",
        "  status_col.append(None)\n",
        "  status_col.append(None)\n",
        "\n",
        "  account_number_col.append(None)\n",
        "  account_number_col.append(None)\n",
        "\n",
        "  account_name_col.append(None)\n",
        "  account_name_col.append(None)\n",
        "\n",
        "  bvn_col.append(None)\n",
        "  bvn_col.append(None)\n",
        "\n",
        "  requestSuccessful_col.append(None)\n",
        "  requestSuccessful_col.append(None)\n",
        "\n",
        "  responseMessage_col.append(None)\n",
        "  responseMessage_col.append(None)\n",
        "\n",
        "  responseCode_col.append(None)\n",
        "  responseCode_col.append(None)\n",
        "\n",
        "  vehicle_make_id_col.append(None)\n",
        "  vehicle_make_id_col.append(None)\n",
        "  vehicle_make_id_col.append(None)\n",
        "\n",
        "  vehicle_make_name_col.append(None)\n",
        "  vehicle_make_name_col.append(None)\n",
        "  vehicle_make_name_col.append(None)\n",
        "\n",
        "\n",
        "  df_['Type_Request'] = type_request_col\n",
        "  df_['Phone_Number'] = phone_Col\n",
        "  df_['Date'] = date_col\n",
        "  df_['EndPoint'] = endpoint_Col\n",
        "  df_['Log_Level'] = log_level_col\n",
        "  df_['Email'] = email_col\n",
        "  df_['Message SMS Payload'] = message_sms_payload_col\n",
        "  df_['Total Sent'] = totalsent_col\n",
        "  df_['Cost'] = cost_col\n",
        "  df_['Status'] = status_col\n",
        "  df_['Account Number'] = account_number_col\n",
        "  df_['Account Name'] = account_name_col\n",
        "  df_['BVN'] = bvn_col\n",
        "  df_['Request Successful'] = requestSuccessful_col\n",
        "  df_['Response Message'] = responseMessage_col\n",
        "  df_['Response Code'] = responseCode_col\n",
        "  df_['Vehicle Make ID'] = vehicle_make_id_col\n",
        "  df_['Vehicle Make Name'] = vehicle_make_name_col\n",
        "\n",
        "  return df_\n",
        "\n",
        "\n"
      ],
      "execution_count": 186,
      "outputs": []
    },
    {
      "cell_type": "code",
      "metadata": {
        "id": "VviSMB-g3PsG"
      },
      "source": [
        "df_parserow = parserow(df_raw)\n",
        "df_parserow.head()"
      ],
      "execution_count": null,
      "outputs": []
    }
  ]
}